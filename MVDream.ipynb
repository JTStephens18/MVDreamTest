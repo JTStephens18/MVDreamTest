{
  "nbformat": 4,
  "nbformat_minor": 0,
  "metadata": {
    "colab": {
      "provenance": [],
      "mount_file_id": "1fa1DXfuydKvlCUS02g3vmpMFC9xEY7sW",
      "authorship_tag": "ABX9TyOFv03PEB4Q3bls4a/2FTHi",
      "include_colab_link": true
    },
    "kernelspec": {
      "name": "python3",
      "display_name": "Python 3"
    },
    "language_info": {
      "name": "python"
    },
    "widgets": {
      "application/vnd.jupyter.widget-state+json": {
        "109a7d45cb5c46e2a41fe157788897af": {
          "model_module": "@jupyter-widgets/controls",
          "model_name": "HBoxModel",
          "model_module_version": "1.5.0",
          "state": {
            "_dom_classes": [],
            "_model_module": "@jupyter-widgets/controls",
            "_model_module_version": "1.5.0",
            "_model_name": "HBoxModel",
            "_view_count": null,
            "_view_module": "@jupyter-widgets/controls",
            "_view_module_version": "1.5.0",
            "_view_name": "HBoxView",
            "box_style": "",
            "children": [
              "IPY_MODEL_1bee16d1aa294ebb91682716b4b41872",
              "IPY_MODEL_41fe27f4936340eca483524137953f94",
              "IPY_MODEL_06ce8a7e5b1d4d66baef3d38cbf3975d"
            ],
            "layout": "IPY_MODEL_2605964aa84744fcb259223772bcd6d7"
          }
        },
        "1bee16d1aa294ebb91682716b4b41872": {
          "model_module": "@jupyter-widgets/controls",
          "model_name": "HTMLModel",
          "model_module_version": "1.5.0",
          "state": {
            "_dom_classes": [],
            "_model_module": "@jupyter-widgets/controls",
            "_model_module_version": "1.5.0",
            "_model_name": "HTMLModel",
            "_view_count": null,
            "_view_module": "@jupyter-widgets/controls",
            "_view_module_version": "1.5.0",
            "_view_name": "HTMLView",
            "description": "",
            "description_tooltip": null,
            "layout": "IPY_MODEL_86fec048a72648ccb0fb30097878e9ab",
            "placeholder": "​",
            "style": "IPY_MODEL_b24511c2d8ff4863b8672e0da771ab7b",
            "value": "open_clip_pytorch_model.bin: 100%"
          }
        },
        "41fe27f4936340eca483524137953f94": {
          "model_module": "@jupyter-widgets/controls",
          "model_name": "FloatProgressModel",
          "model_module_version": "1.5.0",
          "state": {
            "_dom_classes": [],
            "_model_module": "@jupyter-widgets/controls",
            "_model_module_version": "1.5.0",
            "_model_name": "FloatProgressModel",
            "_view_count": null,
            "_view_module": "@jupyter-widgets/controls",
            "_view_module_version": "1.5.0",
            "_view_name": "ProgressView",
            "bar_style": "success",
            "description": "",
            "description_tooltip": null,
            "layout": "IPY_MODEL_e5ad4c2bf2c04086ba19af54a77c7c28",
            "max": 3944692325,
            "min": 0,
            "orientation": "horizontal",
            "style": "IPY_MODEL_6d160f40ae784ae2a3d7ab84012d5cd2",
            "value": 3944692325
          }
        },
        "06ce8a7e5b1d4d66baef3d38cbf3975d": {
          "model_module": "@jupyter-widgets/controls",
          "model_name": "HTMLModel",
          "model_module_version": "1.5.0",
          "state": {
            "_dom_classes": [],
            "_model_module": "@jupyter-widgets/controls",
            "_model_module_version": "1.5.0",
            "_model_name": "HTMLModel",
            "_view_count": null,
            "_view_module": "@jupyter-widgets/controls",
            "_view_module_version": "1.5.0",
            "_view_name": "HTMLView",
            "description": "",
            "description_tooltip": null,
            "layout": "IPY_MODEL_8d77ea7f58464287b8863b4afdfc7653",
            "placeholder": "​",
            "style": "IPY_MODEL_cb0a911018c44bb0ba4f658799434bb6",
            "value": " 3.94G/3.94G [01:00&lt;00:00, 126MB/s]"
          }
        },
        "2605964aa84744fcb259223772bcd6d7": {
          "model_module": "@jupyter-widgets/base",
          "model_name": "LayoutModel",
          "model_module_version": "1.2.0",
          "state": {
            "_model_module": "@jupyter-widgets/base",
            "_model_module_version": "1.2.0",
            "_model_name": "LayoutModel",
            "_view_count": null,
            "_view_module": "@jupyter-widgets/base",
            "_view_module_version": "1.2.0",
            "_view_name": "LayoutView",
            "align_content": null,
            "align_items": null,
            "align_self": null,
            "border": null,
            "bottom": null,
            "display": null,
            "flex": null,
            "flex_flow": null,
            "grid_area": null,
            "grid_auto_columns": null,
            "grid_auto_flow": null,
            "grid_auto_rows": null,
            "grid_column": null,
            "grid_gap": null,
            "grid_row": null,
            "grid_template_areas": null,
            "grid_template_columns": null,
            "grid_template_rows": null,
            "height": null,
            "justify_content": null,
            "justify_items": null,
            "left": null,
            "margin": null,
            "max_height": null,
            "max_width": null,
            "min_height": null,
            "min_width": null,
            "object_fit": null,
            "object_position": null,
            "order": null,
            "overflow": null,
            "overflow_x": null,
            "overflow_y": null,
            "padding": null,
            "right": null,
            "top": null,
            "visibility": null,
            "width": null
          }
        },
        "86fec048a72648ccb0fb30097878e9ab": {
          "model_module": "@jupyter-widgets/base",
          "model_name": "LayoutModel",
          "model_module_version": "1.2.0",
          "state": {
            "_model_module": "@jupyter-widgets/base",
            "_model_module_version": "1.2.0",
            "_model_name": "LayoutModel",
            "_view_count": null,
            "_view_module": "@jupyter-widgets/base",
            "_view_module_version": "1.2.0",
            "_view_name": "LayoutView",
            "align_content": null,
            "align_items": null,
            "align_self": null,
            "border": null,
            "bottom": null,
            "display": null,
            "flex": null,
            "flex_flow": null,
            "grid_area": null,
            "grid_auto_columns": null,
            "grid_auto_flow": null,
            "grid_auto_rows": null,
            "grid_column": null,
            "grid_gap": null,
            "grid_row": null,
            "grid_template_areas": null,
            "grid_template_columns": null,
            "grid_template_rows": null,
            "height": null,
            "justify_content": null,
            "justify_items": null,
            "left": null,
            "margin": null,
            "max_height": null,
            "max_width": null,
            "min_height": null,
            "min_width": null,
            "object_fit": null,
            "object_position": null,
            "order": null,
            "overflow": null,
            "overflow_x": null,
            "overflow_y": null,
            "padding": null,
            "right": null,
            "top": null,
            "visibility": null,
            "width": null
          }
        },
        "b24511c2d8ff4863b8672e0da771ab7b": {
          "model_module": "@jupyter-widgets/controls",
          "model_name": "DescriptionStyleModel",
          "model_module_version": "1.5.0",
          "state": {
            "_model_module": "@jupyter-widgets/controls",
            "_model_module_version": "1.5.0",
            "_model_name": "DescriptionStyleModel",
            "_view_count": null,
            "_view_module": "@jupyter-widgets/base",
            "_view_module_version": "1.2.0",
            "_view_name": "StyleView",
            "description_width": ""
          }
        },
        "e5ad4c2bf2c04086ba19af54a77c7c28": {
          "model_module": "@jupyter-widgets/base",
          "model_name": "LayoutModel",
          "model_module_version": "1.2.0",
          "state": {
            "_model_module": "@jupyter-widgets/base",
            "_model_module_version": "1.2.0",
            "_model_name": "LayoutModel",
            "_view_count": null,
            "_view_module": "@jupyter-widgets/base",
            "_view_module_version": "1.2.0",
            "_view_name": "LayoutView",
            "align_content": null,
            "align_items": null,
            "align_self": null,
            "border": null,
            "bottom": null,
            "display": null,
            "flex": null,
            "flex_flow": null,
            "grid_area": null,
            "grid_auto_columns": null,
            "grid_auto_flow": null,
            "grid_auto_rows": null,
            "grid_column": null,
            "grid_gap": null,
            "grid_row": null,
            "grid_template_areas": null,
            "grid_template_columns": null,
            "grid_template_rows": null,
            "height": null,
            "justify_content": null,
            "justify_items": null,
            "left": null,
            "margin": null,
            "max_height": null,
            "max_width": null,
            "min_height": null,
            "min_width": null,
            "object_fit": null,
            "object_position": null,
            "order": null,
            "overflow": null,
            "overflow_x": null,
            "overflow_y": null,
            "padding": null,
            "right": null,
            "top": null,
            "visibility": null,
            "width": null
          }
        },
        "6d160f40ae784ae2a3d7ab84012d5cd2": {
          "model_module": "@jupyter-widgets/controls",
          "model_name": "ProgressStyleModel",
          "model_module_version": "1.5.0",
          "state": {
            "_model_module": "@jupyter-widgets/controls",
            "_model_module_version": "1.5.0",
            "_model_name": "ProgressStyleModel",
            "_view_count": null,
            "_view_module": "@jupyter-widgets/base",
            "_view_module_version": "1.2.0",
            "_view_name": "StyleView",
            "bar_color": null,
            "description_width": ""
          }
        },
        "8d77ea7f58464287b8863b4afdfc7653": {
          "model_module": "@jupyter-widgets/base",
          "model_name": "LayoutModel",
          "model_module_version": "1.2.0",
          "state": {
            "_model_module": "@jupyter-widgets/base",
            "_model_module_version": "1.2.0",
            "_model_name": "LayoutModel",
            "_view_count": null,
            "_view_module": "@jupyter-widgets/base",
            "_view_module_version": "1.2.0",
            "_view_name": "LayoutView",
            "align_content": null,
            "align_items": null,
            "align_self": null,
            "border": null,
            "bottom": null,
            "display": null,
            "flex": null,
            "flex_flow": null,
            "grid_area": null,
            "grid_auto_columns": null,
            "grid_auto_flow": null,
            "grid_auto_rows": null,
            "grid_column": null,
            "grid_gap": null,
            "grid_row": null,
            "grid_template_areas": null,
            "grid_template_columns": null,
            "grid_template_rows": null,
            "height": null,
            "justify_content": null,
            "justify_items": null,
            "left": null,
            "margin": null,
            "max_height": null,
            "max_width": null,
            "min_height": null,
            "min_width": null,
            "object_fit": null,
            "object_position": null,
            "order": null,
            "overflow": null,
            "overflow_x": null,
            "overflow_y": null,
            "padding": null,
            "right": null,
            "top": null,
            "visibility": null,
            "width": null
          }
        },
        "cb0a911018c44bb0ba4f658799434bb6": {
          "model_module": "@jupyter-widgets/controls",
          "model_name": "DescriptionStyleModel",
          "model_module_version": "1.5.0",
          "state": {
            "_model_module": "@jupyter-widgets/controls",
            "_model_module_version": "1.5.0",
            "_model_name": "DescriptionStyleModel",
            "_view_count": null,
            "_view_module": "@jupyter-widgets/base",
            "_view_module_version": "1.2.0",
            "_view_name": "StyleView",
            "description_width": ""
          }
        },
        "38934a93c8d64f23bd9a0e17d96b4213": {
          "model_module": "@jupyter-widgets/controls",
          "model_name": "HBoxModel",
          "model_module_version": "1.5.0",
          "state": {
            "_dom_classes": [],
            "_model_module": "@jupyter-widgets/controls",
            "_model_module_version": "1.5.0",
            "_model_name": "HBoxModel",
            "_view_count": null,
            "_view_module": "@jupyter-widgets/controls",
            "_view_module_version": "1.5.0",
            "_view_name": "HBoxView",
            "box_style": "",
            "children": [
              "IPY_MODEL_99accb251561473397d37c6f9e347288",
              "IPY_MODEL_7a7b288e7fc14daf9c7ac5dfd6944594",
              "IPY_MODEL_fd1c1762fc8f4afeb31d672d75bf0109"
            ],
            "layout": "IPY_MODEL_a12b5e29feee46bb8fee3ba293f60a93"
          }
        },
        "99accb251561473397d37c6f9e347288": {
          "model_module": "@jupyter-widgets/controls",
          "model_name": "HTMLModel",
          "model_module_version": "1.5.0",
          "state": {
            "_dom_classes": [],
            "_model_module": "@jupyter-widgets/controls",
            "_model_module_version": "1.5.0",
            "_model_name": "HTMLModel",
            "_view_count": null,
            "_view_module": "@jupyter-widgets/controls",
            "_view_module_version": "1.5.0",
            "_view_name": "HTMLView",
            "description": "",
            "description_tooltip": null,
            "layout": "IPY_MODEL_5e287e4eebba4733951655bd1498911e",
            "placeholder": "​",
            "style": "IPY_MODEL_b5c49feacb1445da88d8524aad8812d0",
            "value": "sd-v2.1-base-4view.pt: 100%"
          }
        },
        "7a7b288e7fc14daf9c7ac5dfd6944594": {
          "model_module": "@jupyter-widgets/controls",
          "model_name": "FloatProgressModel",
          "model_module_version": "1.5.0",
          "state": {
            "_dom_classes": [],
            "_model_module": "@jupyter-widgets/controls",
            "_model_module_version": "1.5.0",
            "_model_name": "FloatProgressModel",
            "_view_count": null,
            "_view_module": "@jupyter-widgets/controls",
            "_view_module_version": "1.5.0",
            "_view_name": "ProgressView",
            "bar_style": "success",
            "description": "",
            "description_tooltip": null,
            "layout": "IPY_MODEL_a419aa4521034e71a3c1987bc83cc3fd",
            "max": 5221505321,
            "min": 0,
            "orientation": "horizontal",
            "style": "IPY_MODEL_8fd13dedd4294df896ceb89dd59323ae",
            "value": 5221505321
          }
        },
        "fd1c1762fc8f4afeb31d672d75bf0109": {
          "model_module": "@jupyter-widgets/controls",
          "model_name": "HTMLModel",
          "model_module_version": "1.5.0",
          "state": {
            "_dom_classes": [],
            "_model_module": "@jupyter-widgets/controls",
            "_model_module_version": "1.5.0",
            "_model_name": "HTMLModel",
            "_view_count": null,
            "_view_module": "@jupyter-widgets/controls",
            "_view_module_version": "1.5.0",
            "_view_name": "HTMLView",
            "description": "",
            "description_tooltip": null,
            "layout": "IPY_MODEL_a80314006521452ab2ab82f60df28b53",
            "placeholder": "​",
            "style": "IPY_MODEL_8cb04f1ab7b947f986d8d7e6e20e9936",
            "value": " 5.22G/5.22G [01:24&lt;00:00, 118MB/s]"
          }
        },
        "a12b5e29feee46bb8fee3ba293f60a93": {
          "model_module": "@jupyter-widgets/base",
          "model_name": "LayoutModel",
          "model_module_version": "1.2.0",
          "state": {
            "_model_module": "@jupyter-widgets/base",
            "_model_module_version": "1.2.0",
            "_model_name": "LayoutModel",
            "_view_count": null,
            "_view_module": "@jupyter-widgets/base",
            "_view_module_version": "1.2.0",
            "_view_name": "LayoutView",
            "align_content": null,
            "align_items": null,
            "align_self": null,
            "border": null,
            "bottom": null,
            "display": null,
            "flex": null,
            "flex_flow": null,
            "grid_area": null,
            "grid_auto_columns": null,
            "grid_auto_flow": null,
            "grid_auto_rows": null,
            "grid_column": null,
            "grid_gap": null,
            "grid_row": null,
            "grid_template_areas": null,
            "grid_template_columns": null,
            "grid_template_rows": null,
            "height": null,
            "justify_content": null,
            "justify_items": null,
            "left": null,
            "margin": null,
            "max_height": null,
            "max_width": null,
            "min_height": null,
            "min_width": null,
            "object_fit": null,
            "object_position": null,
            "order": null,
            "overflow": null,
            "overflow_x": null,
            "overflow_y": null,
            "padding": null,
            "right": null,
            "top": null,
            "visibility": null,
            "width": null
          }
        },
        "5e287e4eebba4733951655bd1498911e": {
          "model_module": "@jupyter-widgets/base",
          "model_name": "LayoutModel",
          "model_module_version": "1.2.0",
          "state": {
            "_model_module": "@jupyter-widgets/base",
            "_model_module_version": "1.2.0",
            "_model_name": "LayoutModel",
            "_view_count": null,
            "_view_module": "@jupyter-widgets/base",
            "_view_module_version": "1.2.0",
            "_view_name": "LayoutView",
            "align_content": null,
            "align_items": null,
            "align_self": null,
            "border": null,
            "bottom": null,
            "display": null,
            "flex": null,
            "flex_flow": null,
            "grid_area": null,
            "grid_auto_columns": null,
            "grid_auto_flow": null,
            "grid_auto_rows": null,
            "grid_column": null,
            "grid_gap": null,
            "grid_row": null,
            "grid_template_areas": null,
            "grid_template_columns": null,
            "grid_template_rows": null,
            "height": null,
            "justify_content": null,
            "justify_items": null,
            "left": null,
            "margin": null,
            "max_height": null,
            "max_width": null,
            "min_height": null,
            "min_width": null,
            "object_fit": null,
            "object_position": null,
            "order": null,
            "overflow": null,
            "overflow_x": null,
            "overflow_y": null,
            "padding": null,
            "right": null,
            "top": null,
            "visibility": null,
            "width": null
          }
        },
        "b5c49feacb1445da88d8524aad8812d0": {
          "model_module": "@jupyter-widgets/controls",
          "model_name": "DescriptionStyleModel",
          "model_module_version": "1.5.0",
          "state": {
            "_model_module": "@jupyter-widgets/controls",
            "_model_module_version": "1.5.0",
            "_model_name": "DescriptionStyleModel",
            "_view_count": null,
            "_view_module": "@jupyter-widgets/base",
            "_view_module_version": "1.2.0",
            "_view_name": "StyleView",
            "description_width": ""
          }
        },
        "a419aa4521034e71a3c1987bc83cc3fd": {
          "model_module": "@jupyter-widgets/base",
          "model_name": "LayoutModel",
          "model_module_version": "1.2.0",
          "state": {
            "_model_module": "@jupyter-widgets/base",
            "_model_module_version": "1.2.0",
            "_model_name": "LayoutModel",
            "_view_count": null,
            "_view_module": "@jupyter-widgets/base",
            "_view_module_version": "1.2.0",
            "_view_name": "LayoutView",
            "align_content": null,
            "align_items": null,
            "align_self": null,
            "border": null,
            "bottom": null,
            "display": null,
            "flex": null,
            "flex_flow": null,
            "grid_area": null,
            "grid_auto_columns": null,
            "grid_auto_flow": null,
            "grid_auto_rows": null,
            "grid_column": null,
            "grid_gap": null,
            "grid_row": null,
            "grid_template_areas": null,
            "grid_template_columns": null,
            "grid_template_rows": null,
            "height": null,
            "justify_content": null,
            "justify_items": null,
            "left": null,
            "margin": null,
            "max_height": null,
            "max_width": null,
            "min_height": null,
            "min_width": null,
            "object_fit": null,
            "object_position": null,
            "order": null,
            "overflow": null,
            "overflow_x": null,
            "overflow_y": null,
            "padding": null,
            "right": null,
            "top": null,
            "visibility": null,
            "width": null
          }
        },
        "8fd13dedd4294df896ceb89dd59323ae": {
          "model_module": "@jupyter-widgets/controls",
          "model_name": "ProgressStyleModel",
          "model_module_version": "1.5.0",
          "state": {
            "_model_module": "@jupyter-widgets/controls",
            "_model_module_version": "1.5.0",
            "_model_name": "ProgressStyleModel",
            "_view_count": null,
            "_view_module": "@jupyter-widgets/base",
            "_view_module_version": "1.2.0",
            "_view_name": "StyleView",
            "bar_color": null,
            "description_width": ""
          }
        },
        "a80314006521452ab2ab82f60df28b53": {
          "model_module": "@jupyter-widgets/base",
          "model_name": "LayoutModel",
          "model_module_version": "1.2.0",
          "state": {
            "_model_module": "@jupyter-widgets/base",
            "_model_module_version": "1.2.0",
            "_model_name": "LayoutModel",
            "_view_count": null,
            "_view_module": "@jupyter-widgets/base",
            "_view_module_version": "1.2.0",
            "_view_name": "LayoutView",
            "align_content": null,
            "align_items": null,
            "align_self": null,
            "border": null,
            "bottom": null,
            "display": null,
            "flex": null,
            "flex_flow": null,
            "grid_area": null,
            "grid_auto_columns": null,
            "grid_auto_flow": null,
            "grid_auto_rows": null,
            "grid_column": null,
            "grid_gap": null,
            "grid_row": null,
            "grid_template_areas": null,
            "grid_template_columns": null,
            "grid_template_rows": null,
            "height": null,
            "justify_content": null,
            "justify_items": null,
            "left": null,
            "margin": null,
            "max_height": null,
            "max_width": null,
            "min_height": null,
            "min_width": null,
            "object_fit": null,
            "object_position": null,
            "order": null,
            "overflow": null,
            "overflow_x": null,
            "overflow_y": null,
            "padding": null,
            "right": null,
            "top": null,
            "visibility": null,
            "width": null
          }
        },
        "8cb04f1ab7b947f986d8d7e6e20e9936": {
          "model_module": "@jupyter-widgets/controls",
          "model_name": "DescriptionStyleModel",
          "model_module_version": "1.5.0",
          "state": {
            "_model_module": "@jupyter-widgets/controls",
            "_model_module_version": "1.5.0",
            "_model_name": "DescriptionStyleModel",
            "_view_count": null,
            "_view_module": "@jupyter-widgets/base",
            "_view_module_version": "1.2.0",
            "_view_name": "StyleView",
            "description_width": ""
          }
        }
      }
    }
  },
  "cells": [
    {
      "cell_type": "markdown",
      "metadata": {
        "id": "view-in-github",
        "colab_type": "text"
      },
      "source": [
        "<a href=\"https://colab.research.google.com/github/JTStephens18/MVDreamTest/blob/main/MVDream.ipynb\" target=\"_parent\"><img src=\"https://colab.research.google.com/assets/colab-badge.svg\" alt=\"Open In Colab\"/></a>"
      ]
    },
    {
      "cell_type": "code",
      "source": [
        "!pip install git+https://github.com/bytedance/MVDream"
      ],
      "metadata": {
        "colab": {
          "base_uri": "https://localhost:8080/",
          "height": 1000
        },
        "id": "NCZryh54xfAL",
        "outputId": "9e193893-8ded-48e6-c73b-906d6d5c62f5"
      },
      "execution_count": 1,
      "outputs": [
        {
          "output_type": "stream",
          "name": "stdout",
          "text": [
            "Collecting git+https://github.com/bytedance/MVDream\n",
            "  Cloning https://github.com/bytedance/MVDream to /tmp/pip-req-build-ojpdp145\n",
            "  Running command git clone --filter=blob:none --quiet https://github.com/bytedance/MVDream /tmp/pip-req-build-ojpdp145\n",
            "  Resolved https://github.com/bytedance/MVDream to commit 618f84476c88e04adaf588133be2830142b9956d\n",
            "  Preparing metadata (setup.py) ... \u001b[?25l\u001b[?25hdone\n",
            "Requirement already satisfied: torch in /usr/local/lib/python3.10/dist-packages (from mvdream==0.0.1) (2.2.1+cu121)\n",
            "Requirement already satisfied: numpy in /usr/local/lib/python3.10/dist-packages (from mvdream==0.0.1) (1.25.2)\n",
            "Requirement already satisfied: tqdm in /usr/local/lib/python3.10/dist-packages (from mvdream==0.0.1) (4.66.2)\n",
            "Collecting omegaconf (from mvdream==0.0.1)\n",
            "  Downloading omegaconf-2.3.0-py3-none-any.whl (79 kB)\n",
            "\u001b[2K     \u001b[90m━━━━━━━━━━━━━━━━━━━━━━━━━━━━━━━━━━━━━━━━\u001b[0m \u001b[32m79.5/79.5 kB\u001b[0m \u001b[31m561.5 kB/s\u001b[0m eta \u001b[36m0:00:00\u001b[0m\n",
            "\u001b[?25hCollecting einops (from mvdream==0.0.1)\n",
            "  Downloading einops-0.7.0-py3-none-any.whl (44 kB)\n",
            "\u001b[2K     \u001b[90m━━━━━━━━━━━━━━━━━━━━━━━━━━━━━━━━━━━━━━━━\u001b[0m \u001b[32m44.6/44.6 kB\u001b[0m \u001b[31m3.1 MB/s\u001b[0m eta \u001b[36m0:00:00\u001b[0m\n",
            "\u001b[?25hRequirement already satisfied: huggingface_hub in /usr/local/lib/python3.10/dist-packages (from mvdream==0.0.1) (0.20.3)\n",
            "Requirement already satisfied: transformers in /usr/local/lib/python3.10/dist-packages (from mvdream==0.0.1) (4.38.2)\n",
            "Collecting open-clip-torch (from mvdream==0.0.1)\n",
            "  Downloading open_clip_torch-2.24.0-py3-none-any.whl (1.5 MB)\n",
            "\u001b[2K     \u001b[90m━━━━━━━━━━━━━━━━━━━━━━━━━━━━━━━━━━━━━━━━\u001b[0m \u001b[32m1.5/1.5 MB\u001b[0m \u001b[31m5.9 MB/s\u001b[0m eta \u001b[36m0:00:00\u001b[0m\n",
            "\u001b[?25hRequirement already satisfied: filelock in /usr/local/lib/python3.10/dist-packages (from huggingface_hub->mvdream==0.0.1) (3.13.3)\n",
            "Requirement already satisfied: fsspec>=2023.5.0 in /usr/local/lib/python3.10/dist-packages (from huggingface_hub->mvdream==0.0.1) (2023.6.0)\n",
            "Requirement already satisfied: requests in /usr/local/lib/python3.10/dist-packages (from huggingface_hub->mvdream==0.0.1) (2.31.0)\n",
            "Requirement already satisfied: pyyaml>=5.1 in /usr/local/lib/python3.10/dist-packages (from huggingface_hub->mvdream==0.0.1) (6.0.1)\n",
            "Requirement already satisfied: typing-extensions>=3.7.4.3 in /usr/local/lib/python3.10/dist-packages (from huggingface_hub->mvdream==0.0.1) (4.10.0)\n",
            "Requirement already satisfied: packaging>=20.9 in /usr/local/lib/python3.10/dist-packages (from huggingface_hub->mvdream==0.0.1) (24.0)\n",
            "Collecting antlr4-python3-runtime==4.9.* (from omegaconf->mvdream==0.0.1)\n",
            "  Downloading antlr4-python3-runtime-4.9.3.tar.gz (117 kB)\n",
            "\u001b[2K     \u001b[90m━━━━━━━━━━━━━━━━━━━━━━━━━━━━━━━━━━━━━━━━\u001b[0m \u001b[32m117.0/117.0 kB\u001b[0m \u001b[31m6.1 MB/s\u001b[0m eta \u001b[36m0:00:00\u001b[0m\n",
            "\u001b[?25h  Preparing metadata (setup.py) ... \u001b[?25l\u001b[?25hdone\n",
            "Requirement already satisfied: torchvision in /usr/local/lib/python3.10/dist-packages (from open-clip-torch->mvdream==0.0.1) (0.17.1+cu121)\n",
            "Requirement already satisfied: regex in /usr/local/lib/python3.10/dist-packages (from open-clip-torch->mvdream==0.0.1) (2023.12.25)\n",
            "Collecting ftfy (from open-clip-torch->mvdream==0.0.1)\n",
            "  Downloading ftfy-6.2.0-py3-none-any.whl (54 kB)\n",
            "\u001b[2K     \u001b[90m━━━━━━━━━━━━━━━━━━━━━━━━━━━━━━━━━━━━━━━━\u001b[0m \u001b[32m54.4/54.4 kB\u001b[0m \u001b[31m561.1 kB/s\u001b[0m eta \u001b[36m0:00:00\u001b[0m\n",
            "\u001b[?25hRequirement already satisfied: sentencepiece in /usr/local/lib/python3.10/dist-packages (from open-clip-torch->mvdream==0.0.1) (0.1.99)\n",
            "Requirement already satisfied: protobuf in /usr/local/lib/python3.10/dist-packages (from open-clip-torch->mvdream==0.0.1) (3.20.3)\n",
            "Collecting timm (from open-clip-torch->mvdream==0.0.1)\n",
            "  Downloading timm-0.9.16-py3-none-any.whl (2.2 MB)\n",
            "\u001b[2K     \u001b[90m━━━━━━━━━━━━━━━━━━━━━━━━━━━━━━━━━━━━━━━━\u001b[0m \u001b[32m2.2/2.2 MB\u001b[0m \u001b[31m6.8 MB/s\u001b[0m eta \u001b[36m0:00:00\u001b[0m\n",
            "\u001b[?25hRequirement already satisfied: sympy in /usr/local/lib/python3.10/dist-packages (from torch->mvdream==0.0.1) (1.12)\n",
            "Requirement already satisfied: networkx in /usr/local/lib/python3.10/dist-packages (from torch->mvdream==0.0.1) (3.2.1)\n",
            "Requirement already satisfied: jinja2 in /usr/local/lib/python3.10/dist-packages (from torch->mvdream==0.0.1) (3.1.3)\n",
            "Collecting nvidia-cuda-nvrtc-cu12==12.1.105 (from torch->mvdream==0.0.1)\n",
            "  Downloading nvidia_cuda_nvrtc_cu12-12.1.105-py3-none-manylinux1_x86_64.whl (23.7 MB)\n",
            "\u001b[2K     \u001b[90m━━━━━━━━━━━━━━━━━━━━━━━━━━━━━━━━━━━━━━━━\u001b[0m \u001b[32m23.7/23.7 MB\u001b[0m \u001b[31m486.3 kB/s\u001b[0m eta \u001b[36m0:00:00\u001b[0m\n",
            "\u001b[?25hCollecting nvidia-cuda-runtime-cu12==12.1.105 (from torch->mvdream==0.0.1)\n",
            "  Downloading nvidia_cuda_runtime_cu12-12.1.105-py3-none-manylinux1_x86_64.whl (823 kB)\n",
            "\u001b[2K     \u001b[90m━━━━━━━━━━━━━━━━━━━━━━━━━━━━━━━━━━━━━━━━\u001b[0m \u001b[32m823.6/823.6 kB\u001b[0m \u001b[31m690.8 kB/s\u001b[0m eta \u001b[36m0:00:00\u001b[0m\n",
            "\u001b[?25hCollecting nvidia-cuda-cupti-cu12==12.1.105 (from torch->mvdream==0.0.1)\n",
            "  Downloading nvidia_cuda_cupti_cu12-12.1.105-py3-none-manylinux1_x86_64.whl (14.1 MB)\n",
            "\u001b[2K     \u001b[90m━━━━━━━━━━━━━━━━━━━━━━━━━━━━━━━━━━━━━━━━\u001b[0m \u001b[32m14.1/14.1 MB\u001b[0m \u001b[31m582.2 kB/s\u001b[0m eta \u001b[36m0:00:00\u001b[0m\n",
            "\u001b[?25hCollecting nvidia-cudnn-cu12==8.9.2.26 (from torch->mvdream==0.0.1)\n",
            "  Downloading nvidia_cudnn_cu12-8.9.2.26-py3-none-manylinux1_x86_64.whl (731.7 MB)\n",
            "\u001b[2K     \u001b[90m━━━━━━━━━━━━━━━━━━━━━━━━━━━━━━━━━━━━━━━━\u001b[0m \u001b[32m731.7/731.7 MB\u001b[0m \u001b[31m1.2 MB/s\u001b[0m eta \u001b[36m0:00:00\u001b[0m\n",
            "\u001b[?25hCollecting nvidia-cublas-cu12==12.1.3.1 (from torch->mvdream==0.0.1)\n",
            "  Downloading nvidia_cublas_cu12-12.1.3.1-py3-none-manylinux1_x86_64.whl (410.6 MB)\n",
            "\u001b[2K     \u001b[90m━━━━━━━━━━━━━━━━━━━━━━━━━━━━━━━━━━━━━━━━\u001b[0m \u001b[32m410.6/410.6 MB\u001b[0m \u001b[31m1.4 MB/s\u001b[0m eta \u001b[36m0:00:00\u001b[0m\n",
            "\u001b[?25hCollecting nvidia-cufft-cu12==11.0.2.54 (from torch->mvdream==0.0.1)\n",
            "  Downloading nvidia_cufft_cu12-11.0.2.54-py3-none-manylinux1_x86_64.whl (121.6 MB)\n",
            "\u001b[2K     \u001b[90m━━━━━━━━━━━━━━━━━━━━━━━━━━━━━━━━━━━━━━━━\u001b[0m \u001b[32m121.6/121.6 MB\u001b[0m \u001b[31m1.7 MB/s\u001b[0m eta \u001b[36m0:00:00\u001b[0m\n",
            "\u001b[?25hCollecting nvidia-curand-cu12==10.3.2.106 (from torch->mvdream==0.0.1)\n",
            "  Downloading nvidia_curand_cu12-10.3.2.106-py3-none-manylinux1_x86_64.whl (56.5 MB)\n",
            "\u001b[2K     \u001b[90m━━━━━━━━━━━━━━━━━━━━━━━━━━━━━━━━━━━━━━━━\u001b[0m \u001b[32m56.5/56.5 MB\u001b[0m \u001b[31m2.3 MB/s\u001b[0m eta \u001b[36m0:00:00\u001b[0m\n",
            "\u001b[?25hCollecting nvidia-cusolver-cu12==11.4.5.107 (from torch->mvdream==0.0.1)\n",
            "  Downloading nvidia_cusolver_cu12-11.4.5.107-py3-none-manylinux1_x86_64.whl (124.2 MB)\n",
            "\u001b[2K     \u001b[90m━━━━━━━━━━━━━━━━━━━━━━━━━━━━━━━━━━━━━━━━\u001b[0m \u001b[32m124.2/124.2 MB\u001b[0m \u001b[31m1.7 MB/s\u001b[0m eta \u001b[36m0:00:00\u001b[0m\n",
            "\u001b[?25hCollecting nvidia-cusparse-cu12==12.1.0.106 (from torch->mvdream==0.0.1)\n",
            "  Downloading nvidia_cusparse_cu12-12.1.0.106-py3-none-manylinux1_x86_64.whl (196.0 MB)\n",
            "\u001b[2K     \u001b[90m━━━━━━━━━━━━━━━━━━━━━━━━━━━━━━━━━━━━━━━━\u001b[0m \u001b[32m196.0/196.0 MB\u001b[0m \u001b[31m1.7 MB/s\u001b[0m eta \u001b[36m0:00:00\u001b[0m\n",
            "\u001b[?25hCollecting nvidia-nccl-cu12==2.19.3 (from torch->mvdream==0.0.1)\n",
            "  Downloading nvidia_nccl_cu12-2.19.3-py3-none-manylinux1_x86_64.whl (166.0 MB)\n",
            "\u001b[2K     \u001b[90m━━━━━━━━━━━━━━━━━━━━━━━━━━━━━━━━━━━━━━━━\u001b[0m \u001b[32m166.0/166.0 MB\u001b[0m \u001b[31m3.1 MB/s\u001b[0m eta \u001b[36m0:00:00\u001b[0m\n",
            "\u001b[?25hCollecting nvidia-nvtx-cu12==12.1.105 (from torch->mvdream==0.0.1)\n",
            "  Downloading nvidia_nvtx_cu12-12.1.105-py3-none-manylinux1_x86_64.whl (99 kB)\n",
            "\u001b[2K     \u001b[90m━━━━━━━━━━━━━━━━━━━━━━━━━━━━━━━━━━━━━━━━\u001b[0m \u001b[32m99.1/99.1 kB\u001b[0m \u001b[31m4.6 MB/s\u001b[0m eta \u001b[36m0:00:00\u001b[0m\n",
            "\u001b[?25hRequirement already satisfied: triton==2.2.0 in /usr/local/lib/python3.10/dist-packages (from torch->mvdream==0.0.1) (2.2.0)\n",
            "Collecting nvidia-nvjitlink-cu12 (from nvidia-cusolver-cu12==11.4.5.107->torch->mvdream==0.0.1)\n",
            "  Downloading nvidia_nvjitlink_cu12-12.4.99-py3-none-manylinux2014_x86_64.whl (21.1 MB)\n",
            "\u001b[2K     \u001b[90m━━━━━━━━━━━━━━━━━━━━━━━━━━━━━━━━━━━━━━━━\u001b[0m \u001b[32m21.1/21.1 MB\u001b[0m \u001b[31m3.1 MB/s\u001b[0m eta \u001b[36m0:00:00\u001b[0m\n",
            "\u001b[?25hRequirement already satisfied: tokenizers<0.19,>=0.14 in /usr/local/lib/python3.10/dist-packages (from transformers->mvdream==0.0.1) (0.15.2)\n",
            "Requirement already satisfied: safetensors>=0.4.1 in /usr/local/lib/python3.10/dist-packages (from transformers->mvdream==0.0.1) (0.4.2)\n",
            "Requirement already satisfied: wcwidth<0.3.0,>=0.2.12 in /usr/local/lib/python3.10/dist-packages (from ftfy->open-clip-torch->mvdream==0.0.1) (0.2.13)\n",
            "Requirement already satisfied: MarkupSafe>=2.0 in /usr/local/lib/python3.10/dist-packages (from jinja2->torch->mvdream==0.0.1) (2.1.5)\n",
            "Requirement already satisfied: charset-normalizer<4,>=2 in /usr/local/lib/python3.10/dist-packages (from requests->huggingface_hub->mvdream==0.0.1) (3.3.2)\n",
            "Requirement already satisfied: idna<4,>=2.5 in /usr/local/lib/python3.10/dist-packages (from requests->huggingface_hub->mvdream==0.0.1) (3.6)\n",
            "Requirement already satisfied: urllib3<3,>=1.21.1 in /usr/local/lib/python3.10/dist-packages (from requests->huggingface_hub->mvdream==0.0.1) (2.0.7)\n",
            "Requirement already satisfied: certifi>=2017.4.17 in /usr/local/lib/python3.10/dist-packages (from requests->huggingface_hub->mvdream==0.0.1) (2024.2.2)\n",
            "Requirement already satisfied: mpmath>=0.19 in /usr/local/lib/python3.10/dist-packages (from sympy->torch->mvdream==0.0.1) (1.3.0)\n",
            "Requirement already satisfied: pillow!=8.3.*,>=5.3.0 in /usr/local/lib/python3.10/dist-packages (from torchvision->open-clip-torch->mvdream==0.0.1) (9.4.0)\n",
            "Building wheels for collected packages: mvdream, antlr4-python3-runtime\n",
            "  Building wheel for mvdream (setup.py) ... \u001b[?25l\u001b[?25hdone\n",
            "  Created wheel for mvdream: filename=mvdream-0.0.1-py3-none-any.whl size=40718 sha256=3910a0d56512864964e7313d7243ededd38383e2c245595ad9596a2b1e9bb0a1\n",
            "  Stored in directory: /tmp/pip-ephem-wheel-cache-_m79qgf2/wheels/b2/a0/4b/86d2e1e7cdd2d7132bc9f08bc280d7bca1c8b02b6010927686\n",
            "  Building wheel for antlr4-python3-runtime (setup.py) ... \u001b[?25l\u001b[?25hdone\n",
            "  Created wheel for antlr4-python3-runtime: filename=antlr4_python3_runtime-4.9.3-py3-none-any.whl size=144554 sha256=b7f37ce97279fd425d2bbd899c81beded5324e166e797fe8625d444952a80af5\n",
            "  Stored in directory: /root/.cache/pip/wheels/12/93/dd/1f6a127edc45659556564c5730f6d4e300888f4bca2d4c5a88\n",
            "Successfully built mvdream antlr4-python3-runtime\n",
            "Installing collected packages: antlr4-python3-runtime, omegaconf, nvidia-nvtx-cu12, nvidia-nvjitlink-cu12, nvidia-nccl-cu12, nvidia-curand-cu12, nvidia-cufft-cu12, nvidia-cuda-runtime-cu12, nvidia-cuda-nvrtc-cu12, nvidia-cuda-cupti-cu12, nvidia-cublas-cu12, ftfy, einops, nvidia-cusparse-cu12, nvidia-cudnn-cu12, nvidia-cusolver-cu12, timm, open-clip-torch, mvdream\n",
            "Successfully installed antlr4-python3-runtime-4.9.3 einops-0.7.0 ftfy-6.2.0 mvdream-0.0.1 nvidia-cublas-cu12-12.1.3.1 nvidia-cuda-cupti-cu12-12.1.105 nvidia-cuda-nvrtc-cu12-12.1.105 nvidia-cuda-runtime-cu12-12.1.105 nvidia-cudnn-cu12-8.9.2.26 nvidia-cufft-cu12-11.0.2.54 nvidia-curand-cu12-10.3.2.106 nvidia-cusolver-cu12-11.4.5.107 nvidia-cusparse-cu12-12.1.0.106 nvidia-nccl-cu12-2.19.3 nvidia-nvjitlink-cu12-12.4.99 nvidia-nvtx-cu12-12.1.105 omegaconf-2.3.0 open-clip-torch-2.24.0 timm-0.9.16\n"
          ]
        },
        {
          "output_type": "display_data",
          "data": {
            "application/vnd.colab-display-data+json": {
              "pip_warning": {
                "packages": [
                  "pydevd_plugins"
                ]
              },
              "id": "58dc01bad4d44a0b93a68a7455d9f589"
            }
          },
          "metadata": {}
        }
      ]
    },
    {
      "cell_type": "code",
      "execution_count": 2,
      "metadata": {
        "id": "JNsKObyCxPlF"
      },
      "outputs": [],
      "source": [
        "import torch\n",
        "import matplotlib.pyplot as plt\n",
        "import numpy as np\n",
        "from PIL import Image\n",
        "from mvdream.model_zoo import build_model\n",
        "from mvdream.camera_utils import get_camera\n",
        "from mvdream.ldm.models.diffusion.ddim import DDIMSampler"
      ]
    },
    {
      "cell_type": "code",
      "source": [
        "model = build_model(\"sd-v2.1-base-4view\")"
      ],
      "metadata": {
        "colab": {
          "base_uri": "https://localhost:8080/",
          "height": 289,
          "referenced_widgets": [
            "109a7d45cb5c46e2a41fe157788897af",
            "1bee16d1aa294ebb91682716b4b41872",
            "41fe27f4936340eca483524137953f94",
            "06ce8a7e5b1d4d66baef3d38cbf3975d",
            "2605964aa84744fcb259223772bcd6d7",
            "86fec048a72648ccb0fb30097878e9ab",
            "b24511c2d8ff4863b8672e0da771ab7b",
            "e5ad4c2bf2c04086ba19af54a77c7c28",
            "6d160f40ae784ae2a3d7ab84012d5cd2",
            "8d77ea7f58464287b8863b4afdfc7653",
            "cb0a911018c44bb0ba4f658799434bb6",
            "38934a93c8d64f23bd9a0e17d96b4213",
            "99accb251561473397d37c6f9e347288",
            "7a7b288e7fc14daf9c7ac5dfd6944594",
            "fd1c1762fc8f4afeb31d672d75bf0109",
            "a12b5e29feee46bb8fee3ba293f60a93",
            "5e287e4eebba4733951655bd1498911e",
            "b5c49feacb1445da88d8524aad8812d0",
            "a419aa4521034e71a3c1987bc83cc3fd",
            "8fd13dedd4294df896ceb89dd59323ae",
            "a80314006521452ab2ab82f60df28b53",
            "8cb04f1ab7b947f986d8d7e6e20e9936"
          ]
        },
        "id": "MMkBO4D7yMma",
        "outputId": "2d128878-1fd8-4bce-ed6c-5906156c7371"
      },
      "execution_count": 3,
      "outputs": [
        {
          "output_type": "stream",
          "name": "stdout",
          "text": [
            "Loading model from config: sd-v2-base.yaml\n"
          ]
        },
        {
          "output_type": "stream",
          "name": "stderr",
          "text": [
            "/usr/local/lib/python3.10/dist-packages/huggingface_hub/utils/_token.py:88: UserWarning: \n",
            "The secret `HF_TOKEN` does not exist in your Colab secrets.\n",
            "To authenticate with the Hugging Face Hub, create a token in your settings tab (https://huggingface.co/settings/tokens), set it as secret in your Google Colab and restart your session.\n",
            "You will be able to reuse this secret in all of your notebooks.\n",
            "Please note that authentication is recommended but still optional to access public models or datasets.\n",
            "  warnings.warn(\n"
          ]
        },
        {
          "output_type": "display_data",
          "data": {
            "text/plain": [
              "open_clip_pytorch_model.bin:   0%|          | 0.00/3.94G [00:00<?, ?B/s]"
            ],
            "application/vnd.jupyter.widget-view+json": {
              "version_major": 2,
              "version_minor": 0,
              "model_id": "109a7d45cb5c46e2a41fe157788897af"
            }
          },
          "metadata": {}
        },
        {
          "output_type": "stream",
          "name": "stdout",
          "text": [
            "No module 'xformers'. Proceeding without it.\n",
            "making attention of type 'vanilla' with 512 in_channels\n",
            "Working with z of shape (1, 4, 32, 32) = 4096 dimensions.\n",
            "making attention of type 'vanilla' with 512 in_channels\n"
          ]
        },
        {
          "output_type": "display_data",
          "data": {
            "text/plain": [
              "sd-v2.1-base-4view.pt:   0%|          | 0.00/5.22G [00:00<?, ?B/s]"
            ],
            "application/vnd.jupyter.widget-view+json": {
              "version_major": 2,
              "version_minor": 0,
              "model_id": "38934a93c8d64f23bd9a0e17d96b4213"
            }
          },
          "metadata": {}
        },
        {
          "output_type": "stream",
          "name": "stdout",
          "text": [
            "Loading model from cache file: /root/.cache/huggingface/hub/models--MVDream--MVDream/snapshots/d14ac9d78c48c266005729f2d5633f6c265da467/sd-v2.1-base-4view.pt\n"
          ]
        }
      ]
    },
    {
      "cell_type": "code",
      "source": [
        "device = torch.device(\"cuda\" if torch.cuda.is_available() else \"cpu\")"
      ],
      "metadata": {
        "id": "_EFsBvZo-aap"
      },
      "execution_count": 4,
      "outputs": []
    },
    {
      "cell_type": "code",
      "source": [
        "# import argparse\n",
        "# parser = argparse.ArgumentParser()\n",
        "# parser.add_argument(\"--model_name\", type=str, default=\"sd-v2.1-base-4view\", help=\"load pre-trained model from hugginface\")\n",
        "# parser.add_argument(\"--config_path\", type=str, default=None, help=\"load model from local config (override model_name)\")\n",
        "# parser.add_argument(\"--ckpt_path\", type=str, default=None, help=\"path to local checkpoint\")\n",
        "# parser.add_argument(\"--text\", type=str, default=\"an astronaut riding a horse\")\n",
        "# parser.add_argument(\"--suffix\", type=str, default=\", 3d asset\")\n",
        "# parser.add_argument(\"--size\", type=int, default=256)\n",
        "# parser.add_argument(\"--num_frames\", type=int, default=4, help=\"num of frames (views) to generate\")\n",
        "# parser.add_argument(\"--use_camera\", type=int, default=1)\n",
        "# parser.add_argument(\"--camera_elev\", type=int, default=15)\n",
        "# parser.add_argument(\"--camera_azim\", type=int, default=90)\n",
        "# parser.add_argument(\"--camera_azim_span\", type=int, default=360)\n",
        "# parser.add_argument(\"--seed\", type=int, default=23)\n",
        "# parser.add_argument(\"--fp16\", action=\"store_true\")\n",
        "# parser.add_argument(\"--device\", type=str, default='cuda')\n",
        "# args = parser.parse_args()"
      ],
      "metadata": {
        "colab": {
          "base_uri": "https://localhost:8080/",
          "height": 245
        },
        "id": "JxBI4Kmi_ZhD",
        "outputId": "0c6200d3-e151-4c48-a8d0-22ded8d969ba"
      },
      "execution_count": 30,
      "outputs": [
        {
          "output_type": "stream",
          "name": "stderr",
          "text": [
            "usage: colab_kernel_launcher.py [-h] [--model_name MODEL_NAME] [--config_path CONFIG_PATH]\n",
            "                                [--ckpt_path CKPT_PATH] [--text TEXT] [--suffix SUFFIX]\n",
            "                                [--size SIZE] [--num_frames NUM_FRAMES] [--use_camera USE_CAMERA]\n",
            "                                [--camera_elev CAMERA_ELEV] [--camera_azim CAMERA_AZIM]\n",
            "                                [--camera_azim_span CAMERA_AZIM_SPAN] [--seed SEED] [--fp16]\n",
            "                                [--device DEVICE]\n",
            "colab_kernel_launcher.py: error: unrecognized arguments: -f /root/.local/share/jupyter/runtime/kernel-f92e3f45-1980-40c1-8b98-acb33facf941.json\n"
          ]
        },
        {
          "output_type": "error",
          "ename": "SystemExit",
          "evalue": "2",
          "traceback": [
            "An exception has occurred, use %tb to see the full traceback.\n",
            "\u001b[0;31mSystemExit\u001b[0m\u001b[0;31m:\u001b[0m 2\n"
          ]
        },
        {
          "output_type": "stream",
          "name": "stderr",
          "text": [
            "/usr/local/lib/python3.10/dist-packages/IPython/core/interactiveshell.py:3561: UserWarning: To exit: use 'exit', 'quit', or Ctrl-D.\n",
            "  warn(\"To exit: use 'exit', 'quit', or Ctrl-D.\", stacklevel=1)\n"
          ]
        }
      ]
    },
    {
      "cell_type": "code",
      "source": [
        "def t2i(model, img_size, prompt, uc, sampler, step=20, scale=7.5, batch_size=4,\n",
        "        ddim_eta=0., dtype=torch.float32, device=\"cuda\", camera=None, num_frames=1):\n",
        "  if type(prompt) != list:\n",
        "    prompt = [prompt]\n",
        "  with torch.no_grad():\n",
        "    c = model.get_learned_conditioning(prompt).to(device)\n",
        "    c_ = {\"context\": c.repeat(batch_size, 1, 1)}\n",
        "    uc_ = {\"context\": uc.repeat(batch_size, 1, 1)}\n",
        "    if camera is not None:\n",
        "      c_[\"camera\"] = uc_[\"camera\"] = camera\n",
        "      c_[\"num_frames\"] = uc_[\"num_frames\"] = num_frames\n",
        "\n",
        "    shape = [4, img_size // 8, img_size // 8]\n",
        "    samples_ddim, _ = sampler.sample(S=step, conditioning=c_,\n",
        "                                        batch_size=batch_size, shape=shape,\n",
        "                                        verbose=False,\n",
        "                                        unconditional_guidance_scale=scale,\n",
        "                                        unconditional_conditioning=uc_,\n",
        "                                        eta=ddim_eta, x_T=None)\n",
        "    x_sample = model.decode_first_stage(samples_ddim)\n",
        "    x_sample = torch.clamp((x_sample + 1.0) / 2.0, min=0.0, max=1.0)\n",
        "    x_sample = 255. * x_sample.permute(0,2,3,1).cpu().numpy()\n",
        "\n",
        "  return list(x_sample.astype(np.uint8))"
      ],
      "metadata": {
        "id": "r5AO5LnYxYA4"
      },
      "execution_count": 5,
      "outputs": []
    },
    {
      "cell_type": "code",
      "source": [
        "def create_camera_to_world_matrix(elevation, azimuth):\n",
        "    elevation = np.radians(elevation)\n",
        "    azimuth = np.radians(azimuth)\n",
        "    # Convert elevation and azimuth angles to Cartesian coordinates on a unit sphere\n",
        "    x = np.cos(elevation) * np.sin(azimuth)\n",
        "    y = np.sin(elevation)\n",
        "    z = np.cos(elevation) * np.cos(azimuth)\n",
        "\n",
        "    # Calculate camera position, target, and up vectors\n",
        "    camera_pos = np.array([x, y, z])\n",
        "    target = np.array([0, 0, 0])\n",
        "    up = np.array([0, 1, 0])\n",
        "\n",
        "    # Construct view matrix\n",
        "    forward = target - camera_pos\n",
        "    forward /= np.linalg.norm(forward)\n",
        "    right = np.cross(forward, up)\n",
        "    right /= np.linalg.norm(right)\n",
        "    new_up = np.cross(right, forward)\n",
        "    new_up /= np.linalg.norm(new_up)\n",
        "    cam2world = np.eye(4)\n",
        "    cam2world[:3, :3] = np.array([right, new_up, -forward]).T\n",
        "    cam2world[:3, 3] = camera_pos\n",
        "    return cam2world\n",
        "\n",
        "\n",
        "def convert_opengl_to_blender(camera_matrix):\n",
        "    if isinstance(camera_matrix, np.ndarray):\n",
        "        # Construct transformation matrix to convert from OpenGL space to Blender space\n",
        "        flip_yz = np.array([[1, 0, 0, 0], [0, 0, -1, 0], [0, 1, 0, 0], [0, 0, 0, 1]])\n",
        "        camera_matrix_blender = np.dot(flip_yz, camera_matrix)\n",
        "    else:\n",
        "        # Construct transformation matrix to convert from OpenGL space to Blender space\n",
        "        flip_yz = torch.tensor([[1, 0, 0, 0], [0, 0, -1, 0], [0, 1, 0, 0], [0, 0, 0, 1]])\n",
        "        if camera_matrix.ndim == 3:\n",
        "            flip_yz = flip_yz.unsqueeze(0)\n",
        "        camera_matrix_blender = torch.matmul(flip_yz.to(camera_matrix), camera_matrix)\n",
        "    return camera_matrix_blender\n",
        "\n",
        "\n",
        "def normalize_camera(camera_matrix):\n",
        "    ''' normalize the camera location onto a unit-sphere'''\n",
        "    if isinstance(camera_matrix, np.ndarray):\n",
        "        camera_matrix = camera_matrix.reshape(-1,4,4)\n",
        "        translation = camera_matrix[:,:3,3]\n",
        "        translation = translation / (np.linalg.norm(translation, axis=1, keepdims=True) + 1e-8)\n",
        "        camera_matrix[:,:3,3] = translation\n",
        "    else:\n",
        "        camera_matrix = camera_matrix.reshape(-1,4,4)\n",
        "        translation = camera_matrix[:,:3,3]\n",
        "        translation = translation / (torch.norm(translation, dim=1, keepdim=True) + 1e-8)\n",
        "        camera_matrix[:,:3,3] = translation\n",
        "    return camera_matrix.reshape(-1,16)\n",
        "\n",
        "\n",
        "def get_camera(num_frames, elevation=15, azimuth_start=0, azimuth_span=360, blender_coord=True):\n",
        "    angle_gap = azimuth_span / num_frames\n",
        "    cameras = []\n",
        "    for azimuth in np.arange(azimuth_start, azimuth_span+azimuth_start, angle_gap):\n",
        "        camera_matrix = create_camera_to_world_matrix(elevation, azimuth)\n",
        "        if blender_coord:\n",
        "            camera_matrix = convert_opengl_to_blender(camera_matrix)\n",
        "        cameras.append(camera_matrix.flatten())\n",
        "    return torch.tensor(np.stack(cameras, 0)).float()"
      ],
      "metadata": {
        "id": "u8s9JDL_SfQW"
      },
      "execution_count": 6,
      "outputs": []
    },
    {
      "cell_type": "code",
      "source": [
        "camera = get_camera(4).to(device)\n",
        "print(\"camera\", camera[0])"
      ],
      "metadata": {
        "colab": {
          "base_uri": "https://localhost:8080/"
        },
        "id": "wVV4xr5CH8aZ",
        "outputId": "9e823757-c602-4a6d-83c0-3aab08e9457a"
      },
      "execution_count": 7,
      "outputs": [
        {
          "output_type": "stream",
          "name": "stdout",
          "text": [
            "camera tensor([ 1.0000,  0.0000,  0.0000,  0.0000,  0.0000,  0.2588, -0.9659, -0.9659,\n",
            "         0.0000,  0.9659,  0.2588,  0.2588,  0.0000,  0.0000,  0.0000,  1.0000],\n",
            "       device='cuda:0')\n"
          ]
        }
      ]
    },
    {
      "cell_type": "code",
      "source": [
        "normal = normalize_camera(camera)\n",
        "print(\"normal\", normal[2])"
      ],
      "metadata": {
        "colab": {
          "base_uri": "https://localhost:8080/"
        },
        "id": "Njf0zFhaTIRw",
        "outputId": "7b29daee-76a7-44a0-ead3-1a223c387f5e"
      },
      "execution_count": 30,
      "outputs": [
        {
          "output_type": "stream",
          "name": "stdout",
          "text": [
            "normal tensor([-1.0000e+00, -3.1696e-17,  1.1829e-16,  1.1829e-16,  1.2246e-16,\n",
            "        -2.5882e-01,  9.6593e-01,  9.6593e-01,  0.0000e+00,  9.6593e-01,\n",
            "         2.5882e-01,  2.5882e-01,  0.0000e+00,  0.0000e+00,  0.0000e+00,\n",
            "         1.0000e+00], device='cuda:0')\n"
          ]
        }
      ]
    },
    {
      "cell_type": "code",
      "source": [
        "batch_size = 8\n",
        "num_frames = 8\n",
        "\n",
        "camera = get_camera(8).to(device)\n",
        "print(\"camera\", camera[0])\n",
        "print(camera.shape)\n",
        "model.device = device\n",
        "model.to(device)\n",
        "model.eval()\n",
        "sampler = DDIMSampler(model)\n",
        "uc = model.get_learned_conditioning( [\"\"] ).to(device)\n",
        "\n",
        "prompt = \"an astronaut riding a horse\"\n",
        "\n",
        "images = []\n",
        "\n",
        "for j in range(3):\n",
        "  img = t2i(model, 256, prompt, uc, sampler, step=50, scale=10, batch_size=batch_size, ddim_eta=0.0,\n",
        "            dtype=torch.float32, device=device, camera=camera, num_frames=num_frames)\n",
        "  img = np.concatenate(img, 1)\n",
        "  images.append(img)"
      ],
      "metadata": {
        "colab": {
          "base_uri": "https://localhost:8080/"
        },
        "id": "cgGZFHrP9SRY",
        "outputId": "1eb24625-18f1-4b71-a2d3-a8705a7d54b4"
      },
      "execution_count": 7,
      "outputs": [
        {
          "output_type": "stream",
          "name": "stdout",
          "text": [
            "camera tensor([ 1.0000,  0.0000,  0.0000,  0.0000,  0.0000,  0.2588, -0.9659, -0.9659,\n",
            "         0.0000,  0.9659,  0.2588,  0.2588,  0.0000,  0.0000,  0.0000,  1.0000],\n",
            "       device='cuda:0')\n",
            "torch.Size([8, 16])\n"
          ]
        },
        {
          "output_type": "stream",
          "name": "stderr",
          "text": [
            "DDIM Sampler: 100%|██████████| 50/50 [00:59<00:00,  1.20s/it]\n",
            "DDIM Sampler: 100%|██████████| 50/50 [01:01<00:00,  1.24s/it]\n",
            "DDIM Sampler: 100%|██████████| 50/50 [01:04<00:00,  1.29s/it]\n"
          ]
        }
      ]
    },
    {
      "cell_type": "code",
      "source": [
        "print(images[1].shape)"
      ],
      "metadata": {
        "colab": {
          "base_uri": "https://localhost:8080/"
        },
        "id": "BfJ5YFrpWnKf",
        "outputId": "297cb14a-930d-44f0-92d4-5c854d49bbd1"
      },
      "execution_count": 12,
      "outputs": [
        {
          "output_type": "stream",
          "name": "stdout",
          "text": [
            "(256, 2048, 3)\n"
          ]
        }
      ]
    },
    {
      "cell_type": "code",
      "source": [
        "reshape = camera.reshape(4, 4, 4)\n",
        "print(reshape)\n",
        "r32 = reshape[:, 2, 1]\n",
        "r33 = reshape[:, 2, 2]\n",
        "print(r32)\n",
        "print(r33)\n",
        "# Phi\n",
        "x_angle = torch.atan2(r32, r33)\n",
        "print(\"x_angle\", x_angle)\n",
        "\n",
        "r31 = reshape[:, 2, 0]\n",
        "print(r31)\n",
        "sqrt = torch.sqrt(r32**2 + r33**2)\n",
        "y_angle = torch.atan2(-r31, sqrt)\n",
        "print(\"y_angle\", y_angle)\n",
        "r21 = reshape[:, 1, 0]\n",
        "r11 = reshape[:, 0, 0]\n",
        "# Theta\n",
        "z_angle = torch.atan2(r21, r11)\n",
        "print(\"z_angle\", z_angle)"
      ],
      "metadata": {
        "id": "Azg6ngZyZxPV"
      },
      "execution_count": null,
      "outputs": []
    },
    {
      "cell_type": "code",
      "source": [
        "torch.save(camera, \"/content/drive/MyDrive/MVDiffusion/cameraTensor.pt\")"
      ],
      "metadata": {
        "id": "k4ENSa_h57Nj"
      },
      "execution_count": 15,
      "outputs": []
    },
    {
      "cell_type": "code",
      "source": [
        "print(camera[0])"
      ],
      "metadata": {
        "colab": {
          "base_uri": "https://localhost:8080/"
        },
        "id": "MAaLx1qY_7eN",
        "outputId": "8a001fd8-50c9-4e4e-f052-e4f160098862"
      },
      "execution_count": 19,
      "outputs": [
        {
          "output_type": "stream",
          "name": "stdout",
          "text": [
            "tensor([ 1.0000,  0.0000,  0.0000,  0.0000,  0.0000,  0.2588, -0.9659, -0.9659,\n",
            "         0.0000,  0.9659,  0.2588,  0.2588,  0.0000,  0.0000,  0.0000,  1.0000],\n",
            "       device='cuda:0')\n"
          ]
        }
      ]
    },
    {
      "cell_type": "code",
      "source": [
        "t =torch.load(\"/content/drive/MyDrive/MVDiffusion/cameraTensor.pt\")\n",
        "print(t[0])"
      ],
      "metadata": {
        "colab": {
          "base_uri": "https://localhost:8080/"
        },
        "id": "zX9v-Fhk_1G0",
        "outputId": "0ac816ee-dd44-4fa3-a935-6691d5e04945"
      },
      "execution_count": 18,
      "outputs": [
        {
          "output_type": "stream",
          "name": "stdout",
          "text": [
            "tensor([ 1.0000,  0.0000,  0.0000,  0.0000,  0.0000,  0.2588, -0.9659, -0.9659,\n",
            "         0.0000,  0.9659,  0.2588,  0.2588,  0.0000,  0.0000,  0.0000,  1.0000],\n",
            "       device='cuda:0')\n"
          ]
        }
      ]
    },
    {
      "cell_type": "code",
      "source": [
        "savedImg1 = Image.fromarray(images[0][:, :256, :])\n",
        "savedImg2 = Image.fromarray(images[0][:, 256:512, :])\n",
        "savedImg3 = Image.fromarray(images[0][:, 512:768, :])\n",
        "savedImg4 = Image.fromarray(images[0][:, 768:1024, :])\n",
        "savedImg5 = Image.fromarray(images[0][:, 1024:1280, :])\n",
        "savedImg6 = Image.fromarray(images[0][:, 1280:1536, :])\n",
        "savedImg7 = Image.fromarray(images[0][:, 1536:1792, :])\n",
        "savedImg8 = Image.fromarray(images[0][:, 1792:, :])\n",
        "\n",
        "\n",
        "image1 = Image.fromarray(np.uint8(savedImg1))\n",
        "image2 = Image.fromarray(np.uint8(savedImg2))\n",
        "image3 = Image.fromarray(np.uint8(savedImg3))\n",
        "image4 = Image.fromarray(np.uint8(savedImg4))\n",
        "image5 = Image.fromarray(np.uint8(savedImg5))\n",
        "image6 = Image.fromarray(np.uint8(savedImg6))\n",
        "image7 = Image.fromarray(np.uint8(savedImg7))\n",
        "image8 = Image.fromarray(np.uint8(savedImg8))\n",
        "\n",
        "image1.save(\"/content/drive/MyDrive/MVDiffusion/images/astroHorse1.png\")\n",
        "image2.save(\"/content/drive/MyDrive/MVDiffusion/images/astroHorse2.png\")\n",
        "image3.save(\"/content/drive/MyDrive/MVDiffusion/images/astroHorse3.png\")\n",
        "image4.save(\"/content/drive/MyDrive/MVDiffusion/images/astroHorse4.png\")\n",
        "image5.save(\"/content/drive/MyDrive/MVDiffusion/images/astroHorse5.png\")\n",
        "image6.save(\"/content/drive/MyDrive/MVDiffusion/images/astroHorse6.png\")\n",
        "image7.save(\"/content/drive/MyDrive/MVDiffusion/images/astroHorse7.png\")\n",
        "image8.save(\"/content/drive/MyDrive/MVDiffusion/images/astroHorse8.png\")"
      ],
      "metadata": {
        "id": "_a_OyLpSuhAO"
      },
      "execution_count": 10,
      "outputs": []
    },
    {
      "cell_type": "code",
      "source": [
        "plt.imshow(images[0])\n",
        "plt.colorbar()\n",
        "plt.title('Normalized Tensor as an Image')\n",
        "plt.show()"
      ],
      "metadata": {
        "colab": {
          "base_uri": "https://localhost:8080/",
          "height": 415
        },
        "id": "sKhbH-WnAPp5",
        "outputId": "b6b80e6f-8774-496a-8dd5-6e31de897e92"
      },
      "execution_count": 11,
      "outputs": [
        {
          "output_type": "display_data",
          "data": {
            "text/plain": [
              "<Figure size 640x480 with 2 Axes>"
            ],
            "image/png": "[encoded data removed]"
          },
          "metadata": {}
        }
      ]
    },
    {
      "cell_type": "markdown",
      "source": [
        "Working with loaded images"
      ],
      "metadata": {
        "id": "61uXvhUL7yGU"
      }
    },
    {
      "cell_type": "code",
      "source": [
        "import torch\n",
        "import matplotlib.pyplot as plt\n",
        "import numpy as np\n",
        "import math\n",
        "from torchvision import transforms\n",
        "from PIL import Image"
      ],
      "metadata": {
        "id": "WWInlrBQ8Ji1"
      },
      "execution_count": 11,
      "outputs": []
    },
    {
      "cell_type": "code",
      "source": [
        "imageHolder = []\n",
        "img1 = Image.open(\"/content/drive/MyDrive/MVDiffusion/images/astroHorse1.png\")\n",
        "img2 = Image.open(\"/content/drive/MyDrive/MVDiffusion/images/astroHorse2.png\")\n",
        "img3 = Image.open(\"/content/drive/MyDrive/MVDiffusion/images/astroHorse3.png\")\n",
        "img4 = Image.open(\"/content/drive/MyDrive/MVDiffusion/images/astroHorse4.png\")\n",
        "img5 = Image.open(\"/content/drive/MyDrive/MVDiffusion/images/astroHorse5.png\")\n",
        "img6 = Image.open(\"/content/drive/MyDrive/MVDiffusion/images/astroHorse6.png\")\n",
        "img7 = Image.open(\"/content/drive/MyDrive/MVDiffusion/images/astroHorse7.png\")\n",
        "img8 = Image.open(\"/content/drive/MyDrive/MVDiffusion/images/astroHorse8.png\")\n",
        "\n",
        "transform = transforms.ToTensor()\n",
        "\n",
        "imageHolder.append(transform(img1))\n",
        "imageHolder.append(transform(img2))\n",
        "imageHolder.append(transform(img3))\n",
        "imageHolder.append(transform(img4))\n",
        "imageHolder.append(transform(img5))\n",
        "imageHolder.append(transform(img6))\n",
        "imageHolder.append(transform(img7))\n",
        "imageHolder.append(transform(img8))\n",
        "\n",
        "\n",
        "imageTensor = torch.stack(imageHolder)\n",
        "print(imageTensor.shape)"
      ],
      "metadata": {
        "colab": {
          "base_uri": "https://localhost:8080/",
          "height": 193
        },
        "id": "_ot4kFNA70Pm",
        "outputId": "058152a4-72f2-4236-d8a0-41b67edbc3ef"
      },
      "execution_count": 124,
      "outputs": [
        {
          "output_type": "error",
          "ename": "RuntimeError",
          "evalue": "stack expects each tensor to be equal size, but got [3, 256, 256] at entry 0 and [3, 1, 2048] at entry 1",
          "traceback": [
            "\u001b[0;31m---------------------------------------------------------------------------\u001b[0m",
            "\u001b[0;31mRuntimeError\u001b[0m                              Traceback (most recent call last)",
            "\u001b[0;32m<ipython-input-124-43efe1ac0c93>\u001b[0m in \u001b[0;36m<cell line: 23>\u001b[0;34m()\u001b[0m\n\u001b[1;32m     21\u001b[0m \u001b[0;34m\u001b[0m\u001b[0m\n\u001b[1;32m     22\u001b[0m \u001b[0;34m\u001b[0m\u001b[0m\n\u001b[0;32m---> 23\u001b[0;31m \u001b[0mimageTensor\u001b[0m \u001b[0;34m=\u001b[0m \u001b[0mtorch\u001b[0m\u001b[0;34m.\u001b[0m\u001b[0mstack\u001b[0m\u001b[0;34m(\u001b[0m\u001b[0mimageHolder\u001b[0m\u001b[0;34m)\u001b[0m\u001b[0;34m\u001b[0m\u001b[0;34m\u001b[0m\u001b[0m\n\u001b[0m\u001b[1;32m     24\u001b[0m \u001b[0mprint\u001b[0m\u001b[0;34m(\u001b[0m\u001b[0mimageTensor\u001b[0m\u001b[0;34m.\u001b[0m\u001b[0mshape\u001b[0m\u001b[0;34m)\u001b[0m\u001b[0;34m\u001b[0m\u001b[0;34m\u001b[0m\u001b[0m\n",
            "\u001b[0;31mRuntimeError\u001b[0m: stack expects each tensor to be equal size, but got [3, 256, 256] at entry 0 and [3, 1, 2048] at entry 1"
          ]
        }
      ]
    },
    {
      "cell_type": "code",
      "source": [
        "cameraTensor = torch.load(\"/content/drive/MyDrive/MVDiffusion/cameraTensor.pt\")\n",
        "print(cameraTensor.shape)"
      ],
      "metadata": {
        "id": "UP_sBPZwWrMX"
      },
      "execution_count": null,
      "outputs": []
    },
    {
      "cell_type": "code",
      "source": [
        "print(len(imageHolder))\n",
        "print(imageHolder[1].shape)"
      ],
      "metadata": {
        "colab": {
          "base_uri": "https://localhost:8080/"
        },
        "id": "NyTP3P7B8F8p",
        "outputId": "84a82666-c500-4bcf-ddb5-62188b49453b"
      },
      "execution_count": 136,
      "outputs": [
        {
          "output_type": "stream",
          "name": "stdout",
          "text": [
            "8\n",
            "torch.Size([3, 1, 2048])\n"
          ]
        }
      ]
    },
    {
      "cell_type": "code",
      "source": [
        "print(torch.min(imgArr))"
      ],
      "metadata": {
        "colab": {
          "base_uri": "https://localhost:8080/"
        },
        "id": "DiQdxYbc8NUh",
        "outputId": "129e2ef6-0143-4d74-aab8-dece1486c728"
      },
      "execution_count": 24,
      "outputs": [
        {
          "output_type": "stream",
          "name": "stdout",
          "text": [
            "tensor(0.0078)\n"
          ]
        }
      ]
    },
    {
      "cell_type": "code",
      "source": [
        "def pixel_to_ndc_and_screen(tensor):\n",
        "  num_c, height, width = tensor.shape\n",
        "\n",
        "  # FOV\n",
        "  alpha = 90\n",
        "  fov = torch.tan(torch.tensor(math.radians(alpha / 2)))\n",
        "\n",
        "  x = torch.arange(width)\n",
        "  y = torch.arange(height)\n",
        "\n",
        "  xx, yy = torch.meshgrid(x, y, indexing='ij')\n",
        "  pixel_pos = torch.stack([xx, yy], axis=-1)\n",
        "\n",
        "  ndc_pos = (pixel_pos + 0.5) / torch.tensor([width, height])\n",
        "\n",
        "  screen_pos = (2 * ndc_pos - 1) * fov\n",
        "  screen_pos[..., 1] = 1 - 2 * ndc_pos[..., 1] * fov\n",
        "\n",
        "  return ndc_pos, screen_pos"
      ],
      "metadata": {
        "id": "vx-vz9rD8tYa"
      },
      "execution_count": 46,
      "outputs": []
    },
    {
      "cell_type": "code",
      "source": [
        "ndc_pos, screen_pos = pixel_to_ndc_and_screen(imgArr)\n",
        "print(\"ndc\", ndc_pos.shape)\n",
        "print(torch.max(ndc_pos))\n",
        "print(torch.min(ndc_pos))\n",
        "\n",
        "print(\"screen\", screen_pos.shape)\n",
        "print(torch.max(screen_pos))\n",
        "print(torch.min(screen_pos))"
      ],
      "metadata": {
        "colab": {
          "base_uri": "https://localhost:8080/"
        },
        "id": "iDGYnUTj-E7-",
        "outputId": "1b72ddfd-b884-4d8d-8657-645cb7d44685"
      },
      "execution_count": 47,
      "outputs": [
        {
          "output_type": "stream",
          "name": "stdout",
          "text": [
            "ndc torch.Size([256, 256, 2])\n",
            "tensor(0.9980)\n",
            "tensor(0.0020)\n",
            "screen torch.Size([256, 256, 2])\n",
            "tensor(0.9961)\n",
            "tensor(-0.9961)\n"
          ]
        }
      ]
    },
    {
      "cell_type": "code",
      "source": [
        "def normalize_vector(vector):\n",
        "  v_x = vector[:,:, 0]**2\n",
        "  v_y = vector[:,:, 1]**2\n",
        "  v_z = vector[:,:, 2]**2\n",
        "  magnitude = torch.sqrt(v_x + v_y + v_z)\n",
        "\n",
        "  new_vector = torch.zeros(vector.shape[0], vector.shape[1], vector.shape[2])\n",
        "  new_vector[:,:,0] = v_x / magnitude\n",
        "  new_vector[:,:,1] = v_y / magnitude\n",
        "  new_vector[:,:,2] = v_z / magnitude\n",
        "  return new_vector"
      ],
      "metadata": {
        "id": "cwwVFak5EYtK"
      },
      "execution_count": 50,
      "outputs": []
    },
    {
      "cell_type": "code",
      "source": [
        "def apply_camera_to_world_matrix(matrix, camera_origin, points):\n",
        "  camera_origin_homogeneous = torch.cat((camera_origin, torch.ones(1)))\n",
        "  ones_tensor = torch.ones(points.shape[0], points.shape[1], 1)\n",
        "  point_homogeneous = torch.cat((points, ones_tensor), dim=2)\n",
        "\n",
        "  # Apply camera to world matrix\n",
        "  transformed_origin = torch.mv(matrix, camera_origin_homogeneous)\n",
        "\n",
        "  transformed_point = torch.zeros(points.shape[0], points.shape[1], points.shape[2]+1)\n",
        "  for i in range(points.shape[0]):\n",
        "    for j in range(points.shape[1]):\n",
        "      transformed_point[i,j] = torch.mv(matrix, point_homogeneous[i,j])\n",
        "\n",
        "  # Convert back to 3-dimension coordinates using dehomogenization\n",
        "  transformed_origin = transformed_origin[:3] / transformed_origin[3]\n",
        "  transformed_point = transformed_point[:, :, :3] / transformed_point[:, :, 3].unsqueeze(2)\n",
        "\n",
        "  return transformed_origin, transformed_point"
      ],
      "metadata": {
        "id": "WvUNc8jCG4zc"
      },
      "execution_count": 121,
      "outputs": []
    },
    {
      "cell_type": "code",
      "source": [
        "# Update screen pos to have -1 in last dimension (z)\n",
        "negative_z = torch.ones(screen_pos.shape[0], screen_pos.shape[1],1) * -1\n",
        "new_screen_pos = torch.cat((screen_pos, negative_z), dim=2)\n",
        "\n",
        "\n",
        "# Camera's point. It is at 0,0,0 until camera matrix is applied\n",
        "rayOrigin = torch.tensor([0,0,0])\n",
        "rayOriginWorld, rayPointWorld = apply_camera_to_world_matrix(matrix, rayOrigin, new_screen_pos)\n",
        "rayDirection = rayPointWorld - rayOriginWorld\n",
        "\n",
        "\n",
        "# Noramlized to have a length of 1. Keeps the direction, but not the magnitude\n",
        "rayDirection = normalize_vector(rayDirection)"
      ],
      "metadata": {
        "colab": {
          "base_uri": "https://localhost:8080/"
        },
        "id": "a1RhzE7vBIrT",
        "outputId": "c054e252-9517-4f2a-fbb0-604f79af75d5"
      },
      "execution_count": 61,
      "outputs": [
        {
          "output_type": "stream",
          "name": "stdout",
          "text": [
            "tensor([-0.9961,  0.9961, -1.0000])\n"
          ]
        }
      ]
    }
  ]
}