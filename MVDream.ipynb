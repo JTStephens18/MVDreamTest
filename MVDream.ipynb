{
  "nbformat": 4,
  "nbformat_minor": 0,
  "metadata": {
    "colab": {
      "provenance": [],
      "gpuType": "T4",
      "authorship_tag": "ABX9TyO8m8zXJVTeYJISJUOKSgzO",
      "include_colab_link": true
    },
    "kernelspec": {
      "name": "python3",
      "display_name": "Python 3"
    },
    "language_info": {
      "name": "python"
    },
    "accelerator": "GPU"
  },
  "cells": [
    {
      "cell_type": "markdown",
      "metadata": {
        "id": "view-in-github",
        "colab_type": "text"
      },
      "source": [
        "<a href=\"https://colab.research.google.com/github/JTStephens18/MVDreamTest/blob/main/MVDream.ipynb\" target=\"_parent\"><img src=\"https://colab.research.google.com/assets/colab-badge.svg\" alt=\"Open In Colab\"/></a>"
      ]
    },
    {
      "cell_type": "code",
      "source": [
        "!pip install git+https://github.com/bytedance/MVDream"
      ],
      "metadata": {
        "colab": {
          "base_uri": "https://localhost:8080/"
        },
        "id": "NCZryh54xfAL",
        "outputId": "78c1ef43-916a-4dc0-a0a7-730cf5b89057"
      },
      "execution_count": 1,
      "outputs": [
        {
          "output_type": "stream",
          "name": "stdout",
          "text": [
            "Collecting git+https://github.com/bytedance/MVDream\n",
            "  Cloning https://github.com/bytedance/MVDream to /tmp/pip-req-build-0mntlys5\n",
            "  Running command git clone --filter=blob:none --quiet https://github.com/bytedance/MVDream /tmp/pip-req-build-0mntlys5\n",
            "  Resolved https://github.com/bytedance/MVDream to commit 618f84476c88e04adaf588133be2830142b9956d\n",
            "  Preparing metadata (setup.py) ... \u001b[?25l\u001b[?25hdone\n",
            "Requirement already satisfied: torch in /usr/local/lib/python3.10/dist-packages (from mvdream==0.0.1) (2.2.1+cu121)\n",
            "Requirement already satisfied: numpy in /usr/local/lib/python3.10/dist-packages (from mvdream==0.0.1) (1.25.2)\n",
            "Requirement already satisfied: tqdm in /usr/local/lib/python3.10/dist-packages (from mvdream==0.0.1) (4.66.2)\n",
            "Requirement already satisfied: omegaconf in /usr/local/lib/python3.10/dist-packages (from mvdream==0.0.1) (2.3.0)\n",
            "Requirement already satisfied: einops in /usr/local/lib/python3.10/dist-packages (from mvdream==0.0.1) (0.7.0)\n",
            "Requirement already satisfied: huggingface_hub in /usr/local/lib/python3.10/dist-packages (from mvdream==0.0.1) (0.20.3)\n",
            "Requirement already satisfied: transformers in /usr/local/lib/python3.10/dist-packages (from mvdream==0.0.1) (4.38.2)\n",
            "Requirement already satisfied: open-clip-torch in /usr/local/lib/python3.10/dist-packages (from mvdream==0.0.1) (2.24.0)\n",
            "Requirement already satisfied: filelock in /usr/local/lib/python3.10/dist-packages (from huggingface_hub->mvdream==0.0.1) (3.13.1)\n",
            "Requirement already satisfied: fsspec>=2023.5.0 in /usr/local/lib/python3.10/dist-packages (from huggingface_hub->mvdream==0.0.1) (2023.6.0)\n",
            "Requirement already satisfied: requests in /usr/local/lib/python3.10/dist-packages (from huggingface_hub->mvdream==0.0.1) (2.31.0)\n",
            "Requirement already satisfied: pyyaml>=5.1 in /usr/local/lib/python3.10/dist-packages (from huggingface_hub->mvdream==0.0.1) (6.0.1)\n",
            "Requirement already satisfied: typing-extensions>=3.7.4.3 in /usr/local/lib/python3.10/dist-packages (from huggingface_hub->mvdream==0.0.1) (4.10.0)\n",
            "Requirement already satisfied: packaging>=20.9 in /usr/local/lib/python3.10/dist-packages (from huggingface_hub->mvdream==0.0.1) (24.0)\n",
            "Requirement already satisfied: antlr4-python3-runtime==4.9.* in /usr/local/lib/python3.10/dist-packages (from omegaconf->mvdream==0.0.1) (4.9.3)\n",
            "Requirement already satisfied: torchvision in /usr/local/lib/python3.10/dist-packages (from open-clip-torch->mvdream==0.0.1) (0.17.1+cu121)\n",
            "Requirement already satisfied: regex in /usr/local/lib/python3.10/dist-packages (from open-clip-torch->mvdream==0.0.1) (2023.12.25)\n",
            "Requirement already satisfied: ftfy in /usr/local/lib/python3.10/dist-packages (from open-clip-torch->mvdream==0.0.1) (6.2.0)\n",
            "Requirement already satisfied: sentencepiece in /usr/local/lib/python3.10/dist-packages (from open-clip-torch->mvdream==0.0.1) (0.1.99)\n",
            "Requirement already satisfied: protobuf in /usr/local/lib/python3.10/dist-packages (from open-clip-torch->mvdream==0.0.1) (3.20.3)\n",
            "Requirement already satisfied: timm in /usr/local/lib/python3.10/dist-packages (from open-clip-torch->mvdream==0.0.1) (0.9.16)\n",
            "Requirement already satisfied: sympy in /usr/local/lib/python3.10/dist-packages (from torch->mvdream==0.0.1) (1.12)\n",
            "Requirement already satisfied: networkx in /usr/local/lib/python3.10/dist-packages (from torch->mvdream==0.0.1) (3.2.1)\n",
            "Requirement already satisfied: jinja2 in /usr/local/lib/python3.10/dist-packages (from torch->mvdream==0.0.1) (3.1.3)\n",
            "Requirement already satisfied: nvidia-cuda-nvrtc-cu12==12.1.105 in /usr/local/lib/python3.10/dist-packages (from torch->mvdream==0.0.1) (12.1.105)\n",
            "Requirement already satisfied: nvidia-cuda-runtime-cu12==12.1.105 in /usr/local/lib/python3.10/dist-packages (from torch->mvdream==0.0.1) (12.1.105)\n",
            "Requirement already satisfied: nvidia-cuda-cupti-cu12==12.1.105 in /usr/local/lib/python3.10/dist-packages (from torch->mvdream==0.0.1) (12.1.105)\n",
            "Requirement already satisfied: nvidia-cudnn-cu12==8.9.2.26 in /usr/local/lib/python3.10/dist-packages (from torch->mvdream==0.0.1) (8.9.2.26)\n",
            "Requirement already satisfied: nvidia-cublas-cu12==12.1.3.1 in /usr/local/lib/python3.10/dist-packages (from torch->mvdream==0.0.1) (12.1.3.1)\n",
            "Requirement already satisfied: nvidia-cufft-cu12==11.0.2.54 in /usr/local/lib/python3.10/dist-packages (from torch->mvdream==0.0.1) (11.0.2.54)\n",
            "Requirement already satisfied: nvidia-curand-cu12==10.3.2.106 in /usr/local/lib/python3.10/dist-packages (from torch->mvdream==0.0.1) (10.3.2.106)\n",
            "Requirement already satisfied: nvidia-cusolver-cu12==11.4.5.107 in /usr/local/lib/python3.10/dist-packages (from torch->mvdream==0.0.1) (11.4.5.107)\n",
            "Requirement already satisfied: nvidia-cusparse-cu12==12.1.0.106 in /usr/local/lib/python3.10/dist-packages (from torch->mvdream==0.0.1) (12.1.0.106)\n",
            "Requirement already satisfied: nvidia-nccl-cu12==2.19.3 in /usr/local/lib/python3.10/dist-packages (from torch->mvdream==0.0.1) (2.19.3)\n",
            "Requirement already satisfied: nvidia-nvtx-cu12==12.1.105 in /usr/local/lib/python3.10/dist-packages (from torch->mvdream==0.0.1) (12.1.105)\n",
            "Requirement already satisfied: triton==2.2.0 in /usr/local/lib/python3.10/dist-packages (from torch->mvdream==0.0.1) (2.2.0)\n",
            "Requirement already satisfied: nvidia-nvjitlink-cu12 in /usr/local/lib/python3.10/dist-packages (from nvidia-cusolver-cu12==11.4.5.107->torch->mvdream==0.0.1) (12.4.99)\n",
            "Requirement already satisfied: tokenizers<0.19,>=0.14 in /usr/local/lib/python3.10/dist-packages (from transformers->mvdream==0.0.1) (0.15.2)\n",
            "Requirement already satisfied: safetensors>=0.4.1 in /usr/local/lib/python3.10/dist-packages (from transformers->mvdream==0.0.1) (0.4.2)\n",
            "Requirement already satisfied: wcwidth<0.3.0,>=0.2.12 in /usr/local/lib/python3.10/dist-packages (from ftfy->open-clip-torch->mvdream==0.0.1) (0.2.13)\n",
            "Requirement already satisfied: MarkupSafe>=2.0 in /usr/local/lib/python3.10/dist-packages (from jinja2->torch->mvdream==0.0.1) (2.1.5)\n",
            "Requirement already satisfied: charset-normalizer<4,>=2 in /usr/local/lib/python3.10/dist-packages (from requests->huggingface_hub->mvdream==0.0.1) (3.3.2)\n",
            "Requirement already satisfied: idna<4,>=2.5 in /usr/local/lib/python3.10/dist-packages (from requests->huggingface_hub->mvdream==0.0.1) (3.6)\n",
            "Requirement already satisfied: urllib3<3,>=1.21.1 in /usr/local/lib/python3.10/dist-packages (from requests->huggingface_hub->mvdream==0.0.1) (2.0.7)\n",
            "Requirement already satisfied: certifi>=2017.4.17 in /usr/local/lib/python3.10/dist-packages (from requests->huggingface_hub->mvdream==0.0.1) (2024.2.2)\n",
            "Requirement already satisfied: mpmath>=0.19 in /usr/local/lib/python3.10/dist-packages (from sympy->torch->mvdream==0.0.1) (1.3.0)\n",
            "Requirement already satisfied: pillow!=8.3.*,>=5.3.0 in /usr/local/lib/python3.10/dist-packages (from torchvision->open-clip-torch->mvdream==0.0.1) (9.4.0)\n"
          ]
        }
      ]
    },
    {
      "cell_type": "code",
      "execution_count": 1,
      "metadata": {
        "id": "JNsKObyCxPlF"
      },
      "outputs": [],
      "source": [
        "import torch\n",
        "import matplotlib.pyplot as plt\n",
        "import numpy as np\n",
        "from mvdream.model_zoo import build_model\n",
        "from mvdream.camera_utils import get_camera\n",
        "from mvdream.ldm.models.diffusion.ddim import DDIMSampler"
      ]
    },
    {
      "cell_type": "code",
      "source": [
        "model = build_model(\"sd-v2.1-base-4view\")"
      ],
      "metadata": {
        "colab": {
          "base_uri": "https://localhost:8080/"
        },
        "id": "MMkBO4D7yMma",
        "outputId": "00a3b9eb-b75e-4baa-f82f-652377638afe"
      },
      "execution_count": 2,
      "outputs": [
        {
          "output_type": "stream",
          "name": "stdout",
          "text": [
            "Loading model from config: sd-v2-base.yaml\n"
          ]
        },
        {
          "output_type": "stream",
          "name": "stderr",
          "text": [
            "/usr/local/lib/python3.10/dist-packages/huggingface_hub/utils/_token.py:88: UserWarning: \n",
            "The secret `HF_TOKEN` does not exist in your Colab secrets.\n",
            "To authenticate with the Hugging Face Hub, create a token in your settings tab (https://huggingface.co/settings/tokens), set it as secret in your Google Colab and restart your session.\n",
            "You will be able to reuse this secret in all of your notebooks.\n",
            "Please note that authentication is recommended but still optional to access public models or datasets.\n",
            "  warnings.warn(\n"
          ]
        },
        {
          "output_type": "stream",
          "name": "stdout",
          "text": [
            "No module 'xformers'. Proceeding without it.\n",
            "making attention of type 'vanilla' with 512 in_channels\n",
            "Working with z of shape (1, 4, 32, 32) = 4096 dimensions.\n",
            "making attention of type 'vanilla' with 512 in_channels\n",
            "Loading model from cache file: /root/.cache/huggingface/hub/models--MVDream--MVDream/snapshots/d14ac9d78c48c266005729f2d5633f6c265da467/sd-v2.1-base-4view.pt\n"
          ]
        }
      ]
    },
    {
      "cell_type": "code",
      "source": [
        "device = torch.device(\"cuda\" if torch.cuda.is_available() else \"cpu\")"
      ],
      "metadata": {
        "id": "_EFsBvZo-aap"
      },
      "execution_count": 16,
      "outputs": []
    },
    {
      "cell_type": "code",
      "source": [
        "import argparse\n",
        "parser = argparse.ArgumentParser()\n",
        "parser.add_argument(\"--model_name\", type=str, default=\"sd-v2.1-base-4view\", help=\"load pre-trained model from hugginface\")\n",
        "parser.add_argument(\"--config_path\", type=str, default=None, help=\"load model from local config (override model_name)\")\n",
        "parser.add_argument(\"--ckpt_path\", type=str, default=None, help=\"path to local checkpoint\")\n",
        "parser.add_argument(\"--text\", type=str, default=\"an astronaut riding a horse\")\n",
        "parser.add_argument(\"--suffix\", type=str, default=\", 3d asset\")\n",
        "parser.add_argument(\"--size\", type=int, default=256)\n",
        "parser.add_argument(\"--num_frames\", type=int, default=4, help=\"num of frames (views) to generate\")\n",
        "parser.add_argument(\"--use_camera\", type=int, default=1)\n",
        "parser.add_argument(\"--camera_elev\", type=int, default=15)\n",
        "parser.add_argument(\"--camera_azim\", type=int, default=90)\n",
        "parser.add_argument(\"--camera_azim_span\", type=int, default=360)\n",
        "parser.add_argument(\"--seed\", type=int, default=23)\n",
        "parser.add_argument(\"--fp16\", action=\"store_true\")\n",
        "parser.add_argument(\"--device\", type=str, default='cuda')\n",
        "args = parser.parse_args()"
      ],
      "metadata": {
        "colab": {
          "base_uri": "https://localhost:8080/",
          "height": 265
        },
        "id": "JxBI4Kmi_ZhD",
        "outputId": "0c6200d3-e151-4c48-a8d0-22ded8d969ba"
      },
      "execution_count": 30,
      "outputs": [
        {
          "output_type": "stream",
          "name": "stderr",
          "text": [
            "usage: colab_kernel_launcher.py [-h] [--model_name MODEL_NAME] [--config_path CONFIG_PATH]\n",
            "                                [--ckpt_path CKPT_PATH] [--text TEXT] [--suffix SUFFIX]\n",
            "                                [--size SIZE] [--num_frames NUM_FRAMES] [--use_camera USE_CAMERA]\n",
            "                                [--camera_elev CAMERA_ELEV] [--camera_azim CAMERA_AZIM]\n",
            "                                [--camera_azim_span CAMERA_AZIM_SPAN] [--seed SEED] [--fp16]\n",
            "                                [--device DEVICE]\n",
            "colab_kernel_launcher.py: error: unrecognized arguments: -f /root/.local/share/jupyter/runtime/kernel-f92e3f45-1980-40c1-8b98-acb33facf941.json\n"
          ]
        },
        {
          "output_type": "error",
          "ename": "SystemExit",
          "evalue": "2",
          "traceback": [
            "An exception has occurred, use %tb to see the full traceback.\n",
            "\u001b[0;31mSystemExit\u001b[0m\u001b[0;31m:\u001b[0m 2\n"
          ]
        },
        {
          "output_type": "stream",
          "name": "stderr",
          "text": [
            "/usr/local/lib/python3.10/dist-packages/IPython/core/interactiveshell.py:3561: UserWarning: To exit: use 'exit', 'quit', or Ctrl-D.\n",
            "  warn(\"To exit: use 'exit', 'quit', or Ctrl-D.\", stacklevel=1)\n"
          ]
        }
      ]
    },
    {
      "cell_type": "code",
      "source": [
        "def t2i(model, img_size, prompt, uc, sampler, step=20, scale=7.5, batch_size=4,\n",
        "        ddim_eta=0., dtype=torch.float32, device=\"cuda\", camera=None, num_frames=1):\n",
        "  if type(prompt) != list:\n",
        "    prompt = [prompt]\n",
        "  with torch.no_grad():\n",
        "    c = model.get_learned_conditioning(prompt).to(device)\n",
        "    c_ = {\"context\": c.repeat(batch_size, 1, 1)}\n",
        "    uc_ = {\"context\": uc.repeat(batch_size, 1, 1)}\n",
        "    if camera is not None:\n",
        "      c_[\"camera\"] = uc_[\"camera\"] = camera\n",
        "      c_[\"num_frames\"] = uc_[\"num_frames\"] = num_frames\n",
        "\n",
        "    shape = [4, img_size // 8, img_size // 8]\n",
        "    samples_ddim, _ = sampler.sample(S=step, conditioning=c_,\n",
        "                                        batch_size=batch_size, shape=shape,\n",
        "                                        verbose=False,\n",
        "                                        unconditional_guidance_scale=scale,\n",
        "                                        unconditional_conditioning=uc_,\n",
        "                                        eta=ddim_eta, x_T=None)\n",
        "    x_sample = model.decode_first_stage(samples_ddim)\n",
        "    x_sample = torch.clamp((x_sample + 1.0) / 2.0, min=0.0, max=1.0)\n",
        "    x_sample = 255. * x_sample.permute(0,2,3,1).cpu().numpy()\n",
        "\n",
        "  return list(x_sample.astype(np.uint8))"
      ],
      "metadata": {
        "id": "r5AO5LnYxYA4"
      },
      "execution_count": 27,
      "outputs": []
    },
    {
      "cell_type": "code",
      "source": [
        "batch_size = 4\n",
        "num_frames = 4\n",
        "\n",
        "camera = get_camera(4).to(device)\n",
        "\n",
        "model.device = device\n",
        "model.to(device)\n",
        "model.eval()\n",
        "sampler = DDIMSampler(model)\n",
        "uc = model.get_learned_conditioning( [\"\"] ).to(device)\n",
        "\n",
        "prompt = \"an astronaut riding a horse\"\n",
        "\n",
        "images = []\n",
        "\n",
        "for j in range(3):\n",
        "  img = t2i(model, 256, prompt, uc, sampler, step=50, scale=10, batch_size=batch_size, ddim_eta=0.0,\n",
        "            dtype=torch.float32, device=device, camera=camera, num_frames=num_frames)\n",
        "  img = np.concatenate(img, 1)\n",
        "  images.append(img)"
      ],
      "metadata": {
        "colab": {
          "base_uri": "https://localhost:8080/"
        },
        "id": "cgGZFHrP9SRY",
        "outputId": "8e96cfd4-550a-42b0-a49e-76a8bb7b1fae"
      },
      "execution_count": 31,
      "outputs": [
        {
          "output_type": "stream",
          "name": "stderr",
          "text": [
            "DDIM Sampler: 100%|██████████| 50/50 [00:30<00:00,  1.66it/s]\n",
            "DDIM Sampler: 100%|██████████| 50/50 [00:28<00:00,  1.77it/s]\n",
            "DDIM Sampler: 100%|██████████| 50/50 [00:28<00:00,  1.78it/s]\n"
          ]
        }
      ]
    },
    {
      "cell_type": "code",
      "source": [
        "plt.imshow(images[0])\n",
        "plt.colorbar() # This adds a color bar to the plot, showing the mapping of values to colors\n",
        "plt.title('Normalized Tensor as an Image')\n",
        "plt.show()"
      ],
      "metadata": {
        "colab": {
          "base_uri": "https://localhost:8080/",
          "height": 193
        },
        "id": "sKhbH-WnAPp5",
        "outputId": "2ebd057f-cb7e-404c-8faa-d48e2d0ec71d"
      },
      "execution_count": 36,
      "outputs": [
        {
          "output_type": "error",
          "ename": "IndexError",
          "evalue": "list index out of range",
          "traceback": [
            "\u001b[0;31m---------------------------------------------------------------------------\u001b[0m",
            "\u001b[0;31mIndexError\u001b[0m                                Traceback (most recent call last)",
            "\u001b[0;32m<ipython-input-36-89063cc53506>\u001b[0m in \u001b[0;36m<cell line: 1>\u001b[0;34m()\u001b[0m\n\u001b[0;32m----> 1\u001b[0;31m \u001b[0mplt\u001b[0m\u001b[0;34m.\u001b[0m\u001b[0mimshow\u001b[0m\u001b[0;34m(\u001b[0m\u001b[0mimages\u001b[0m\u001b[0;34m[\u001b[0m\u001b[0;36m3\u001b[0m\u001b[0;34m]\u001b[0m\u001b[0;34m)\u001b[0m\u001b[0;34m\u001b[0m\u001b[0;34m\u001b[0m\u001b[0m\n\u001b[0m\u001b[1;32m      2\u001b[0m \u001b[0mplt\u001b[0m\u001b[0;34m.\u001b[0m\u001b[0mcolorbar\u001b[0m\u001b[0;34m(\u001b[0m\u001b[0;34m)\u001b[0m \u001b[0;31m# This adds a color bar to the plot, showing the mapping of values to colors\u001b[0m\u001b[0;34m\u001b[0m\u001b[0;34m\u001b[0m\u001b[0m\n\u001b[1;32m      3\u001b[0m \u001b[0mplt\u001b[0m\u001b[0;34m.\u001b[0m\u001b[0mtitle\u001b[0m\u001b[0;34m(\u001b[0m\u001b[0;34m'Normalized Tensor as an Image'\u001b[0m\u001b[0;34m)\u001b[0m\u001b[0;34m\u001b[0m\u001b[0;34m\u001b[0m\u001b[0m\n\u001b[1;32m      4\u001b[0m \u001b[0mplt\u001b[0m\u001b[0;34m.\u001b[0m\u001b[0mshow\u001b[0m\u001b[0;34m(\u001b[0m\u001b[0;34m)\u001b[0m\u001b[0;34m\u001b[0m\u001b[0;34m\u001b[0m\u001b[0m\n",
            "\u001b[0;31mIndexError\u001b[0m: list index out of range"
          ]
        }
      ]
    },
    {
      "cell_type": "code",
      "source": [
        "def generate_sample(noise, t, cond):\n",
        "  with torch.no_grad():\n",
        "   return model.apply_model(noise, t, cond=cond)"
      ],
      "metadata": {
        "id": "j4KaXdh-2TxA"
      },
      "execution_count": 3,
      "outputs": []
    },
    {
      "cell_type": "code",
      "source": [
        "model.eval()\n",
        "model.cuda()\n",
        "eps = torch.randn(4,4,32,32, device=\"cuda\") # batch of 4x for 4 views, latent size 32=256/8\n",
        "cond = {\n",
        "    \"context\": model.get_learned_conditioning([\"an astronaut riding a horse\"]*4).cuda(), # text embeddings\n",
        "    \"camera\": get_camera(4).cuda(),\n",
        "    \"num_frames\": 4,\n",
        "}\n",
        "for i in range(999):\n",
        "  t = torch.tensor([999-i]*4, dtype=torch.long, device=\"cuda\") # same timestep for 4 views\n",
        "  print(i)\n",
        "  eps = generate_sample(eps, t, cond)"
      ],
      "metadata": {
        "id": "SaYEsscF2bIy"
      },
      "execution_count": 5,
      "outputs": []
    },
    {
      "cell_type": "code",
      "source": [
        "print(eps.shape)\n",
        "print(eps[0,0])"
      ],
      "metadata": {
        "colab": {
          "base_uri": "https://localhost:8080/"
        },
        "id": "oNrC5wCazVIP",
        "outputId": "42de3f1b-f71f-4ed7-ffaa-f8a409a0d4b1"
      },
      "execution_count": 12,
      "outputs": [
        {
          "output_type": "stream",
          "name": "stdout",
          "text": [
            "torch.Size([4, 4, 32, 32])\n",
            "tensor([[-2.8179e-01, -1.1754e-02,  3.1732e-01,  ...,  1.0585e-02,\n",
            "         -1.1158e-01,  5.9369e-02],\n",
            "        [ 2.1617e-01, -9.9394e-02,  5.8963e-02,  ...,  1.6961e-01,\n",
            "          8.7498e-04,  7.9160e-02],\n",
            "        [ 2.1318e-01,  2.1569e-01, -5.5724e-01,  ...,  5.0389e-01,\n",
            "         -6.0349e-02,  1.1243e-01],\n",
            "        ...,\n",
            "        [ 5.4231e-02, -3.3778e-01, -1.0393e-01,  ...,  1.0524e-01,\n",
            "         -1.8855e-01,  5.2397e-02],\n",
            "        [ 3.1680e-01, -1.3713e-01, -2.2507e-01,  ...,  7.1323e-01,\n",
            "         -2.0804e+00, -1.4328e-01],\n",
            "        [-3.5898e-01,  4.5031e-01,  3.4966e-01,  ...,  8.3054e-01,\n",
            "         -4.0353e-01,  1.5557e-01]], device='cuda:0')\n"
          ]
        }
      ]
    },
    {
      "cell_type": "code",
      "source": [
        "tensor_data = eps[1]\n",
        "# Normalize the tensor data between 0 and 1 for better visualization\n",
        "min_v = torch.min(eps)\n",
        "max_v = torch.max(eps)\n",
        "normalized_tensor = (tensor_data - min_v) / (max_v - min_v)\n",
        "input = normalized_tensor.cpu()\n",
        "print(input.shape)\n",
        "# Plot the normalized tensor as an image\n",
        "plt.imshow(input[3], cmap='gray')\n",
        "plt.colorbar() # This adds a color bar to the plot, showing the mapping of values to colors\n",
        "plt.title('Normalized Tensor as an Image')\n",
        "plt.show()"
      ],
      "metadata": {
        "colab": {
          "base_uri": "https://localhost:8080/",
          "height": 469
        },
        "id": "xFCjEhTz0L2C",
        "outputId": "05b3a2cf-70d5-4049-f6b7-5ccb74f951fa"
      },
      "execution_count": 15,
      "outputs": [
        {
          "output_type": "stream",
          "name": "stdout",
          "text": [
            "torch.Size([4, 32, 32])\n"
          ]
        },
        {
          "output_type": "display_data",
          "data": {
            "text/plain": [
              "<Figure size 640x480 with 2 Axes>"
            ],
            "image/png": "[encoded data removed]"
          },
          "metadata": {}
        }
      ]
    },
    {
      "cell_type": "code",
      "source": [],
      "metadata": {
        "id": "2-4NMN_w0Q9G"
      },
      "execution_count": null,
      "outputs": []
    }
  ]
}