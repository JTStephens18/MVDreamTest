{
  "nbformat": 4,
  "nbformat_minor": 0,
  "metadata": {
    "colab": {
      "provenance": [],
      "mount_file_id": "1fa1DXfuydKvlCUS02g3vmpMFC9xEY7sW",
      "authorship_tag": "ABX9TyP5ivy7Y+Z2qXIXw8YkVbT4",
      "include_colab_link": true
    },
    "kernelspec": {
      "name": "python3",
      "display_name": "Python 3"
    },
    "language_info": {
      "name": "python"
    },
    "widgets": {
      "application/vnd.jupyter.widget-state+json": {
        "3430c05c6f7341c4a1f037164f96a962": {
          "model_module": "@jupyter-widgets/controls",
          "model_name": "HBoxModel",
          "model_module_version": "1.5.0",
          "state": {
            "_dom_classes": [],
            "_model_module": "@jupyter-widgets/controls",
            "_model_module_version": "1.5.0",
            "_model_name": "HBoxModel",
            "_view_count": null,
            "_view_module": "@jupyter-widgets/controls",
            "_view_module_version": "1.5.0",
            "_view_name": "HBoxView",
            "box_style": "",
            "children": [
              "IPY_MODEL_d7e510baa0c9466da17f030fa881b627",
              "IPY_MODEL_8752c4c6e6e74f309511d65865a68754",
              "IPY_MODEL_f732204d9123479b964822b321fb000b"
            ],
            "layout": "IPY_MODEL_de60db86c15c4918bb1c676b84481748"
          }
        },
        "d7e510baa0c9466da17f030fa881b627": {
          "model_module": "@jupyter-widgets/controls",
          "model_name": "HTMLModel",
          "model_module_version": "1.5.0",
          "state": {
            "_dom_classes": [],
            "_model_module": "@jupyter-widgets/controls",
            "_model_module_version": "1.5.0",
            "_model_name": "HTMLModel",
            "_view_count": null,
            "_view_module": "@jupyter-widgets/controls",
            "_view_module_version": "1.5.0",
            "_view_name": "HTMLView",
            "description": "",
            "description_tooltip": null,
            "layout": "IPY_MODEL_cc2f1d856ec64610895d9918915c8786",
            "placeholder": "​",
            "style": "IPY_MODEL_b667925824d747eca3611133f2727c07",
            "value": "open_clip_pytorch_model.bin: 100%"
          }
        },
        "8752c4c6e6e74f309511d65865a68754": {
          "model_module": "@jupyter-widgets/controls",
          "model_name": "FloatProgressModel",
          "model_module_version": "1.5.0",
          "state": {
            "_dom_classes": [],
            "_model_module": "@jupyter-widgets/controls",
            "_model_module_version": "1.5.0",
            "_model_name": "FloatProgressModel",
            "_view_count": null,
            "_view_module": "@jupyter-widgets/controls",
            "_view_module_version": "1.5.0",
            "_view_name": "ProgressView",
            "bar_style": "success",
            "description": "",
            "description_tooltip": null,
            "layout": "IPY_MODEL_497d5f41507d47338bee533da1af6b30",
            "max": 3944692325,
            "min": 0,
            "orientation": "horizontal",
            "style": "IPY_MODEL_f66cb3b9c0804ca797ed919527cbe34e",
            "value": 3944692325
          }
        },
        "f732204d9123479b964822b321fb000b": {
          "model_module": "@jupyter-widgets/controls",
          "model_name": "HTMLModel",
          "model_module_version": "1.5.0",
          "state": {
            "_dom_classes": [],
            "_model_module": "@jupyter-widgets/controls",
            "_model_module_version": "1.5.0",
            "_model_name": "HTMLModel",
            "_view_count": null,
            "_view_module": "@jupyter-widgets/controls",
            "_view_module_version": "1.5.0",
            "_view_name": "HTMLView",
            "description": "",
            "description_tooltip": null,
            "layout": "IPY_MODEL_dcfd52b3afcc406d90d0f1ae1beb2466",
            "placeholder": "​",
            "style": "IPY_MODEL_45b389cdd7ef4b4ebfd1b28d70031972",
            "value": " 3.94G/3.94G [03:34&lt;00:00, 18.7MB/s]"
          }
        },
        "de60db86c15c4918bb1c676b84481748": {
          "model_module": "@jupyter-widgets/base",
          "model_name": "LayoutModel",
          "model_module_version": "1.2.0",
          "state": {
            "_model_module": "@jupyter-widgets/base",
            "_model_module_version": "1.2.0",
            "_model_name": "LayoutModel",
            "_view_count": null,
            "_view_module": "@jupyter-widgets/base",
            "_view_module_version": "1.2.0",
            "_view_name": "LayoutView",
            "align_content": null,
            "align_items": null,
            "align_self": null,
            "border": null,
            "bottom": null,
            "display": null,
            "flex": null,
            "flex_flow": null,
            "grid_area": null,
            "grid_auto_columns": null,
            "grid_auto_flow": null,
            "grid_auto_rows": null,
            "grid_column": null,
            "grid_gap": null,
            "grid_row": null,
            "grid_template_areas": null,
            "grid_template_columns": null,
            "grid_template_rows": null,
            "height": null,
            "justify_content": null,
            "justify_items": null,
            "left": null,
            "margin": null,
            "max_height": null,
            "max_width": null,
            "min_height": null,
            "min_width": null,
            "object_fit": null,
            "object_position": null,
            "order": null,
            "overflow": null,
            "overflow_x": null,
            "overflow_y": null,
            "padding": null,
            "right": null,
            "top": null,
            "visibility": null,
            "width": null
          }
        },
        "cc2f1d856ec64610895d9918915c8786": {
          "model_module": "@jupyter-widgets/base",
          "model_name": "LayoutModel",
          "model_module_version": "1.2.0",
          "state": {
            "_model_module": "@jupyter-widgets/base",
            "_model_module_version": "1.2.0",
            "_model_name": "LayoutModel",
            "_view_count": null,
            "_view_module": "@jupyter-widgets/base",
            "_view_module_version": "1.2.0",
            "_view_name": "LayoutView",
            "align_content": null,
            "align_items": null,
            "align_self": null,
            "border": null,
            "bottom": null,
            "display": null,
            "flex": null,
            "flex_flow": null,
            "grid_area": null,
            "grid_auto_columns": null,
            "grid_auto_flow": null,
            "grid_auto_rows": null,
            "grid_column": null,
            "grid_gap": null,
            "grid_row": null,
            "grid_template_areas": null,
            "grid_template_columns": null,
            "grid_template_rows": null,
            "height": null,
            "justify_content": null,
            "justify_items": null,
            "left": null,
            "margin": null,
            "max_height": null,
            "max_width": null,
            "min_height": null,
            "min_width": null,
            "object_fit": null,
            "object_position": null,
            "order": null,
            "overflow": null,
            "overflow_x": null,
            "overflow_y": null,
            "padding": null,
            "right": null,
            "top": null,
            "visibility": null,
            "width": null
          }
        },
        "b667925824d747eca3611133f2727c07": {
          "model_module": "@jupyter-widgets/controls",
          "model_name": "DescriptionStyleModel",
          "model_module_version": "1.5.0",
          "state": {
            "_model_module": "@jupyter-widgets/controls",
            "_model_module_version": "1.5.0",
            "_model_name": "DescriptionStyleModel",
            "_view_count": null,
            "_view_module": "@jupyter-widgets/base",
            "_view_module_version": "1.2.0",
            "_view_name": "StyleView",
            "description_width": ""
          }
        },
        "497d5f41507d47338bee533da1af6b30": {
          "model_module": "@jupyter-widgets/base",
          "model_name": "LayoutModel",
          "model_module_version": "1.2.0",
          "state": {
            "_model_module": "@jupyter-widgets/base",
            "_model_module_version": "1.2.0",
            "_model_name": "LayoutModel",
            "_view_count": null,
            "_view_module": "@jupyter-widgets/base",
            "_view_module_version": "1.2.0",
            "_view_name": "LayoutView",
            "align_content": null,
            "align_items": null,
            "align_self": null,
            "border": null,
            "bottom": null,
            "display": null,
            "flex": null,
            "flex_flow": null,
            "grid_area": null,
            "grid_auto_columns": null,
            "grid_auto_flow": null,
            "grid_auto_rows": null,
            "grid_column": null,
            "grid_gap": null,
            "grid_row": null,
            "grid_template_areas": null,
            "grid_template_columns": null,
            "grid_template_rows": null,
            "height": null,
            "justify_content": null,
            "justify_items": null,
            "left": null,
            "margin": null,
            "max_height": null,
            "max_width": null,
            "min_height": null,
            "min_width": null,
            "object_fit": null,
            "object_position": null,
            "order": null,
            "overflow": null,
            "overflow_x": null,
            "overflow_y": null,
            "padding": null,
            "right": null,
            "top": null,
            "visibility": null,
            "width": null
          }
        },
        "f66cb3b9c0804ca797ed919527cbe34e": {
          "model_module": "@jupyter-widgets/controls",
          "model_name": "ProgressStyleModel",
          "model_module_version": "1.5.0",
          "state": {
            "_model_module": "@jupyter-widgets/controls",
            "_model_module_version": "1.5.0",
            "_model_name": "ProgressStyleModel",
            "_view_count": null,
            "_view_module": "@jupyter-widgets/base",
            "_view_module_version": "1.2.0",
            "_view_name": "StyleView",
            "bar_color": null,
            "description_width": ""
          }
        },
        "dcfd52b3afcc406d90d0f1ae1beb2466": {
          "model_module": "@jupyter-widgets/base",
          "model_name": "LayoutModel",
          "model_module_version": "1.2.0",
          "state": {
            "_model_module": "@jupyter-widgets/base",
            "_model_module_version": "1.2.0",
            "_model_name": "LayoutModel",
            "_view_count": null,
            "_view_module": "@jupyter-widgets/base",
            "_view_module_version": "1.2.0",
            "_view_name": "LayoutView",
            "align_content": null,
            "align_items": null,
            "align_self": null,
            "border": null,
            "bottom": null,
            "display": null,
            "flex": null,
            "flex_flow": null,
            "grid_area": null,
            "grid_auto_columns": null,
            "grid_auto_flow": null,
            "grid_auto_rows": null,
            "grid_column": null,
            "grid_gap": null,
            "grid_row": null,
            "grid_template_areas": null,
            "grid_template_columns": null,
            "grid_template_rows": null,
            "height": null,
            "justify_content": null,
            "justify_items": null,
            "left": null,
            "margin": null,
            "max_height": null,
            "max_width": null,
            "min_height": null,
            "min_width": null,
            "object_fit": null,
            "object_position": null,
            "order": null,
            "overflow": null,
            "overflow_x": null,
            "overflow_y": null,
            "padding": null,
            "right": null,
            "top": null,
            "visibility": null,
            "width": null
          }
        },
        "45b389cdd7ef4b4ebfd1b28d70031972": {
          "model_module": "@jupyter-widgets/controls",
          "model_name": "DescriptionStyleModel",
          "model_module_version": "1.5.0",
          "state": {
            "_model_module": "@jupyter-widgets/controls",
            "_model_module_version": "1.5.0",
            "_model_name": "DescriptionStyleModel",
            "_view_count": null,
            "_view_module": "@jupyter-widgets/base",
            "_view_module_version": "1.2.0",
            "_view_name": "StyleView",
            "description_width": ""
          }
        },
        "74c54324398e4b3ca3f5f9b33026b529": {
          "model_module": "@jupyter-widgets/controls",
          "model_name": "HBoxModel",
          "model_module_version": "1.5.0",
          "state": {
            "_dom_classes": [],
            "_model_module": "@jupyter-widgets/controls",
            "_model_module_version": "1.5.0",
            "_model_name": "HBoxModel",
            "_view_count": null,
            "_view_module": "@jupyter-widgets/controls",
            "_view_module_version": "1.5.0",
            "_view_name": "HBoxView",
            "box_style": "",
            "children": [
              "IPY_MODEL_d4117a7320be4ff9aca8169cf205ddcc",
              "IPY_MODEL_a12094237d9a43cc86320499ed78bbdd",
              "IPY_MODEL_b5c473a473f2477283b09bd08fade5ee"
            ],
            "layout": "IPY_MODEL_319d774b6a4f4a44862f16f74bcddd0c"
          }
        },
        "d4117a7320be4ff9aca8169cf205ddcc": {
          "model_module": "@jupyter-widgets/controls",
          "model_name": "HTMLModel",
          "model_module_version": "1.5.0",
          "state": {
            "_dom_classes": [],
            "_model_module": "@jupyter-widgets/controls",
            "_model_module_version": "1.5.0",
            "_model_name": "HTMLModel",
            "_view_count": null,
            "_view_module": "@jupyter-widgets/controls",
            "_view_module_version": "1.5.0",
            "_view_name": "HTMLView",
            "description": "",
            "description_tooltip": null,
            "layout": "IPY_MODEL_dc0c25b96da24219b2a6badb335714a2",
            "placeholder": "​",
            "style": "IPY_MODEL_64052100078944de8c411b46b8251251",
            "value": "sd-v2.1-base-4view.pt: 100%"
          }
        },
        "a12094237d9a43cc86320499ed78bbdd": {
          "model_module": "@jupyter-widgets/controls",
          "model_name": "FloatProgressModel",
          "model_module_version": "1.5.0",
          "state": {
            "_dom_classes": [],
            "_model_module": "@jupyter-widgets/controls",
            "_model_module_version": "1.5.0",
            "_model_name": "FloatProgressModel",
            "_view_count": null,
            "_view_module": "@jupyter-widgets/controls",
            "_view_module_version": "1.5.0",
            "_view_name": "ProgressView",
            "bar_style": "success",
            "description": "",
            "description_tooltip": null,
            "layout": "IPY_MODEL_7d8643a2a2514f13b815acf29fdf6764",
            "max": 5221505321,
            "min": 0,
            "orientation": "horizontal",
            "style": "IPY_MODEL_b6b894a21d5e45b486634c9084bab1b9",
            "value": 5221505321
          }
        },
        "b5c473a473f2477283b09bd08fade5ee": {
          "model_module": "@jupyter-widgets/controls",
          "model_name": "HTMLModel",
          "model_module_version": "1.5.0",
          "state": {
            "_dom_classes": [],
            "_model_module": "@jupyter-widgets/controls",
            "_model_module_version": "1.5.0",
            "_model_name": "HTMLModel",
            "_view_count": null,
            "_view_module": "@jupyter-widgets/controls",
            "_view_module_version": "1.5.0",
            "_view_name": "HTMLView",
            "description": "",
            "description_tooltip": null,
            "layout": "IPY_MODEL_45558395470142fea68dedd6aef846d2",
            "placeholder": "​",
            "style": "IPY_MODEL_7897aa15c8914fbd8f3a9e4431b6788b",
            "value": " 5.22G/5.22G [04:44&lt;00:00, 20.3MB/s]"
          }
        },
        "319d774b6a4f4a44862f16f74bcddd0c": {
          "model_module": "@jupyter-widgets/base",
          "model_name": "LayoutModel",
          "model_module_version": "1.2.0",
          "state": {
            "_model_module": "@jupyter-widgets/base",
            "_model_module_version": "1.2.0",
            "_model_name": "LayoutModel",
            "_view_count": null,
            "_view_module": "@jupyter-widgets/base",
            "_view_module_version": "1.2.0",
            "_view_name": "LayoutView",
            "align_content": null,
            "align_items": null,
            "align_self": null,
            "border": null,
            "bottom": null,
            "display": null,
            "flex": null,
            "flex_flow": null,
            "grid_area": null,
            "grid_auto_columns": null,
            "grid_auto_flow": null,
            "grid_auto_rows": null,
            "grid_column": null,
            "grid_gap": null,
            "grid_row": null,
            "grid_template_areas": null,
            "grid_template_columns": null,
            "grid_template_rows": null,
            "height": null,
            "justify_content": null,
            "justify_items": null,
            "left": null,
            "margin": null,
            "max_height": null,
            "max_width": null,
            "min_height": null,
            "min_width": null,
            "object_fit": null,
            "object_position": null,
            "order": null,
            "overflow": null,
            "overflow_x": null,
            "overflow_y": null,
            "padding": null,
            "right": null,
            "top": null,
            "visibility": null,
            "width": null
          }
        },
        "dc0c25b96da24219b2a6badb335714a2": {
          "model_module": "@jupyter-widgets/base",
          "model_name": "LayoutModel",
          "model_module_version": "1.2.0",
          "state": {
            "_model_module": "@jupyter-widgets/base",
            "_model_module_version": "1.2.0",
            "_model_name": "LayoutModel",
            "_view_count": null,
            "_view_module": "@jupyter-widgets/base",
            "_view_module_version": "1.2.0",
            "_view_name": "LayoutView",
            "align_content": null,
            "align_items": null,
            "align_self": null,
            "border": null,
            "bottom": null,
            "display": null,
            "flex": null,
            "flex_flow": null,
            "grid_area": null,
            "grid_auto_columns": null,
            "grid_auto_flow": null,
            "grid_auto_rows": null,
            "grid_column": null,
            "grid_gap": null,
            "grid_row": null,
            "grid_template_areas": null,
            "grid_template_columns": null,
            "grid_template_rows": null,
            "height": null,
            "justify_content": null,
            "justify_items": null,
            "left": null,
            "margin": null,
            "max_height": null,
            "max_width": null,
            "min_height": null,
            "min_width": null,
            "object_fit": null,
            "object_position": null,
            "order": null,
            "overflow": null,
            "overflow_x": null,
            "overflow_y": null,
            "padding": null,
            "right": null,
            "top": null,
            "visibility": null,
            "width": null
          }
        },
        "64052100078944de8c411b46b8251251": {
          "model_module": "@jupyter-widgets/controls",
          "model_name": "DescriptionStyleModel",
          "model_module_version": "1.5.0",
          "state": {
            "_model_module": "@jupyter-widgets/controls",
            "_model_module_version": "1.5.0",
            "_model_name": "DescriptionStyleModel",
            "_view_count": null,
            "_view_module": "@jupyter-widgets/base",
            "_view_module_version": "1.2.0",
            "_view_name": "StyleView",
            "description_width": ""
          }
        },
        "7d8643a2a2514f13b815acf29fdf6764": {
          "model_module": "@jupyter-widgets/base",
          "model_name": "LayoutModel",
          "model_module_version": "1.2.0",
          "state": {
            "_model_module": "@jupyter-widgets/base",
            "_model_module_version": "1.2.0",
            "_model_name": "LayoutModel",
            "_view_count": null,
            "_view_module": "@jupyter-widgets/base",
            "_view_module_version": "1.2.0",
            "_view_name": "LayoutView",
            "align_content": null,
            "align_items": null,
            "align_self": null,
            "border": null,
            "bottom": null,
            "display": null,
            "flex": null,
            "flex_flow": null,
            "grid_area": null,
            "grid_auto_columns": null,
            "grid_auto_flow": null,
            "grid_auto_rows": null,
            "grid_column": null,
            "grid_gap": null,
            "grid_row": null,
            "grid_template_areas": null,
            "grid_template_columns": null,
            "grid_template_rows": null,
            "height": null,
            "justify_content": null,
            "justify_items": null,
            "left": null,
            "margin": null,
            "max_height": null,
            "max_width": null,
            "min_height": null,
            "min_width": null,
            "object_fit": null,
            "object_position": null,
            "order": null,
            "overflow": null,
            "overflow_x": null,
            "overflow_y": null,
            "padding": null,
            "right": null,
            "top": null,
            "visibility": null,
            "width": null
          }
        },
        "b6b894a21d5e45b486634c9084bab1b9": {
          "model_module": "@jupyter-widgets/controls",
          "model_name": "ProgressStyleModel",
          "model_module_version": "1.5.0",
          "state": {
            "_model_module": "@jupyter-widgets/controls",
            "_model_module_version": "1.5.0",
            "_model_name": "ProgressStyleModel",
            "_view_count": null,
            "_view_module": "@jupyter-widgets/base",
            "_view_module_version": "1.2.0",
            "_view_name": "StyleView",
            "bar_color": null,
            "description_width": ""
          }
        },
        "45558395470142fea68dedd6aef846d2": {
          "model_module": "@jupyter-widgets/base",
          "model_name": "LayoutModel",
          "model_module_version": "1.2.0",
          "state": {
            "_model_module": "@jupyter-widgets/base",
            "_model_module_version": "1.2.0",
            "_model_name": "LayoutModel",
            "_view_count": null,
            "_view_module": "@jupyter-widgets/base",
            "_view_module_version": "1.2.0",
            "_view_name": "LayoutView",
            "align_content": null,
            "align_items": null,
            "align_self": null,
            "border": null,
            "bottom": null,
            "display": null,
            "flex": null,
            "flex_flow": null,
            "grid_area": null,
            "grid_auto_columns": null,
            "grid_auto_flow": null,
            "grid_auto_rows": null,
            "grid_column": null,
            "grid_gap": null,
            "grid_row": null,
            "grid_template_areas": null,
            "grid_template_columns": null,
            "grid_template_rows": null,
            "height": null,
            "justify_content": null,
            "justify_items": null,
            "left": null,
            "margin": null,
            "max_height": null,
            "max_width": null,
            "min_height": null,
            "min_width": null,
            "object_fit": null,
            "object_position": null,
            "order": null,
            "overflow": null,
            "overflow_x": null,
            "overflow_y": null,
            "padding": null,
            "right": null,
            "top": null,
            "visibility": null,
            "width": null
          }
        },
        "7897aa15c8914fbd8f3a9e4431b6788b": {
          "model_module": "@jupyter-widgets/controls",
          "model_name": "DescriptionStyleModel",
          "model_module_version": "1.5.0",
          "state": {
            "_model_module": "@jupyter-widgets/controls",
            "_model_module_version": "1.5.0",
            "_model_name": "DescriptionStyleModel",
            "_view_count": null,
            "_view_module": "@jupyter-widgets/base",
            "_view_module_version": "1.2.0",
            "_view_name": "StyleView",
            "description_width": ""
          }
        }
      }
    }
  },
  "cells": [
    {
      "cell_type": "markdown",
      "metadata": {
        "id": "view-in-github",
        "colab_type": "text"
      },
      "source": [
        "<a href=\"https://colab.research.google.com/github/JTStephens18/MVDreamTest/blob/main/MVDream.ipynb\" target=\"_parent\"><img src=\"https://colab.research.google.com/assets/colab-badge.svg\" alt=\"Open In Colab\"/></a>"
      ]
    },
    {
      "cell_type": "code",
      "source": [
        "!pip install git+https://github.com/bytedance/MVDream"
      ],
      "metadata": {
        "colab": {
          "base_uri": "https://localhost:8080/"
        },
        "id": "NCZryh54xfAL",
        "outputId": "222a319a-0d7d-45c9-bdfb-079abc929831"
      },
      "execution_count": 1,
      "outputs": [
        {
          "output_type": "stream",
          "name": "stdout",
          "text": [
            "Collecting git+https://github.com/bytedance/MVDream\n",
            "  Cloning https://github.com/bytedance/MVDream to /tmp/pip-req-build-55qpgu95\n",
            "  Running command git clone --filter=blob:none --quiet https://github.com/bytedance/MVDream /tmp/pip-req-build-55qpgu95\n",
            "  Resolved https://github.com/bytedance/MVDream to commit 618f84476c88e04adaf588133be2830142b9956d\n",
            "  Preparing metadata (setup.py) ... \u001b[?25l\u001b[?25hdone\n",
            "Requirement already satisfied: torch in /usr/local/lib/python3.10/dist-packages (from mvdream==0.0.1) (2.2.1+cu121)\n",
            "Requirement already satisfied: numpy in /usr/local/lib/python3.10/dist-packages (from mvdream==0.0.1) (1.25.2)\n",
            "Requirement already satisfied: tqdm in /usr/local/lib/python3.10/dist-packages (from mvdream==0.0.1) (4.66.2)\n",
            "Requirement already satisfied: omegaconf in /usr/local/lib/python3.10/dist-packages (from mvdream==0.0.1) (2.3.0)\n",
            "Requirement already satisfied: einops in /usr/local/lib/python3.10/dist-packages (from mvdream==0.0.1) (0.7.0)\n",
            "Requirement already satisfied: huggingface_hub in /usr/local/lib/python3.10/dist-packages (from mvdream==0.0.1) (0.20.3)\n",
            "Requirement already satisfied: transformers in /usr/local/lib/python3.10/dist-packages (from mvdream==0.0.1) (4.38.2)\n",
            "Requirement already satisfied: open-clip-torch in /usr/local/lib/python3.10/dist-packages (from mvdream==0.0.1) (2.24.0)\n",
            "Requirement already satisfied: filelock in /usr/local/lib/python3.10/dist-packages (from huggingface_hub->mvdream==0.0.1) (3.13.3)\n",
            "Requirement already satisfied: fsspec>=2023.5.0 in /usr/local/lib/python3.10/dist-packages (from huggingface_hub->mvdream==0.0.1) (2023.6.0)\n",
            "Requirement already satisfied: requests in /usr/local/lib/python3.10/dist-packages (from huggingface_hub->mvdream==0.0.1) (2.31.0)\n",
            "Requirement already satisfied: pyyaml>=5.1 in /usr/local/lib/python3.10/dist-packages (from huggingface_hub->mvdream==0.0.1) (6.0.1)\n",
            "Requirement already satisfied: typing-extensions>=3.7.4.3 in /usr/local/lib/python3.10/dist-packages (from huggingface_hub->mvdream==0.0.1) (4.10.0)\n",
            "Requirement already satisfied: packaging>=20.9 in /usr/local/lib/python3.10/dist-packages (from huggingface_hub->mvdream==0.0.1) (24.0)\n",
            "Requirement already satisfied: antlr4-python3-runtime==4.9.* in /usr/local/lib/python3.10/dist-packages (from omegaconf->mvdream==0.0.1) (4.9.3)\n",
            "Requirement already satisfied: torchvision in /usr/local/lib/python3.10/dist-packages (from open-clip-torch->mvdream==0.0.1) (0.17.1+cu121)\n",
            "Requirement already satisfied: regex in /usr/local/lib/python3.10/dist-packages (from open-clip-torch->mvdream==0.0.1) (2023.12.25)\n",
            "Requirement already satisfied: ftfy in /usr/local/lib/python3.10/dist-packages (from open-clip-torch->mvdream==0.0.1) (6.2.0)\n",
            "Requirement already satisfied: sentencepiece in /usr/local/lib/python3.10/dist-packages (from open-clip-torch->mvdream==0.0.1) (0.1.99)\n",
            "Requirement already satisfied: protobuf in /usr/local/lib/python3.10/dist-packages (from open-clip-torch->mvdream==0.0.1) (3.20.3)\n",
            "Requirement already satisfied: timm in /usr/local/lib/python3.10/dist-packages (from open-clip-torch->mvdream==0.0.1) (0.9.16)\n",
            "Requirement already satisfied: sympy in /usr/local/lib/python3.10/dist-packages (from torch->mvdream==0.0.1) (1.12)\n",
            "Requirement already satisfied: networkx in /usr/local/lib/python3.10/dist-packages (from torch->mvdream==0.0.1) (3.2.1)\n",
            "Requirement already satisfied: jinja2 in /usr/local/lib/python3.10/dist-packages (from torch->mvdream==0.0.1) (3.1.3)\n",
            "Requirement already satisfied: nvidia-cuda-nvrtc-cu12==12.1.105 in /usr/local/lib/python3.10/dist-packages (from torch->mvdream==0.0.1) (12.1.105)\n",
            "Requirement already satisfied: nvidia-cuda-runtime-cu12==12.1.105 in /usr/local/lib/python3.10/dist-packages (from torch->mvdream==0.0.1) (12.1.105)\n",
            "Requirement already satisfied: nvidia-cuda-cupti-cu12==12.1.105 in /usr/local/lib/python3.10/dist-packages (from torch->mvdream==0.0.1) (12.1.105)\n",
            "Requirement already satisfied: nvidia-cudnn-cu12==8.9.2.26 in /usr/local/lib/python3.10/dist-packages (from torch->mvdream==0.0.1) (8.9.2.26)\n",
            "Requirement already satisfied: nvidia-cublas-cu12==12.1.3.1 in /usr/local/lib/python3.10/dist-packages (from torch->mvdream==0.0.1) (12.1.3.1)\n",
            "Requirement already satisfied: nvidia-cufft-cu12==11.0.2.54 in /usr/local/lib/python3.10/dist-packages (from torch->mvdream==0.0.1) (11.0.2.54)\n",
            "Requirement already satisfied: nvidia-curand-cu12==10.3.2.106 in /usr/local/lib/python3.10/dist-packages (from torch->mvdream==0.0.1) (10.3.2.106)\n",
            "Requirement already satisfied: nvidia-cusolver-cu12==11.4.5.107 in /usr/local/lib/python3.10/dist-packages (from torch->mvdream==0.0.1) (11.4.5.107)\n",
            "Requirement already satisfied: nvidia-cusparse-cu12==12.1.0.106 in /usr/local/lib/python3.10/dist-packages (from torch->mvdream==0.0.1) (12.1.0.106)\n",
            "Requirement already satisfied: nvidia-nccl-cu12==2.19.3 in /usr/local/lib/python3.10/dist-packages (from torch->mvdream==0.0.1) (2.19.3)\n",
            "Requirement already satisfied: nvidia-nvtx-cu12==12.1.105 in /usr/local/lib/python3.10/dist-packages (from torch->mvdream==0.0.1) (12.1.105)\n",
            "Requirement already satisfied: triton==2.2.0 in /usr/local/lib/python3.10/dist-packages (from torch->mvdream==0.0.1) (2.2.0)\n",
            "Requirement already satisfied: nvidia-nvjitlink-cu12 in /usr/local/lib/python3.10/dist-packages (from nvidia-cusolver-cu12==11.4.5.107->torch->mvdream==0.0.1) (12.4.99)\n",
            "Requirement already satisfied: tokenizers<0.19,>=0.14 in /usr/local/lib/python3.10/dist-packages (from transformers->mvdream==0.0.1) (0.15.2)\n",
            "Requirement already satisfied: safetensors>=0.4.1 in /usr/local/lib/python3.10/dist-packages (from transformers->mvdream==0.0.1) (0.4.2)\n",
            "Requirement already satisfied: wcwidth<0.3.0,>=0.2.12 in /usr/local/lib/python3.10/dist-packages (from ftfy->open-clip-torch->mvdream==0.0.1) (0.2.13)\n",
            "Requirement already satisfied: MarkupSafe>=2.0 in /usr/local/lib/python3.10/dist-packages (from jinja2->torch->mvdream==0.0.1) (2.1.5)\n",
            "Requirement already satisfied: charset-normalizer<4,>=2 in /usr/local/lib/python3.10/dist-packages (from requests->huggingface_hub->mvdream==0.0.1) (3.3.2)\n",
            "Requirement already satisfied: idna<4,>=2.5 in /usr/local/lib/python3.10/dist-packages (from requests->huggingface_hub->mvdream==0.0.1) (3.6)\n",
            "Requirement already satisfied: urllib3<3,>=1.21.1 in /usr/local/lib/python3.10/dist-packages (from requests->huggingface_hub->mvdream==0.0.1) (2.0.7)\n",
            "Requirement already satisfied: certifi>=2017.4.17 in /usr/local/lib/python3.10/dist-packages (from requests->huggingface_hub->mvdream==0.0.1) (2024.2.2)\n",
            "Requirement already satisfied: mpmath>=0.19 in /usr/local/lib/python3.10/dist-packages (from sympy->torch->mvdream==0.0.1) (1.3.0)\n",
            "Requirement already satisfied: pillow!=8.3.*,>=5.3.0 in /usr/local/lib/python3.10/dist-packages (from torchvision->open-clip-torch->mvdream==0.0.1) (9.4.0)\n"
          ]
        }
      ]
    },
    {
      "cell_type": "code",
      "execution_count": 2,
      "metadata": {
        "id": "JNsKObyCxPlF"
      },
      "outputs": [],
      "source": [
        "import torch\n",
        "import matplotlib.pyplot as plt\n",
        "import numpy as np\n",
        "from PIL import Image\n",
        "from mvdream.model_zoo import build_model\n",
        "from mvdream.camera_utils import get_camera\n",
        "from mvdream.ldm.models.diffusion.ddim import DDIMSampler"
      ]
    },
    {
      "cell_type": "code",
      "source": [
        "model = build_model(\"sd-v2.1-base-4view\")"
      ],
      "metadata": {
        "colab": {
          "base_uri": "https://localhost:8080/",
          "height": 309,
          "referenced_widgets": [
            "3430c05c6f7341c4a1f037164f96a962",
            "d7e510baa0c9466da17f030fa881b627",
            "8752c4c6e6e74f309511d65865a68754",
            "f732204d9123479b964822b321fb000b",
            "de60db86c15c4918bb1c676b84481748",
            "cc2f1d856ec64610895d9918915c8786",
            "b667925824d747eca3611133f2727c07",
            "497d5f41507d47338bee533da1af6b30",
            "f66cb3b9c0804ca797ed919527cbe34e",
            "dcfd52b3afcc406d90d0f1ae1beb2466",
            "45b389cdd7ef4b4ebfd1b28d70031972",
            "74c54324398e4b3ca3f5f9b33026b529",
            "d4117a7320be4ff9aca8169cf205ddcc",
            "a12094237d9a43cc86320499ed78bbdd",
            "b5c473a473f2477283b09bd08fade5ee",
            "319d774b6a4f4a44862f16f74bcddd0c",
            "dc0c25b96da24219b2a6badb335714a2",
            "64052100078944de8c411b46b8251251",
            "7d8643a2a2514f13b815acf29fdf6764",
            "b6b894a21d5e45b486634c9084bab1b9",
            "45558395470142fea68dedd6aef846d2",
            "7897aa15c8914fbd8f3a9e4431b6788b"
          ]
        },
        "id": "MMkBO4D7yMma",
        "outputId": "c987000b-8660-4d61-eb64-94e7d902466c"
      },
      "execution_count": 3,
      "outputs": [
        {
          "metadata": {
            "tags": null
          },
          "name": "stdout",
          "output_type": "stream",
          "text": [
            "Loading model from config: sd-v2-base.yaml\n"
          ]
        },
        {
          "metadata": {
            "tags": null
          },
          "name": "stderr",
          "output_type": "stream",
          "text": [
            "/usr/local/lib/python3.10/dist-packages/huggingface_hub/utils/_token.py:88: UserWarning: \n",
            "The secret `HF_TOKEN` does not exist in your Colab secrets.\n",
            "To authenticate with the Hugging Face Hub, create a token in your settings tab (https://huggingface.co/settings/tokens), set it as secret in your Google Colab and restart your session.\n",
            "You will be able to reuse this secret in all of your notebooks.\n",
            "Please note that authentication is recommended but still optional to access public models or datasets.\n",
            "  warnings.warn(\n"
          ]
        },
        {
          "data": {
            "application/vnd.jupyter.widget-view+json": {
              "model_id": "3430c05c6f7341c4a1f037164f96a962",
              "version_major": 2,
              "version_minor": 0
            },
            "text/plain": [
              "open_clip_pytorch_model.bin:   0%|          | 0.00/3.94G [00:00<?, ?B/s]"
            ]
          },
          "metadata": {},
          "output_type": "display_data"
        },
        {
          "output_type": "stream",
          "name": "stdout",
          "text": [
            "No module 'xformers'. Proceeding without it.\n",
            "making attention of type 'vanilla' with 512 in_channels\n",
            "Working with z of shape (1, 4, 32, 32) = 4096 dimensions.\n",
            "making attention of type 'vanilla' with 512 in_channels\n"
          ]
        },
        {
          "output_type": "display_data",
          "data": {
            "text/plain": [
              "sd-v2.1-base-4view.pt:   0%|          | 0.00/5.22G [00:00<?, ?B/s]"
            ],
            "application/vnd.jupyter.widget-view+json": {
              "version_major": 2,
              "version_minor": 0,
              "model_id": "74c54324398e4b3ca3f5f9b33026b529"
            }
          },
          "metadata": {}
        },
        {
          "output_type": "stream",
          "name": "stdout",
          "text": [
            "Loading model from cache file: /root/.cache/huggingface/hub/models--MVDream--MVDream/snapshots/d14ac9d78c48c266005729f2d5633f6c265da467/sd-v2.1-base-4view.pt\n"
          ]
        }
      ]
    },
    {
      "cell_type": "code",
      "source": [
        "device = torch.device(\"cuda\" if torch.cuda.is_available() else \"cpu\")"
      ],
      "metadata": {
        "id": "_EFsBvZo-aap"
      },
      "execution_count": 4,
      "outputs": []
    },
    {
      "cell_type": "code",
      "source": [
        "# import argparse\n",
        "# parser = argparse.ArgumentParser()\n",
        "# parser.add_argument(\"--model_name\", type=str, default=\"sd-v2.1-base-4view\", help=\"load pre-trained model from hugginface\")\n",
        "# parser.add_argument(\"--config_path\", type=str, default=None, help=\"load model from local config (override model_name)\")\n",
        "# parser.add_argument(\"--ckpt_path\", type=str, default=None, help=\"path to local checkpoint\")\n",
        "# parser.add_argument(\"--text\", type=str, default=\"an astronaut riding a horse\")\n",
        "# parser.add_argument(\"--suffix\", type=str, default=\", 3d asset\")\n",
        "# parser.add_argument(\"--size\", type=int, default=256)\n",
        "# parser.add_argument(\"--num_frames\", type=int, default=4, help=\"num of frames (views) to generate\")\n",
        "# parser.add_argument(\"--use_camera\", type=int, default=1)\n",
        "# parser.add_argument(\"--camera_elev\", type=int, default=15)\n",
        "# parser.add_argument(\"--camera_azim\", type=int, default=90)\n",
        "# parser.add_argument(\"--camera_azim_span\", type=int, default=360)\n",
        "# parser.add_argument(\"--seed\", type=int, default=23)\n",
        "# parser.add_argument(\"--fp16\", action=\"store_true\")\n",
        "# parser.add_argument(\"--device\", type=str, default='cuda')\n",
        "# args = parser.parse_args()"
      ],
      "metadata": {
        "colab": {
          "base_uri": "https://localhost:8080/",
          "height": 265
        },
        "id": "JxBI4Kmi_ZhD",
        "outputId": "0c6200d3-e151-4c48-a8d0-22ded8d969ba"
      },
      "execution_count": 30,
      "outputs": [
        {
          "output_type": "stream",
          "name": "stderr",
          "text": [
            "usage: colab_kernel_launcher.py [-h] [--model_name MODEL_NAME] [--config_path CONFIG_PATH]\n",
            "                                [--ckpt_path CKPT_PATH] [--text TEXT] [--suffix SUFFIX]\n",
            "                                [--size SIZE] [--num_frames NUM_FRAMES] [--use_camera USE_CAMERA]\n",
            "                                [--camera_elev CAMERA_ELEV] [--camera_azim CAMERA_AZIM]\n",
            "                                [--camera_azim_span CAMERA_AZIM_SPAN] [--seed SEED] [--fp16]\n",
            "                                [--device DEVICE]\n",
            "colab_kernel_launcher.py: error: unrecognized arguments: -f /root/.local/share/jupyter/runtime/kernel-f92e3f45-1980-40c1-8b98-acb33facf941.json\n"
          ]
        },
        {
          "output_type": "error",
          "ename": "SystemExit",
          "evalue": "2",
          "traceback": [
            "An exception has occurred, use %tb to see the full traceback.\n",
            "\u001b[0;31mSystemExit\u001b[0m\u001b[0;31m:\u001b[0m 2\n"
          ]
        },
        {
          "output_type": "stream",
          "name": "stderr",
          "text": [
            "/usr/local/lib/python3.10/dist-packages/IPython/core/interactiveshell.py:3561: UserWarning: To exit: use 'exit', 'quit', or Ctrl-D.\n",
            "  warn(\"To exit: use 'exit', 'quit', or Ctrl-D.\", stacklevel=1)\n"
          ]
        }
      ]
    },
    {
      "cell_type": "code",
      "source": [
        "def t2i(model, img_size, prompt, uc, sampler, step=20, scale=7.5, batch_size=4,\n",
        "        ddim_eta=0., dtype=torch.float32, device=\"cuda\", camera=None, num_frames=1):\n",
        "  if type(prompt) != list:\n",
        "    prompt = [prompt]\n",
        "  with torch.no_grad():\n",
        "    c = model.get_learned_conditioning(prompt).to(device)\n",
        "    c_ = {\"context\": c.repeat(batch_size, 1, 1)}\n",
        "    uc_ = {\"context\": uc.repeat(batch_size, 1, 1)}\n",
        "    if camera is not None:\n",
        "      c_[\"camera\"] = uc_[\"camera\"] = camera\n",
        "      c_[\"num_frames\"] = uc_[\"num_frames\"] = num_frames\n",
        "\n",
        "    shape = [4, img_size // 8, img_size // 8]\n",
        "    samples_ddim, _ = sampler.sample(S=step, conditioning=c_,\n",
        "                                        batch_size=batch_size, shape=shape,\n",
        "                                        verbose=False,\n",
        "                                        unconditional_guidance_scale=scale,\n",
        "                                        unconditional_conditioning=uc_,\n",
        "                                        eta=ddim_eta, x_T=None)\n",
        "    x_sample = model.decode_first_stage(samples_ddim)\n",
        "    x_sample = torch.clamp((x_sample + 1.0) / 2.0, min=0.0, max=1.0)\n",
        "    x_sample = 255. * x_sample.permute(0,2,3,1).cpu().numpy()\n",
        "\n",
        "  return list(x_sample.astype(np.uint8))"
      ],
      "metadata": {
        "id": "r5AO5LnYxYA4"
      },
      "execution_count": 5,
      "outputs": []
    },
    {
      "cell_type": "code",
      "source": [
        "def create_camera_to_world_matrix(elevation, azimuth):\n",
        "    elevation = np.radians(elevation)\n",
        "    azimuth = np.radians(azimuth)\n",
        "    # Convert elevation and azimuth angles to Cartesian coordinates on a unit sphere\n",
        "    x = np.cos(elevation) * np.sin(azimuth)\n",
        "    y = np.sin(elevation)\n",
        "    z = np.cos(elevation) * np.cos(azimuth)\n",
        "\n",
        "    # Calculate camera position, target, and up vectors\n",
        "    camera_pos = np.array([x, y, z])\n",
        "    target = np.array([0, 0, 0])\n",
        "    up = np.array([0, 1, 0])\n",
        "\n",
        "    # Construct view matrix\n",
        "    forward = target - camera_pos\n",
        "    forward /= np.linalg.norm(forward)\n",
        "    right = np.cross(forward, up)\n",
        "    right /= np.linalg.norm(right)\n",
        "    new_up = np.cross(right, forward)\n",
        "    new_up /= np.linalg.norm(new_up)\n",
        "    cam2world = np.eye(4)\n",
        "    cam2world[:3, :3] = np.array([right, new_up, -forward]).T\n",
        "    cam2world[:3, 3] = camera_pos\n",
        "    return cam2world\n",
        "\n",
        "\n",
        "def convert_opengl_to_blender(camera_matrix):\n",
        "    if isinstance(camera_matrix, np.ndarray):\n",
        "        # Construct transformation matrix to convert from OpenGL space to Blender space\n",
        "        flip_yz = np.array([[1, 0, 0, 0], [0, 0, -1, 0], [0, 1, 0, 0], [0, 0, 0, 1]])\n",
        "        camera_matrix_blender = np.dot(flip_yz, camera_matrix)\n",
        "    else:\n",
        "        # Construct transformation matrix to convert from OpenGL space to Blender space\n",
        "        flip_yz = torch.tensor([[1, 0, 0, 0], [0, 0, -1, 0], [0, 1, 0, 0], [0, 0, 0, 1]])\n",
        "        if camera_matrix.ndim == 3:\n",
        "            flip_yz = flip_yz.unsqueeze(0)\n",
        "        camera_matrix_blender = torch.matmul(flip_yz.to(camera_matrix), camera_matrix)\n",
        "    return camera_matrix_blender\n",
        "\n",
        "\n",
        "def normalize_camera(camera_matrix):\n",
        "    ''' normalize the camera location onto a unit-sphere'''\n",
        "    if isinstance(camera_matrix, np.ndarray):\n",
        "        camera_matrix = camera_matrix.reshape(-1,4,4)\n",
        "        translation = camera_matrix[:,:3,3]\n",
        "        translation = translation / (np.linalg.norm(translation, axis=1, keepdims=True) + 1e-8)\n",
        "        camera_matrix[:,:3,3] = translation\n",
        "    else:\n",
        "        camera_matrix = camera_matrix.reshape(-1,4,4)\n",
        "        translation = camera_matrix[:,:3,3]\n",
        "        translation = translation / (torch.norm(translation, dim=1, keepdim=True) + 1e-8)\n",
        "        camera_matrix[:,:3,3] = translation\n",
        "    return camera_matrix.reshape(-1,16)\n",
        "\n",
        "\n",
        "def get_camera(num_frames, elevation=15, azimuth_start=0, azimuth_span=360, blender_coord=True):\n",
        "    angle_gap = azimuth_span / num_frames\n",
        "    cameras = []\n",
        "    for azimuth in np.arange(azimuth_start, azimuth_span+azimuth_start, angle_gap):\n",
        "        camera_matrix = create_camera_to_world_matrix(elevation, azimuth)\n",
        "        if blender_coord:\n",
        "            camera_matrix = convert_opengl_to_blender(camera_matrix)\n",
        "        cameras.append(camera_matrix.flatten())\n",
        "    return torch.tensor(np.stack(cameras, 0)).float()"
      ],
      "metadata": {
        "id": "u8s9JDL_SfQW"
      },
      "execution_count": 6,
      "outputs": []
    },
    {
      "cell_type": "code",
      "source": [
        "camera = get_camera(4).to(device)\n",
        "print(\"camera\", camera[0])"
      ],
      "metadata": {
        "colab": {
          "base_uri": "https://localhost:8080/"
        },
        "id": "wVV4xr5CH8aZ",
        "outputId": "9e823757-c602-4a6d-83c0-3aab08e9457a"
      },
      "execution_count": 7,
      "outputs": [
        {
          "output_type": "stream",
          "name": "stdout",
          "text": [
            "camera tensor([ 1.0000,  0.0000,  0.0000,  0.0000,  0.0000,  0.2588, -0.9659, -0.9659,\n",
            "         0.0000,  0.9659,  0.2588,  0.2588,  0.0000,  0.0000,  0.0000,  1.0000],\n",
            "       device='cuda:0')\n"
          ]
        }
      ]
    },
    {
      "cell_type": "code",
      "source": [
        "normal = normalize_camera(camera)\n",
        "print(\"normal\", normal[2])"
      ],
      "metadata": {
        "colab": {
          "base_uri": "https://localhost:8080/"
        },
        "id": "Njf0zFhaTIRw",
        "outputId": "7b29daee-76a7-44a0-ead3-1a223c387f5e"
      },
      "execution_count": 30,
      "outputs": [
        {
          "output_type": "stream",
          "name": "stdout",
          "text": [
            "normal tensor([-1.0000e+00, -3.1696e-17,  1.1829e-16,  1.1829e-16,  1.2246e-16,\n",
            "        -2.5882e-01,  9.6593e-01,  9.6593e-01,  0.0000e+00,  9.6593e-01,\n",
            "         2.5882e-01,  2.5882e-01,  0.0000e+00,  0.0000e+00,  0.0000e+00,\n",
            "         1.0000e+00], device='cuda:0')\n"
          ]
        }
      ]
    },
    {
      "cell_type": "code",
      "source": [
        "batch_size = 8\n",
        "num_frames = 8\n",
        "\n",
        "camera = get_camera(8).to(device)\n",
        "print(\"camera\", camera[0])\n",
        "print(camera.shape)\n",
        "model.device = device\n",
        "model.to(device)\n",
        "model.eval()\n",
        "sampler = DDIMSampler(model)\n",
        "uc = model.get_learned_conditioning( [\"\"] ).to(device)\n",
        "\n",
        "prompt = \"an astronaut riding a horse\"\n",
        "\n",
        "images = []\n",
        "\n",
        "for j in range(3):\n",
        "  img = t2i(model, 256, prompt, uc, sampler, step=50, scale=10, batch_size=batch_size, ddim_eta=0.0,\n",
        "            dtype=torch.float32, device=device, camera=camera, num_frames=num_frames)\n",
        "  img = np.concatenate(img, 1)\n",
        "  images.append(img)"
      ],
      "metadata": {
        "colab": {
          "base_uri": "https://localhost:8080/"
        },
        "id": "cgGZFHrP9SRY",
        "outputId": "a9118a73-e1c4-405a-be7d-b95c11db28e3"
      },
      "execution_count": 7,
      "outputs": [
        {
          "output_type": "stream",
          "name": "stdout",
          "text": [
            "camera tensor([ 1.0000,  0.0000,  0.0000,  0.0000,  0.0000,  0.2588, -0.9659, -0.9659,\n",
            "         0.0000,  0.9659,  0.2588,  0.2588,  0.0000,  0.0000,  0.0000,  1.0000],\n",
            "       device='cuda:0')\n",
            "torch.Size([8, 16])\n"
          ]
        },
        {
          "output_type": "stream",
          "name": "stderr",
          "text": [
            "DDIM Sampler: 100%|██████████| 50/50 [01:00<00:00,  1.22s/it]\n",
            "DDIM Sampler: 100%|██████████| 50/50 [01:05<00:00,  1.30s/it]\n",
            "DDIM Sampler: 100%|██████████| 50/50 [01:08<00:00,  1.38s/it]\n"
          ]
        }
      ]
    },
    {
      "cell_type": "code",
      "source": [
        "print(images[1].shape)"
      ],
      "metadata": {
        "colab": {
          "base_uri": "https://localhost:8080/"
        },
        "id": "BfJ5YFrpWnKf",
        "outputId": "297cb14a-930d-44f0-92d4-5c854d49bbd1"
      },
      "execution_count": 12,
      "outputs": [
        {
          "output_type": "stream",
          "name": "stdout",
          "text": [
            "(256, 2048, 3)\n"
          ]
        }
      ]
    },
    {
      "cell_type": "code",
      "source": [
        "reshape = camera.reshape(4, 4, 4)\n",
        "print(reshape)\n",
        "r32 = reshape[:, 2, 1]\n",
        "r33 = reshape[:, 2, 2]\n",
        "print(r32)\n",
        "print(r33)\n",
        "# Phi\n",
        "x_angle = torch.atan2(r32, r33)\n",
        "print(\"x_angle\", x_angle)\n",
        "\n",
        "r31 = reshape[:, 2, 0]\n",
        "print(r31)\n",
        "sqrt = torch.sqrt(r32**2 + r33**2)\n",
        "y_angle = torch.atan2(-r31, sqrt)\n",
        "print(\"y_angle\", y_angle)\n",
        "r21 = reshape[:, 1, 0]\n",
        "r11 = reshape[:, 0, 0]\n",
        "# Theta\n",
        "z_angle = torch.atan2(r21, r11)\n",
        "print(\"z_angle\", z_angle)"
      ],
      "metadata": {
        "id": "Azg6ngZyZxPV"
      },
      "execution_count": null,
      "outputs": []
    },
    {
      "cell_type": "code",
      "source": [
        "torch.save(camera, \"/content/drive/MyDrive/MVDiffusion/cameraTensor.pt\")"
      ],
      "metadata": {
        "id": "k4ENSa_h57Nj"
      },
      "execution_count": null,
      "outputs": []
    },
    {
      "cell_type": "code",
      "source": [
        "print(camera[0])"
      ],
      "metadata": {
        "colab": {
          "base_uri": "https://localhost:8080/"
        },
        "id": "MAaLx1qY_7eN",
        "outputId": "8a001fd8-50c9-4e4e-f052-e4f160098862"
      },
      "execution_count": 19,
      "outputs": [
        {
          "output_type": "stream",
          "name": "stdout",
          "text": [
            "tensor([ 1.0000,  0.0000,  0.0000,  0.0000,  0.0000,  0.2588, -0.9659, -0.9659,\n",
            "         0.0000,  0.9659,  0.2588,  0.2588,  0.0000,  0.0000,  0.0000,  1.0000],\n",
            "       device='cuda:0')\n"
          ]
        }
      ]
    },
    {
      "cell_type": "code",
      "source": [
        "t =torch.load(\"/content/drive/MyDrive/MVDiffusion/cameraTensor.pt\")\n",
        "print(t[0])"
      ],
      "metadata": {
        "colab": {
          "base_uri": "https://localhost:8080/"
        },
        "id": "zX9v-Fhk_1G0",
        "outputId": "0ac816ee-dd44-4fa3-a935-6691d5e04945"
      },
      "execution_count": 18,
      "outputs": [
        {
          "output_type": "stream",
          "name": "stdout",
          "text": [
            "tensor([ 1.0000,  0.0000,  0.0000,  0.0000,  0.0000,  0.2588, -0.9659, -0.9659,\n",
            "         0.0000,  0.9659,  0.2588,  0.2588,  0.0000,  0.0000,  0.0000,  1.0000],\n",
            "       device='cuda:0')\n"
          ]
        }
      ]
    },
    {
      "cell_type": "code",
      "source": [
        "savedImg1 = Image.fromarray(images[0][:, :256, :])\n",
        "savedImg2 = Image.fromarray(images[0][:, 256:512, :])\n",
        "savedImg3 = Image.fromarray(images[0][:, 512:768, :])\n",
        "savedImg4 = Image.fromarray(images[0][:, 768:1024, :])\n",
        "savedImg5 = Image.fromarray(images[0][:, 1024:1280, :])\n",
        "savedImg6 = Image.fromarray(images[0][:, 1280:1536, :])\n",
        "savedImg7 = Image.fromarray(images[0][:, 1536:1792, :])\n",
        "savedImg8 = Image.fromarray(images[0][:, 1792:, :])\n",
        "\n",
        "\n",
        "image1 = Image.fromarray(np.uint8(savedImg1))\n",
        "image2 = Image.fromarray(np.uint8(savedImg2))\n",
        "image3 = Image.fromarray(np.uint8(savedImg3))\n",
        "image4 = Image.fromarray(np.uint8(savedImg4))\n",
        "image5 = Image.fromarray(np.uint8(savedImg5))\n",
        "image6 = Image.fromarray(np.uint8(savedImg6))\n",
        "image7 = Image.fromarray(np.uint8(savedImg7))\n",
        "image8 = Image.fromarray(np.uint8(savedImg8))\n",
        "\n",
        "image1.save(\"/content/drive/MyDrive/MVDiffusion/images/astroHorse1.png\")\n",
        "image2.save(\"/content/drive/MyDrive/MVDiffusion/images/astroHorse2.png\")\n",
        "image3.save(\"/content/drive/MyDrive/MVDiffusion/images/astroHorse3.png\")\n",
        "image4.save(\"/content/drive/MyDrive/MVDiffusion/images/astroHorse4.png\")\n",
        "image5.save(\"/content/drive/MyDrive/MVDiffusion/images/astroHorse5.png\")\n",
        "image6.save(\"/content/drive/MyDrive/MVDiffusion/images/astroHorse6.png\")\n",
        "image7.save(\"/content/drive/MyDrive/MVDiffusion/images/astroHorse7.png\")\n",
        "image8.save(\"/content/drive/MyDrive/MVDiffusion/images/astroHorse8.png\")"
      ],
      "metadata": {
        "id": "_a_OyLpSuhAO"
      },
      "execution_count": 9,
      "outputs": []
    },
    {
      "cell_type": "code",
      "source": [
        "plt.imshow(images[0])\n",
        "plt.colorbar()\n",
        "plt.title('Normalized Tensor as an Image')\n",
        "plt.show()"
      ],
      "metadata": {
        "colab": {
          "base_uri": "https://localhost:8080/",
          "height": 415
        },
        "id": "sKhbH-WnAPp5",
        "outputId": "76a2027a-9304-4a80-8174-2ba980450233"
      },
      "execution_count": 10,
      "outputs": [
        {
          "output_type": "display_data",
          "data": {
            "text/plain": [
              "<Figure size 640x480 with 2 Axes>"
            ],
            "image/png": "[encoded data removed]"
          },
          "metadata": {}
        }
      ]
    },
    {
      "cell_type": "markdown",
      "source": [
        "Working with loaded images"
      ],
      "metadata": {
        "id": "61uXvhUL7yGU"
      }
    },
    {
      "cell_type": "code",
      "source": [
        "import torch\n",
        "import matplotlib.pyplot as plt\n",
        "from mpl_toolkits.mplot3d import Axes3D\n",
        "import plotly.graph_objects as go\n",
        "import numpy as np\n",
        "import math\n",
        "from torchvision import transforms\n",
        "from PIL import Image"
      ],
      "metadata": {
        "id": "WWInlrBQ8Ji1"
      },
      "execution_count": 143,
      "outputs": []
    },
    {
      "cell_type": "code",
      "source": [
        "imageHolder = []\n",
        "img1 = Image.open(\"/content/drive/MyDrive/MVDiffusion/images/astroHorse1.png\")\n",
        "img2 = Image.open(\"/content/drive/MyDrive/MVDiffusion/images/astroHorse2.png\")\n",
        "img3 = Image.open(\"/content/drive/MyDrive/MVDiffusion/images/astroHorse3.png\")\n",
        "img4 = Image.open(\"/content/drive/MyDrive/MVDiffusion/images/astroHorse4.png\")\n",
        "img5 = Image.open(\"/content/drive/MyDrive/MVDiffusion/images/astroHorse5.png\")\n",
        "img6 = Image.open(\"/content/drive/MyDrive/MVDiffusion/images/astroHorse6.png\")\n",
        "img7 = Image.open(\"/content/drive/MyDrive/MVDiffusion/images/astroHorse7.png\")\n",
        "img8 = Image.open(\"/content/drive/MyDrive/MVDiffusion/images/astroHorse8.png\")\n",
        "\n",
        "transform = transforms.ToTensor()\n",
        "\n",
        "imageHolder.append(transform(img1))\n",
        "imageHolder.append(transform(img2))\n",
        "imageHolder.append(transform(img3))\n",
        "imageHolder.append(transform(img4))\n",
        "imageHolder.append(transform(img5))\n",
        "imageHolder.append(transform(img6))\n",
        "imageHolder.append(transform(img7))\n",
        "imageHolder.append(transform(img8))\n",
        "\n",
        "\n",
        "imageTensor = torch.stack(imageHolder)\n",
        "print(imageTensor.shape)"
      ],
      "metadata": {
        "colab": {
          "base_uri": "https://localhost:8080/"
        },
        "id": "_ot4kFNA70Pm",
        "outputId": "1becdca8-dd05-486d-f5e7-d2a080c4d16f"
      },
      "execution_count": 2,
      "outputs": [
        {
          "output_type": "stream",
          "name": "stdout",
          "text": [
            "torch.Size([8, 3, 256, 256])\n"
          ]
        }
      ]
    },
    {
      "cell_type": "code",
      "source": [
        "# im1 = img1.resize((64, 64))\n",
        "# im2 = img2.resize((64, 64))\n",
        "# im3 = img3.resize((64, 64))\n",
        "# im4 = img4.resize((64, 64))\n",
        "# im5 = img5.resize((64, 64))\n",
        "# im6 = img6.resize((64, 64))\n",
        "# im7 = img7.resize((64, 64))\n",
        "# im8 = img8.resize((64, 64))\n",
        "\n",
        "# im1.save(\"/content/drive/MyDrive/MVDiffusion/images/astroHorse1_x64.png\")\n",
        "# im2.save(\"/content/drive/MyDrive/MVDiffusion/images/astroHorse2_x64.png\")\n",
        "# im3.save(\"/content/drive/MyDrive/MVDiffusion/images/astroHorse3_x64.png\")\n",
        "# im4.save(\"/content/drive/MyDrive/MVDiffusion/images/astroHorse4_x64.png\")\n",
        "# im5.save(\"/content/drive/MyDrive/MVDiffusion/images/astroHorse5_x64.png\")\n",
        "# im6.save(\"/content/drive/MyDrive/MVDiffusion/images/astroHorse6_x64.png\")\n",
        "# im7.save(\"/content/drive/MyDrive/MVDiffusion/images/astroHorse7_x64.png\")\n",
        "# im8.save(\"/content/drive/MyDrive/MVDiffusion/images/astroHorse8_x64.png\")\n",
        "\n",
        "imageHolder = []\n",
        "img1 = Image.open(\"/content/drive/MyDrive/MVDiffusion/images/astroHorse1_x64.png\")\n",
        "img2 = Image.open(\"/content/drive/MyDrive/MVDiffusion/images/astroHorse2_x64.png\")\n",
        "img3 = Image.open(\"/content/drive/MyDrive/MVDiffusion/images/astroHorse3_x64.png\")\n",
        "img4 = Image.open(\"/content/drive/MyDrive/MVDiffusion/images/astroHorse4_x64.png\")\n",
        "img5 = Image.open(\"/content/drive/MyDrive/MVDiffusion/images/astroHorse5_x64.png\")\n",
        "img6 = Image.open(\"/content/drive/MyDrive/MVDiffusion/images/astroHorse6_x64.png\")\n",
        "img7 = Image.open(\"/content/drive/MyDrive/MVDiffusion/images/astroHorse7_x64.png\")\n",
        "img8 = Image.open(\"/content/drive/MyDrive/MVDiffusion/images/astroHorse8_x64.png\")\n",
        "\n",
        "transform = transforms.ToTensor()\n",
        "\n",
        "imageHolder.append(transform(img1))\n",
        "imageHolder.append(transform(img2))\n",
        "imageHolder.append(transform(img3))\n",
        "imageHolder.append(transform(img4))\n",
        "imageHolder.append(transform(img5))\n",
        "imageHolder.append(transform(img6))\n",
        "imageHolder.append(transform(img7))\n",
        "imageHolder.append(transform(img8))\n",
        "\n",
        "\n",
        "imageTensor = torch.stack(imageHolder)\n",
        "print(imageTensor.shape)"
      ],
      "metadata": {
        "colab": {
          "base_uri": "https://localhost:8080/"
        },
        "id": "KNJvhw94ZF2M",
        "outputId": "b12b8038-f688-42d1-a408-ac4dda75a7d1"
      },
      "execution_count": 142,
      "outputs": [
        {
          "output_type": "stream",
          "name": "stdout",
          "text": [
            "torch.Size([8, 3, 64, 64])\n"
          ]
        }
      ]
    },
    {
      "cell_type": "code",
      "source": [
        "cameraTensor = torch.load(\"/content/drive/MyDrive/MVDiffusion/cameraTensor.pt\", map_location=torch.device('cpu'))\n",
        "print(cameraTensor.shape)"
      ],
      "metadata": {
        "colab": {
          "base_uri": "https://localhost:8080/"
        },
        "id": "UP_sBPZwWrMX",
        "outputId": "bd50ebc5-ac4e-440d-906e-65dac3cab488"
      },
      "execution_count": 3,
      "outputs": [
        {
          "output_type": "stream",
          "name": "stdout",
          "text": [
            "torch.Size([8, 16])\n"
          ]
        }
      ]
    },
    {
      "cell_type": "code",
      "source": [
        "camera = cameraTensor.reshape(-1, 4, 4)\n",
        "print(camera.shape)"
      ],
      "metadata": {
        "colab": {
          "base_uri": "https://localhost:8080/"
        },
        "id": "5I3yI3xUX8Q1",
        "outputId": "f5000417-7e1f-4d4b-a587-2973d1764d66"
      },
      "execution_count": 9,
      "outputs": [
        {
          "output_type": "stream",
          "name": "stdout",
          "text": [
            "torch.Size([8, 4, 4])\n"
          ]
        }
      ]
    },
    {
      "cell_type": "code",
      "source": [
        "def pixel_to_ndc_and_screen(tensor):\n",
        "  b_size, num_c, height, width = tensor.shape\n",
        "\n",
        "  # FOV\n",
        "  alpha = 90\n",
        "  fov = torch.tan(torch.tensor(math.radians(alpha / 2)))\n",
        "\n",
        "  x = torch.arange(width)\n",
        "  y = torch.arange(height)\n",
        "\n",
        "  xx, yy = torch.meshgrid(x, y, indexing='ij')\n",
        "  pixel_pos = torch.stack([xx, yy], axis=-1)\n",
        "\n",
        "  ndc_pos = (pixel_pos + 0.5) / torch.tensor([width, height])\n",
        "\n",
        "  screen_pos = (2 * ndc_pos - 1) * fov\n",
        "  screen_pos[..., 1] = 1 - 2 * ndc_pos[..., 1] * fov\n",
        "\n",
        "  return ndc_pos, screen_pos"
      ],
      "metadata": {
        "id": "vx-vz9rD8tYa"
      },
      "execution_count": 4,
      "outputs": []
    },
    {
      "cell_type": "code",
      "source": [
        "ndc_pos, screen_pos = pixel_to_ndc_and_screen(imageTensor)\n",
        "print(\"ndc\", ndc_pos.shape)\n",
        "print(torch.max(ndc_pos))\n",
        "print(torch.min(ndc_pos))\n",
        "\n",
        "print(\"screen\", screen_pos.shape)\n",
        "print(torch.max(screen_pos))\n",
        "print(torch.min(screen_pos))"
      ],
      "metadata": {
        "colab": {
          "base_uri": "https://localhost:8080/"
        },
        "id": "iDGYnUTj-E7-",
        "outputId": "ec2691c7-5afa-4e3d-dba2-85e671411f20"
      },
      "execution_count": 5,
      "outputs": [
        {
          "output_type": "stream",
          "name": "stdout",
          "text": [
            "ndc torch.Size([256, 256, 2])\n",
            "tensor(0.9980)\n",
            "tensor(0.0020)\n",
            "screen torch.Size([256, 256, 2])\n",
            "tensor(0.9961)\n",
            "tensor(-0.9961)\n"
          ]
        }
      ]
    },
    {
      "cell_type": "code",
      "source": [
        "def normalize_vector(vector):\n",
        "  magnitude = torch.linalg.norm(vector, axis=-1, keepdim=True)\n",
        "  return vector / magnitude"
      ],
      "metadata": {
        "id": "oEenb7l_MyMM"
      },
      "execution_count": 110,
      "outputs": []
    },
    {
      "cell_type": "code",
      "source": [
        "def apply_camera_to_world_matrix(matrix, camera_origin, points):\n",
        "  b_size = matrix.shape[0]\n",
        "# Convert origin and screen points to homogeneous coordinates\n",
        "  camera_origin_homogeneous = torch.cat((camera_origin, torch.ones(1)))\n",
        "  ones_tensor = torch.ones(points.shape[0], points.shape[1], 1)\n",
        "  point_homogeneous = torch.cat((points, ones_tensor), dim=2)\n",
        "# Create temporary tensors to store calculated values - done this way mainly to account for camera batch size\n",
        "  point_homogeneous_tensor = torch.zeros(b_size, point_homogeneous.shape[0], point_homogeneous.shape[1], point_homogeneous.shape[2])\n",
        "  point_homogeneous_tensor[:] = point_homogeneous\n",
        "\n",
        "  transformed_point = torch.zeros(b_size, points.shape[0], points.shape[1], points.shape[2]+1)\n",
        "  transformed_origin = torch.zeros(b_size, camera_origin_homogeneous.shape[0])\n",
        "  origin_output = torch.zeros(b_size, camera_origin_homogeneous.shape[0]-1)\n",
        "  point_output = torch.zeros(b_size,  points.shape[0], points.shape[1], points.shape[2])\n",
        "\n",
        "  for b in range(b_size):\n",
        "    # Apply camera to world matrix\n",
        "    transformed_origin[b] = torch.mv(matrix[b], camera_origin_homogeneous)\n",
        "\n",
        "    for i in range(points.shape[0]):\n",
        "      for j in range(points.shape[1]):\n",
        "        transformed_point[b,i,j] = torch.mv(matrix[b], point_homogeneous_tensor[b,i,j])\n",
        "\n",
        "    # Convert back to 3-dimension coordinates using dehomogenization\n",
        "    origin_output[b] = transformed_origin[b, :3] / transformed_origin[b, 3]\n",
        "    point_output[b] = transformed_point[b, :, :, :3] / transformed_point[b, :, :, 3].unsqueeze(2)\n",
        "\n",
        "  return origin_output, point_output"
      ],
      "metadata": {
        "id": "WvUNc8jCG4zc"
      },
      "execution_count": 70,
      "outputs": []
    },
    {
      "cell_type": "code",
      "source": [
        "# Update screen pos to have -1 in last dimension (z)\n",
        "negative_z = torch.ones(screen_pos.shape[0], screen_pos.shape[1],1) * -1\n",
        "new_screen_pos = torch.cat((screen_pos, negative_z), dim=2)\n",
        "rayDirection = torch.zeros(8, 256, 256, 3)\n",
        "\n",
        "# Camera's original point. It is at 0,0,0 until camera matrix is applied\n",
        "rayOrigin = torch.tensor([0,0,0])\n",
        "rayOriginWorld, rayPointWorld = apply_camera_to_world_matrix(camera, rayOrigin, new_screen_pos)\n",
        "for b in range(camera.shape[0]):\n",
        "  rayDirection[b] = rayPointWorld[b] - rayOriginWorld[b]\n",
        "\n",
        "# Noramlized to have a length of 1. Keeps the direction, but not the magnitude\n",
        "rayDirection = normalize_vector(rayDirection)"
      ],
      "metadata": {
        "id": "a1RhzE7vBIrT"
      },
      "execution_count": 194,
      "outputs": []
    },
    {
      "cell_type": "code",
      "source": [
        "def plot_vector_direction(origin, *vectors):\n",
        "    fig = plt.figure()\n",
        "    ax = fig.add_subplot(111, projection='3d')\n",
        "\n",
        "    for vector in vectors:\n",
        "      # Extract components of the vector\n",
        "      x, y, z = vector\n",
        "\n",
        "      # Plot the vector\n",
        "      ax.quiver(origin[0], origin[1], origin[2], x, y, z, color='b', arrow_length_ratio=0.1)\n",
        "\n",
        "    # Set limits\n",
        "    max_val = max(max(abs(x), abs(y)), abs(z))\n",
        "    ax.set_xlim([-max_val, max_val])\n",
        "    ax.set_ylim([-max_val, max_val])\n",
        "    ax.set_zlim([-max_val, max_val])\n",
        "\n",
        "    # Set labels\n",
        "    ax.set_xlabel('X')\n",
        "    ax.set_ylabel('Y')\n",
        "    ax.set_zlabel('Z')\n",
        "\n",
        "    plt.show()"
      ],
      "metadata": {
        "id": "GEVjIicw9zEo"
      },
      "execution_count": 199,
      "outputs": []
    },
    {
      "cell_type": "code",
      "source": [
        "batches = [0,1,2,3,4,5,6,7]\n",
        "direction_arr = []\n",
        "origin_arr = []\n",
        "for i in range(len(batches)):\n",
        "  origin_arr.append(rayOriginWorld[i])\n",
        "  direction_arr.append(rayDirection[i, 0,0])\n",
        "  direction_arr.append(rayDirection[i, 255, 0])\n",
        "  direction_arr.append(rayDirection[i, 0, 255])\n",
        "  direction_arr.append(rayDirection[i, 255, 255])\n"
      ],
      "metadata": {
        "id": "C2FC5n_iclPA"
      },
      "execution_count": 212,
      "outputs": []
    },
    {
      "cell_type": "code",
      "source": [
        "print(direction_arr)"
      ],
      "metadata": {
        "colab": {
          "base_uri": "https://localhost:8080/"
        },
        "id": "E1vSNcvwgz8i",
        "outputId": "4536ba92-1d8b-4345-d839-d39473366773"
      },
      "execution_count": 183,
      "outputs": [
        {
          "output_type": "stream",
          "name": "stdout",
          "text": [
            "[tensor([-0.5766,  0.7084,  0.4071]), tensor([0.5766, 0.7084, 0.4071]), tensor([-0.5766,  0.4099, -0.7068]), tensor([ 0.5766,  0.4099, -0.7068]), tensor([-0.9086,  0.0932,  0.4071]), tensor([-0.0932,  0.9086,  0.4071]), tensor([-0.6976, -0.1179, -0.7068]), tensor([ 0.1179,  0.6976, -0.7068]), tensor([-0.7084, -0.5766,  0.4071]), tensor([-0.7084,  0.5766,  0.4071]), tensor([-0.4099, -0.5766, -0.7068]), tensor([-0.4099,  0.5766, -0.7068])]\n"
          ]
        }
      ]
    },
    {
      "cell_type": "code",
      "source": [
        "# for vector in direction_arr[3:6]:\n",
        "#   print(vector)\n",
        "\n",
        "\n",
        "i = -1\n",
        "for origin in origin_arr:\n",
        "  i = i+1\n",
        "  print(\"BREAK\")\n",
        "  for vector in direction_arr[i:i+4]:\n",
        "    print(vector)"
      ],
      "metadata": {
        "colab": {
          "base_uri": "https://localhost:8080/"
        },
        "id": "LSMTV-hsd_x7",
        "outputId": "ec58cb6a-66bd-4f70-c11a-4f375002c1d9"
      },
      "execution_count": 210,
      "outputs": [
        {
          "output_type": "stream",
          "name": "stdout",
          "text": [
            "BREAK\n",
            "tensor([-0.5766,  0.7084,  0.4071])\n",
            "tensor([0.5766, 0.7084, 0.4071])\n",
            "tensor([-0.5766,  0.4099, -0.7068])\n",
            "tensor([ 0.5766,  0.4099, -0.7068])\n",
            "BREAK\n",
            "tensor([0.5766, 0.7084, 0.4071])\n",
            "tensor([-0.5766,  0.4099, -0.7068])\n",
            "tensor([ 0.5766,  0.4099, -0.7068])\n",
            "tensor([-0.9086,  0.0932,  0.4071])\n"
          ]
        }
      ]
    },
    {
      "cell_type": "code",
      "source": [
        "print(origin_arr)"
      ],
      "metadata": {
        "colab": {
          "base_uri": "https://localhost:8080/"
        },
        "id": "FHb93pO0ki_-",
        "outputId": "0429e6e5-bc82-4b59-fabb-14c76e960d16"
      },
      "execution_count": 211,
      "outputs": [
        {
          "output_type": "stream",
          "name": "stdout",
          "text": [
            "[tensor([ 0.0000, -0.9659,  0.2588]), tensor([ 0.6830, -0.6830,  0.2588])]\n"
          ]
        }
      ]
    },
    {
      "cell_type": "code",
      "source": [
        "for vector in direction_arr:\n",
        "  x,y,z = vector"
      ],
      "metadata": {
        "id": "FZ_IOIM1dzv7"
      },
      "execution_count": 174,
      "outputs": []
    },
    {
      "cell_type": "code",
      "source": [
        "import plotly.graph_objects as go\n",
        "\n",
        "def plotly_vector_direction(origins, vectors):\n",
        "    i = -1\n",
        "    fig = go.Figure()\n",
        "    colors = ['blue', 'red', 'green', 'orange', 'purple', \"brown\", 'pink', 'black']\n",
        "    for origin in origins:\n",
        "      i = i+1\n",
        "      color = colors[i % len(colors)]\n",
        "      for vector in vectors[i:i+4]:\n",
        "          # Extract components of the vector\n",
        "          x, y, z = vector\n",
        "\n",
        "          # Plot the vector\n",
        "          fig.add_trace(go.Scatter3d(\n",
        "              x=[origin[0],  x],\n",
        "              y=[origin[1], y],\n",
        "              z=[origin[2], z],\n",
        "              mode='lines+markers',\n",
        "              line=dict(color=color, width=3),\n",
        "              marker=dict(color=color, size=5),\n",
        "          ))\n",
        "\n",
        "    # Set axes title\n",
        "    fig.update_layout(scene=dict(\n",
        "        xaxis_title='X',\n",
        "        yaxis_title='Y',\n",
        "        zaxis_title='Z',\n",
        "        xaxis_range=[-2, 2],\n",
        "        yaxis_range=[-2, 2],\n",
        "        zaxis_range=[-2, 2]\n",
        "    ))\n",
        "\n",
        "    fig.show()\n",
        "\n",
        "# Example usage\n",
        "batch = 3\n",
        "plotly_vector_direction(origin_arr, direction_arr)\n",
        "# plot_vector_direction(rayOriginWorld[batch], rayDirection[batch,0,0], rayDirection[batch,0,255], rayDirection[batch,255,0], rayDirection[batch,255,255])"
      ],
      "metadata": {
        "colab": {
          "base_uri": "https://localhost:8080/",
          "height": 542
        },
        "id": "1bkSazhAaKAV",
        "outputId": "94352e5f-586d-47ea-fe78-1949c06ae1c1"
      },
      "execution_count": 217,
      "outputs": [
        {
          "output_type": "display_data",
          "data": {
            "text/html": [
              "<html>\n",
              "<head><meta charset=\"utf-8\" /></head>\n",
              "<body>\n",
              "    <div>            <script src=\"https://cdnjs.cloudflare.com/ajax/libs/mathjax/2.7.5/MathJax.js?config=TeX-AMS-MML_SVG\"></script><script type=\"text/javascript\">if (window.MathJax && window.MathJax.Hub && window.MathJax.Hub.Config) {window.MathJax.Hub.Config({SVG: {font: \"STIX-Web\"}});}</script>                <script type=\"text/javascript\">window.PlotlyConfig = {MathJaxConfig: 'local'};</script>\n",
              "        <script charset=\"utf-8\" src=\"https://cdn.plot.ly/plotly-2.24.1.min.js\"></script>                <div id=\"d38e3fee-aa2e-40b2-aa3d-7259dbcec7f9\" class=\"plotly-graph-div\" style=\"height:525px; width:100%;\"></div>            <script type=\"text/javascript\">                                    window.PLOTLYENV=window.PLOTLYENV || {};                                    if (document.getElementById(\"d38e3fee-aa2e-40b2-aa3d-7259dbcec7f9\")) {                    Plotly.newPlot(                        \"d38e3fee-aa2e-40b2-aa3d-7259dbcec7f9\",                        [{\"line\":{\"color\":\"blue\",\"width\":3},\"marker\":{\"color\":\"blue\",\"size\":5},\"mode\":\"lines+markers\",\"x\":[0.0,-0.5765955448150635],\"y\":[-0.9659258127212524,0.7083665728569031],\"z\":[0.258819043636322,0.4071293771266937],\"type\":\"scatter3d\"},{\"line\":{\"color\":\"blue\",\"width\":3},\"marker\":{\"color\":\"blue\",\"size\":5},\"mode\":\"lines+markers\",\"x\":[0.0,0.5765955448150635],\"y\":[-0.9659258127212524,0.7083665728569031],\"z\":[0.258819043636322,0.4071293771266937],\"type\":\"scatter3d\"},{\"line\":{\"color\":\"blue\",\"width\":3},\"marker\":{\"color\":\"blue\",\"size\":5},\"mode\":\"lines+markers\",\"x\":[0.0,-0.5765955448150635],\"y\":[-0.9659258127212524,0.4098987281322479],\"z\":[0.258819043636322,-0.7067676782608032],\"type\":\"scatter3d\"},{\"line\":{\"color\":\"blue\",\"width\":3},\"marker\":{\"color\":\"blue\",\"size\":5},\"mode\":\"lines+markers\",\"x\":[0.0,0.5765955448150635],\"y\":[-0.9659258127212524,0.4098987281322479],\"z\":[0.258819043636322,-0.7067676782608032],\"type\":\"scatter3d\"},{\"line\":{\"color\":\"red\",\"width\":3},\"marker\":{\"color\":\"red\",\"size\":5},\"mode\":\"lines+markers\",\"x\":[0.6830127239227295,0.5765955448150635],\"y\":[-0.6830127239227295,0.7083665728569031],\"z\":[0.258819043636322,0.4071293771266937],\"type\":\"scatter3d\"},{\"line\":{\"color\":\"red\",\"width\":3},\"marker\":{\"color\":\"red\",\"size\":5},\"mode\":\"lines+markers\",\"x\":[0.6830127239227295,-0.5765955448150635],\"y\":[-0.6830127239227295,0.4098987281322479],\"z\":[0.258819043636322,-0.7067676782608032],\"type\":\"scatter3d\"},{\"line\":{\"color\":\"red\",\"width\":3},\"marker\":{\"color\":\"red\",\"size\":5},\"mode\":\"lines+markers\",\"x\":[0.6830127239227295,0.5765955448150635],\"y\":[-0.6830127239227295,0.4098987281322479],\"z\":[0.258819043636322,-0.7067676782608032],\"type\":\"scatter3d\"},{\"line\":{\"color\":\"red\",\"width\":3},\"marker\":{\"color\":\"red\",\"size\":5},\"mode\":\"lines+markers\",\"x\":[0.6830127239227295,-0.9086054563522339],\"y\":[-0.6830127239227295,0.09317620098590851],\"z\":[0.258819043636322,0.4071293771266937],\"type\":\"scatter3d\"},{\"line\":{\"color\":\"green\",\"width\":3},\"marker\":{\"color\":\"green\",\"size\":5},\"mode\":\"lines+markers\",\"x\":[0.9659258127212524,-0.5765955448150635],\"y\":[-5.914589533937914e-17,0.4098987281322479],\"z\":[0.258819043636322,-0.7067676782608032],\"type\":\"scatter3d\"},{\"line\":{\"color\":\"green\",\"width\":3},\"marker\":{\"color\":\"green\",\"size\":5},\"mode\":\"lines+markers\",\"x\":[0.9659258127212524,0.5765955448150635],\"y\":[-5.914589533937914e-17,0.4098987281322479],\"z\":[0.258819043636322,-0.7067676782608032],\"type\":\"scatter3d\"},{\"line\":{\"color\":\"green\",\"width\":3},\"marker\":{\"color\":\"green\",\"size\":5},\"mode\":\"lines+markers\",\"x\":[0.9659258127212524,-0.9086054563522339],\"y\":[-5.914589533937914e-17,0.09317620098590851],\"z\":[0.258819043636322,0.4071293771266937],\"type\":\"scatter3d\"},{\"line\":{\"color\":\"green\",\"width\":3},\"marker\":{\"color\":\"green\",\"size\":5},\"mode\":\"lines+markers\",\"x\":[0.9659258127212524,-0.09317620098590851],\"y\":[-5.914589533937914e-17,0.9086054563522339],\"z\":[0.258819043636322,0.4071293771266937],\"type\":\"scatter3d\"},{\"line\":{\"color\":\"orange\",\"width\":3},\"marker\":{\"color\":\"orange\",\"size\":5},\"mode\":\"lines+markers\",\"x\":[0.6830127239227295,0.5765955448150635],\"y\":[0.6830127239227295,0.4098987281322479],\"z\":[0.258819043636322,-0.7067676782608032],\"type\":\"scatter3d\"},{\"line\":{\"color\":\"orange\",\"width\":3},\"marker\":{\"color\":\"orange\",\"size\":5},\"mode\":\"lines+markers\",\"x\":[0.6830127239227295,-0.9086054563522339],\"y\":[0.6830127239227295,0.09317620098590851],\"z\":[0.258819043636322,0.4071293771266937],\"type\":\"scatter3d\"},{\"line\":{\"color\":\"orange\",\"width\":3},\"marker\":{\"color\":\"orange\",\"size\":5},\"mode\":\"lines+markers\",\"x\":[0.6830127239227295,-0.09317620098590851],\"y\":[0.6830127239227295,0.9086054563522339],\"z\":[0.258819043636322,0.4071293771266937],\"type\":\"scatter3d\"},{\"line\":{\"color\":\"orange\",\"width\":3},\"marker\":{\"color\":\"orange\",\"size\":5},\"mode\":\"lines+markers\",\"x\":[0.6830127239227295,-0.6975567936897278],\"y\":[0.6830127239227295,-0.1178724393248558],\"z\":[0.258819043636322,-0.7067676782608032],\"type\":\"scatter3d\"},{\"line\":{\"color\":\"purple\",\"width\":3},\"marker\":{\"color\":\"purple\",\"size\":5},\"mode\":\"lines+markers\",\"x\":[1.1829179067875828e-16,-0.9086054563522339],\"y\":[0.9659258127212524,0.09317620098590851],\"z\":[0.258819043636322,0.4071293771266937],\"type\":\"scatter3d\"},{\"line\":{\"color\":\"purple\",\"width\":3},\"marker\":{\"color\":\"purple\",\"size\":5},\"mode\":\"lines+markers\",\"x\":[1.1829179067875828e-16,-0.09317620098590851],\"y\":[0.9659258127212524,0.9086054563522339],\"z\":[0.258819043636322,0.4071293771266937],\"type\":\"scatter3d\"},{\"line\":{\"color\":\"purple\",\"width\":3},\"marker\":{\"color\":\"purple\",\"size\":5},\"mode\":\"lines+markers\",\"x\":[1.1829179067875828e-16,-0.6975567936897278],\"y\":[0.9659258127212524,-0.1178724393248558],\"z\":[0.258819043636322,-0.7067676782608032],\"type\":\"scatter3d\"},{\"line\":{\"color\":\"purple\",\"width\":3},\"marker\":{\"color\":\"purple\",\"size\":5},\"mode\":\"lines+markers\",\"x\":[1.1829179067875828e-16,0.1178724393248558],\"y\":[0.9659258127212524,0.6975567936897278],\"z\":[0.258819043636322,-0.7067676782608032],\"type\":\"scatter3d\"},{\"line\":{\"color\":\"brown\",\"width\":3},\"marker\":{\"color\":\"brown\",\"size\":5},\"mode\":\"lines+markers\",\"x\":[-0.6830127239227295,-0.09317620098590851],\"y\":[0.6830127239227295,0.9086054563522339],\"z\":[0.258819043636322,0.4071293771266937],\"type\":\"scatter3d\"},{\"line\":{\"color\":\"brown\",\"width\":3},\"marker\":{\"color\":\"brown\",\"size\":5},\"mode\":\"lines+markers\",\"x\":[-0.6830127239227295,-0.6975567936897278],\"y\":[0.6830127239227295,-0.1178724393248558],\"z\":[0.258819043636322,-0.7067676782608032],\"type\":\"scatter3d\"},{\"line\":{\"color\":\"brown\",\"width\":3},\"marker\":{\"color\":\"brown\",\"size\":5},\"mode\":\"lines+markers\",\"x\":[-0.6830127239227295,0.1178724393248558],\"y\":[0.6830127239227295,0.6975567936897278],\"z\":[0.258819043636322,-0.7067676782608032],\"type\":\"scatter3d\"},{\"line\":{\"color\":\"brown\",\"width\":3},\"marker\":{\"color\":\"brown\",\"size\":5},\"mode\":\"lines+markers\",\"x\":[-0.6830127239227295,-0.7083665728569031],\"y\":[0.6830127239227295,-0.5765955448150635],\"z\":[0.258819043636322,0.4071293771266937],\"type\":\"scatter3d\"},{\"line\":{\"color\":\"pink\",\"width\":3},\"marker\":{\"color\":\"pink\",\"size\":5},\"mode\":\"lines+markers\",\"x\":[-0.9659258127212524,-0.6975567936897278],\"y\":[1.7743769263558231e-16,-0.1178724393248558],\"z\":[0.258819043636322,-0.7067676782608032],\"type\":\"scatter3d\"},{\"line\":{\"color\":\"pink\",\"width\":3},\"marker\":{\"color\":\"pink\",\"size\":5},\"mode\":\"lines+markers\",\"x\":[-0.9659258127212524,0.1178724393248558],\"y\":[1.7743769263558231e-16,0.6975567936897278],\"z\":[0.258819043636322,-0.7067676782608032],\"type\":\"scatter3d\"},{\"line\":{\"color\":\"pink\",\"width\":3},\"marker\":{\"color\":\"pink\",\"size\":5},\"mode\":\"lines+markers\",\"x\":[-0.9659258127212524,-0.7083665728569031],\"y\":[1.7743769263558231e-16,-0.5765955448150635],\"z\":[0.258819043636322,0.4071293771266937],\"type\":\"scatter3d\"},{\"line\":{\"color\":\"pink\",\"width\":3},\"marker\":{\"color\":\"pink\",\"size\":5},\"mode\":\"lines+markers\",\"x\":[-0.9659258127212524,-0.7083665728569031],\"y\":[1.7743769263558231e-16,0.5765955448150635],\"z\":[0.258819043636322,0.4071293771266937],\"type\":\"scatter3d\"},{\"line\":{\"color\":\"black\",\"width\":3},\"marker\":{\"color\":\"black\",\"size\":5},\"mode\":\"lines+markers\",\"x\":[-0.6830127239227295,0.1178724393248558],\"y\":[-0.6830127239227295,0.6975567936897278],\"z\":[0.258819043636322,-0.7067676782608032],\"type\":\"scatter3d\"},{\"line\":{\"color\":\"black\",\"width\":3},\"marker\":{\"color\":\"black\",\"size\":5},\"mode\":\"lines+markers\",\"x\":[-0.6830127239227295,-0.7083665728569031],\"y\":[-0.6830127239227295,-0.5765955448150635],\"z\":[0.258819043636322,0.4071293771266937],\"type\":\"scatter3d\"},{\"line\":{\"color\":\"black\",\"width\":3},\"marker\":{\"color\":\"black\",\"size\":5},\"mode\":\"lines+markers\",\"x\":[-0.6830127239227295,-0.7083665728569031],\"y\":[-0.6830127239227295,0.5765955448150635],\"z\":[0.258819043636322,0.4071293771266937],\"type\":\"scatter3d\"},{\"line\":{\"color\":\"black\",\"width\":3},\"marker\":{\"color\":\"black\",\"size\":5},\"mode\":\"lines+markers\",\"x\":[-0.6830127239227295,-0.4098987281322479],\"y\":[-0.6830127239227295,-0.5765955448150635],\"z\":[0.258819043636322,-0.7067676782608032],\"type\":\"scatter3d\"}],                        {\"template\":{\"data\":{\"histogram2dcontour\":[{\"type\":\"histogram2dcontour\",\"colorbar\":{\"outlinewidth\":0,\"ticks\":\"\"},\"colorscale\":[[0.0,\"#0d0887\"],[0.1111111111111111,\"#46039f\"],[0.2222222222222222,\"#7201a8\"],[0.3333333333333333,\"#9c179e\"],[0.4444444444444444,\"#bd3786\"],[0.5555555555555556,\"#d8576b\"],[0.6666666666666666,\"#ed7953\"],[0.7777777777777778,\"#fb9f3a\"],[0.8888888888888888,\"#fdca26\"],[1.0,\"#f0f921\"]]}],\"choropleth\":[{\"type\":\"choropleth\",\"colorbar\":{\"outlinewidth\":0,\"ticks\":\"\"}}],\"histogram2d\":[{\"type\":\"histogram2d\",\"colorbar\":{\"outlinewidth\":0,\"ticks\":\"\"},\"colorscale\":[[0.0,\"#0d0887\"],[0.1111111111111111,\"#46039f\"],[0.2222222222222222,\"#7201a8\"],[0.3333333333333333,\"#9c179e\"],[0.4444444444444444,\"#bd3786\"],[0.5555555555555556,\"#d8576b\"],[0.6666666666666666,\"#ed7953\"],[0.7777777777777778,\"#fb9f3a\"],[0.8888888888888888,\"#fdca26\"],[1.0,\"#f0f921\"]]}],\"heatmap\":[{\"type\":\"heatmap\",\"colorbar\":{\"outlinewidth\":0,\"ticks\":\"\"},\"colorscale\":[[0.0,\"#0d0887\"],[0.1111111111111111,\"#46039f\"],[0.2222222222222222,\"#7201a8\"],[0.3333333333333333,\"#9c179e\"],[0.4444444444444444,\"#bd3786\"],[0.5555555555555556,\"#d8576b\"],[0.6666666666666666,\"#ed7953\"],[0.7777777777777778,\"#fb9f3a\"],[0.8888888888888888,\"#fdca26\"],[1.0,\"#f0f921\"]]}],\"heatmapgl\":[{\"type\":\"heatmapgl\",\"colorbar\":{\"outlinewidth\":0,\"ticks\":\"\"},\"colorscale\":[[0.0,\"#0d0887\"],[0.1111111111111111,\"#46039f\"],[0.2222222222222222,\"#7201a8\"],[0.3333333333333333,\"#9c179e\"],[0.4444444444444444,\"#bd3786\"],[0.5555555555555556,\"#d8576b\"],[0.6666666666666666,\"#ed7953\"],[0.7777777777777778,\"#fb9f3a\"],[0.8888888888888888,\"#fdca26\"],[1.0,\"#f0f921\"]]}],\"contourcarpet\":[{\"type\":\"contourcarpet\",\"colorbar\":{\"outlinewidth\":0,\"ticks\":\"\"}}],\"contour\":[{\"type\":\"contour\",\"colorbar\":{\"outlinewidth\":0,\"ticks\":\"\"},\"colorscale\":[[0.0,\"#0d0887\"],[0.1111111111111111,\"#46039f\"],[0.2222222222222222,\"#7201a8\"],[0.3333333333333333,\"#9c179e\"],[0.4444444444444444,\"#bd3786\"],[0.5555555555555556,\"#d8576b\"],[0.6666666666666666,\"#ed7953\"],[0.7777777777777778,\"#fb9f3a\"],[0.8888888888888888,\"#fdca26\"],[1.0,\"#f0f921\"]]}],\"surface\":[{\"type\":\"surface\",\"colorbar\":{\"outlinewidth\":0,\"ticks\":\"\"},\"colorscale\":[[0.0,\"#0d0887\"],[0.1111111111111111,\"#46039f\"],[0.2222222222222222,\"#7201a8\"],[0.3333333333333333,\"#9c179e\"],[0.4444444444444444,\"#bd3786\"],[0.5555555555555556,\"#d8576b\"],[0.6666666666666666,\"#ed7953\"],[0.7777777777777778,\"#fb9f3a\"],[0.8888888888888888,\"#fdca26\"],[1.0,\"#f0f921\"]]}],\"mesh3d\":[{\"type\":\"mesh3d\",\"colorbar\":{\"outlinewidth\":0,\"ticks\":\"\"}}],\"scatter\":[{\"fillpattern\":{\"fillmode\":\"overlay\",\"size\":10,\"solidity\":0.2},\"type\":\"scatter\"}],\"parcoords\":[{\"type\":\"parcoords\",\"line\":{\"colorbar\":{\"outlinewidth\":0,\"ticks\":\"\"}}}],\"scatterpolargl\":[{\"type\":\"scatterpolargl\",\"marker\":{\"colorbar\":{\"outlinewidth\":0,\"ticks\":\"\"}}}],\"bar\":[{\"error_x\":{\"color\":\"#2a3f5f\"},\"error_y\":{\"color\":\"#2a3f5f\"},\"marker\":{\"line\":{\"color\":\"#E5ECF6\",\"width\":0.5},\"pattern\":{\"fillmode\":\"overlay\",\"size\":10,\"solidity\":0.2}},\"type\":\"bar\"}],\"scattergeo\":[{\"type\":\"scattergeo\",\"marker\":{\"colorbar\":{\"outlinewidth\":0,\"ticks\":\"\"}}}],\"scatterpolar\":[{\"type\":\"scatterpolar\",\"marker\":{\"colorbar\":{\"outlinewidth\":0,\"ticks\":\"\"}}}],\"histogram\":[{\"marker\":{\"pattern\":{\"fillmode\":\"overlay\",\"size\":10,\"solidity\":0.2}},\"type\":\"histogram\"}],\"scattergl\":[{\"type\":\"scattergl\",\"marker\":{\"colorbar\":{\"outlinewidth\":0,\"ticks\":\"\"}}}],\"scatter3d\":[{\"type\":\"scatter3d\",\"line\":{\"colorbar\":{\"outlinewidth\":0,\"ticks\":\"\"}},\"marker\":{\"colorbar\":{\"outlinewidth\":0,\"ticks\":\"\"}}}],\"scattermapbox\":[{\"type\":\"scattermapbox\",\"marker\":{\"colorbar\":{\"outlinewidth\":0,\"ticks\":\"\"}}}],\"scatterternary\":[{\"type\":\"scatterternary\",\"marker\":{\"colorbar\":{\"outlinewidth\":0,\"ticks\":\"\"}}}],\"scattercarpet\":[{\"type\":\"scattercarpet\",\"marker\":{\"colorbar\":{\"outlinewidth\":0,\"ticks\":\"\"}}}],\"carpet\":[{\"aaxis\":{\"endlinecolor\":\"#2a3f5f\",\"gridcolor\":\"white\",\"linecolor\":\"white\",\"minorgridcolor\":\"white\",\"startlinecolor\":\"#2a3f5f\"},\"baxis\":{\"endlinecolor\":\"#2a3f5f\",\"gridcolor\":\"white\",\"linecolor\":\"white\",\"minorgridcolor\":\"white\",\"startlinecolor\":\"#2a3f5f\"},\"type\":\"carpet\"}],\"table\":[{\"cells\":{\"fill\":{\"color\":\"#EBF0F8\"},\"line\":{\"color\":\"white\"}},\"header\":{\"fill\":{\"color\":\"#C8D4E3\"},\"line\":{\"color\":\"white\"}},\"type\":\"table\"}],\"barpolar\":[{\"marker\":{\"line\":{\"color\":\"#E5ECF6\",\"width\":0.5},\"pattern\":{\"fillmode\":\"overlay\",\"size\":10,\"solidity\":0.2}},\"type\":\"barpolar\"}],\"pie\":[{\"automargin\":true,\"type\":\"pie\"}]},\"layout\":{\"autotypenumbers\":\"strict\",\"colorway\":[\"#636efa\",\"#EF553B\",\"#00cc96\",\"#ab63fa\",\"#FFA15A\",\"#19d3f3\",\"#FF6692\",\"#B6E880\",\"#FF97FF\",\"#FECB52\"],\"font\":{\"color\":\"#2a3f5f\"},\"hovermode\":\"closest\",\"hoverlabel\":{\"align\":\"left\"},\"paper_bgcolor\":\"white\",\"plot_bgcolor\":\"#E5ECF6\",\"polar\":{\"bgcolor\":\"#E5ECF6\",\"angularaxis\":{\"gridcolor\":\"white\",\"linecolor\":\"white\",\"ticks\":\"\"},\"radialaxis\":{\"gridcolor\":\"white\",\"linecolor\":\"white\",\"ticks\":\"\"}},\"ternary\":{\"bgcolor\":\"#E5ECF6\",\"aaxis\":{\"gridcolor\":\"white\",\"linecolor\":\"white\",\"ticks\":\"\"},\"baxis\":{\"gridcolor\":\"white\",\"linecolor\":\"white\",\"ticks\":\"\"},\"caxis\":{\"gridcolor\":\"white\",\"linecolor\":\"white\",\"ticks\":\"\"}},\"coloraxis\":{\"colorbar\":{\"outlinewidth\":0,\"ticks\":\"\"}},\"colorscale\":{\"sequential\":[[0.0,\"#0d0887\"],[0.1111111111111111,\"#46039f\"],[0.2222222222222222,\"#7201a8\"],[0.3333333333333333,\"#9c179e\"],[0.4444444444444444,\"#bd3786\"],[0.5555555555555556,\"#d8576b\"],[0.6666666666666666,\"#ed7953\"],[0.7777777777777778,\"#fb9f3a\"],[0.8888888888888888,\"#fdca26\"],[1.0,\"#f0f921\"]],\"sequentialminus\":[[0.0,\"#0d0887\"],[0.1111111111111111,\"#46039f\"],[0.2222222222222222,\"#7201a8\"],[0.3333333333333333,\"#9c179e\"],[0.4444444444444444,\"#bd3786\"],[0.5555555555555556,\"#d8576b\"],[0.6666666666666666,\"#ed7953\"],[0.7777777777777778,\"#fb9f3a\"],[0.8888888888888888,\"#fdca26\"],[1.0,\"#f0f921\"]],\"diverging\":[[0,\"#8e0152\"],[0.1,\"#c51b7d\"],[0.2,\"#de77ae\"],[0.3,\"#f1b6da\"],[0.4,\"#fde0ef\"],[0.5,\"#f7f7f7\"],[0.6,\"#e6f5d0\"],[0.7,\"#b8e186\"],[0.8,\"#7fbc41\"],[0.9,\"#4d9221\"],[1,\"#276419\"]]},\"xaxis\":{\"gridcolor\":\"white\",\"linecolor\":\"white\",\"ticks\":\"\",\"title\":{\"standoff\":15},\"zerolinecolor\":\"white\",\"automargin\":true,\"zerolinewidth\":2},\"yaxis\":{\"gridcolor\":\"white\",\"linecolor\":\"white\",\"ticks\":\"\",\"title\":{\"standoff\":15},\"zerolinecolor\":\"white\",\"automargin\":true,\"zerolinewidth\":2},\"scene\":{\"xaxis\":{\"backgroundcolor\":\"#E5ECF6\",\"gridcolor\":\"white\",\"linecolor\":\"white\",\"showbackground\":true,\"ticks\":\"\",\"zerolinecolor\":\"white\",\"gridwidth\":2},\"yaxis\":{\"backgroundcolor\":\"#E5ECF6\",\"gridcolor\":\"white\",\"linecolor\":\"white\",\"showbackground\":true,\"ticks\":\"\",\"zerolinecolor\":\"white\",\"gridwidth\":2},\"zaxis\":{\"backgroundcolor\":\"#E5ECF6\",\"gridcolor\":\"white\",\"linecolor\":\"white\",\"showbackground\":true,\"ticks\":\"\",\"zerolinecolor\":\"white\",\"gridwidth\":2}},\"shapedefaults\":{\"line\":{\"color\":\"#2a3f5f\"}},\"annotationdefaults\":{\"arrowcolor\":\"#2a3f5f\",\"arrowhead\":0,\"arrowwidth\":1},\"geo\":{\"bgcolor\":\"white\",\"landcolor\":\"#E5ECF6\",\"subunitcolor\":\"white\",\"showland\":true,\"showlakes\":true,\"lakecolor\":\"white\"},\"title\":{\"x\":0.05},\"mapbox\":{\"style\":\"light\"}}},\"scene\":{\"xaxis\":{\"title\":{\"text\":\"X\"},\"range\":[-2,2]},\"yaxis\":{\"title\":{\"text\":\"Y\"},\"range\":[-2,2]},\"zaxis\":{\"title\":{\"text\":\"Z\"},\"range\":[-2,2]}}},                        {\"responsive\": true}                    ).then(function(){\n",
              "                            \n",
              "var gd = document.getElementById('d38e3fee-aa2e-40b2-aa3d-7259dbcec7f9');\n",
              "var x = new MutationObserver(function (mutations, observer) {{\n",
              "        var display = window.getComputedStyle(gd).display;\n",
              "        if (!display || display === 'none') {{\n",
              "            console.log([gd, 'removed!']);\n",
              "            Plotly.purge(gd);\n",
              "            observer.disconnect();\n",
              "        }}\n",
              "}});\n",
              "\n",
              "// Listen for the removal of the full notebook cells\n",
              "var notebookContainer = gd.closest('#notebook-container');\n",
              "if (notebookContainer) {{\n",
              "    x.observe(notebookContainer, {childList: true});\n",
              "}}\n",
              "\n",
              "// Listen for the clearing of the current output cell\n",
              "var outputEl = gd.closest('.output');\n",
              "if (outputEl) {{\n",
              "    x.observe(outputEl, {childList: true});\n",
              "}}\n",
              "\n",
              "                        })                };                            </script>        </div>\n",
              "</body>\n",
              "</html>"
            ]
          },
          "metadata": {}
        }
      ]
    },
    {
      "cell_type": "code",
      "source": [
        "batch = 3\n",
        "plot_vector_direction(rayOriginWorld[batch], rayDirection[batch,0,0], rayDirection[batch,0,255], rayDirection[batch,255,0], rayDirection[batch,255,255])"
      ],
      "metadata": {
        "colab": {
          "base_uri": "https://localhost:8080/",
          "height": 413
        },
        "id": "l-ndjeqYI26R",
        "outputId": "cf3f3d86-1483-467f-aeb5-1922ea7c876e"
      },
      "execution_count": 201,
      "outputs": [
        {
          "output_type": "display_data",
          "data": {
            "text/plain": [
              "<Figure size 640x480 with 1 Axes>"
            ],
            "image/png": "[encoded data removed]"
          },
          "metadata": {}
        }
      ]
    },
    {
      "cell_type": "code",
      "source": [
        "batch = 1\n",
        "plot_vector_direction(rayOriginWorld[batch], rayDirection[batch,0,0], rayDirection[batch,0,255], rayDirection[batch,255,0], rayDirection[batch,255,255])"
      ],
      "metadata": {
        "colab": {
          "base_uri": "https://localhost:8080/",
          "height": 413
        },
        "id": "32ZV8R0WQ04N",
        "outputId": "db047339-d315-4492-ffd6-6d2c1cea0652"
      },
      "execution_count": 200,
      "outputs": [
        {
          "output_type": "display_data",
          "data": {
            "text/plain": [
              "<Figure size 640x480 with 1 Axes>"
            ],
            "image/png": "[encoded data removed]"
          },
          "metadata": {}
        }
      ]
    },
    {
      "cell_type": "code",
      "source": [
        "point = rayOriginWorld[1] + 0.2*rayDirection[1,0,0]\n",
        "print(point)"
      ],
      "metadata": {
        "colab": {
          "base_uri": "https://localhost:8080/"
        },
        "id": "7gzT5_DsCGA5",
        "outputId": "f39ebad8-5e7f-4eb2-da34-e21f9cb0e7ff"
      },
      "execution_count": 128,
      "outputs": [
        {
          "output_type": "stream",
          "name": "stdout",
          "text": [
            "tensor([ 0.5013, -0.6644,  0.3402])\n"
          ]
        }
      ]
    },
    {
      "cell_type": "code",
      "source": [],
      "metadata": {
        "id": "L0dcpIwtUawh"
      },
      "execution_count": null,
      "outputs": []
    }
  ]
}