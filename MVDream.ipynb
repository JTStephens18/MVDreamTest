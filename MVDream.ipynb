{
  "nbformat": 4,
  "nbformat_minor": 0,
  "metadata": {
    "colab": {
      "provenance": [],
      "gpuType": "T4",
      "authorship_tag": "ABX9TyO0ZLn4hhweNDuZTU6AutCz",
      "include_colab_link": true
    },
    "kernelspec": {
      "name": "python3",
      "display_name": "Python 3"
    },
    "language_info": {
      "name": "python"
    },
    "accelerator": "GPU",
    "widgets": {
      "application/vnd.jupyter.widget-state+json": {
        "215fe8592d40439b8296ad2f557aaaf7": {
          "model_module": "@jupyter-widgets/controls",
          "model_name": "HBoxModel",
          "model_module_version": "1.5.0",
          "state": {
            "_dom_classes": [],
            "_model_module": "@jupyter-widgets/controls",
            "_model_module_version": "1.5.0",
            "_model_name": "HBoxModel",
            "_view_count": null,
            "_view_module": "@jupyter-widgets/controls",
            "_view_module_version": "1.5.0",
            "_view_name": "HBoxView",
            "box_style": "",
            "children": [
              "IPY_MODEL_5bc95a5e0d3f4895b04a570499923e2b",
              "IPY_MODEL_e5382ca55c4147588ca3ee0312dd598e",
              "IPY_MODEL_4abdd85d08bf4c08a607a66538446e0d"
            ],
            "layout": "IPY_MODEL_d39220d481604a1faa3706502d0d7aea"
          }
        },
        "5bc95a5e0d3f4895b04a570499923e2b": {
          "model_module": "@jupyter-widgets/controls",
          "model_name": "HTMLModel",
          "model_module_version": "1.5.0",
          "state": {
            "_dom_classes": [],
            "_model_module": "@jupyter-widgets/controls",
            "_model_module_version": "1.5.0",
            "_model_name": "HTMLModel",
            "_view_count": null,
            "_view_module": "@jupyter-widgets/controls",
            "_view_module_version": "1.5.0",
            "_view_name": "HTMLView",
            "description": "",
            "description_tooltip": null,
            "layout": "IPY_MODEL_7d04be42dcec40c9a347b7a2153ba2c1",
            "placeholder": "​",
            "style": "IPY_MODEL_a7c29e4e7cca4670a3cb1c151f067d11",
            "value": "open_clip_pytorch_model.bin: 100%"
          }
        },
        "e5382ca55c4147588ca3ee0312dd598e": {
          "model_module": "@jupyter-widgets/controls",
          "model_name": "FloatProgressModel",
          "model_module_version": "1.5.0",
          "state": {
            "_dom_classes": [],
            "_model_module": "@jupyter-widgets/controls",
            "_model_module_version": "1.5.0",
            "_model_name": "FloatProgressModel",
            "_view_count": null,
            "_view_module": "@jupyter-widgets/controls",
            "_view_module_version": "1.5.0",
            "_view_name": "ProgressView",
            "bar_style": "success",
            "description": "",
            "description_tooltip": null,
            "layout": "IPY_MODEL_d660564e23ba496ea37fff6a65139caf",
            "max": 3944692325,
            "min": 0,
            "orientation": "horizontal",
            "style": "IPY_MODEL_d1241c53b00a4b0faa62b6d32c717ccd",
            "value": 3944692325
          }
        },
        "4abdd85d08bf4c08a607a66538446e0d": {
          "model_module": "@jupyter-widgets/controls",
          "model_name": "HTMLModel",
          "model_module_version": "1.5.0",
          "state": {
            "_dom_classes": [],
            "_model_module": "@jupyter-widgets/controls",
            "_model_module_version": "1.5.0",
            "_model_name": "HTMLModel",
            "_view_count": null,
            "_view_module": "@jupyter-widgets/controls",
            "_view_module_version": "1.5.0",
            "_view_name": "HTMLView",
            "description": "",
            "description_tooltip": null,
            "layout": "IPY_MODEL_da44e535888c4d158b27b93c89d633bf",
            "placeholder": "​",
            "style": "IPY_MODEL_d6c9a6be2aa14461936865567d744d21",
            "value": " 3.94G/3.94G [00:57&lt;00:00, 71.1MB/s]"
          }
        },
        "d39220d481604a1faa3706502d0d7aea": {
          "model_module": "@jupyter-widgets/base",
          "model_name": "LayoutModel",
          "model_module_version": "1.2.0",
          "state": {
            "_model_module": "@jupyter-widgets/base",
            "_model_module_version": "1.2.0",
            "_model_name": "LayoutModel",
            "_view_count": null,
            "_view_module": "@jupyter-widgets/base",
            "_view_module_version": "1.2.0",
            "_view_name": "LayoutView",
            "align_content": null,
            "align_items": null,
            "align_self": null,
            "border": null,
            "bottom": null,
            "display": null,
            "flex": null,
            "flex_flow": null,
            "grid_area": null,
            "grid_auto_columns": null,
            "grid_auto_flow": null,
            "grid_auto_rows": null,
            "grid_column": null,
            "grid_gap": null,
            "grid_row": null,
            "grid_template_areas": null,
            "grid_template_columns": null,
            "grid_template_rows": null,
            "height": null,
            "justify_content": null,
            "justify_items": null,
            "left": null,
            "margin": null,
            "max_height": null,
            "max_width": null,
            "min_height": null,
            "min_width": null,
            "object_fit": null,
            "object_position": null,
            "order": null,
            "overflow": null,
            "overflow_x": null,
            "overflow_y": null,
            "padding": null,
            "right": null,
            "top": null,
            "visibility": null,
            "width": null
          }
        },
        "7d04be42dcec40c9a347b7a2153ba2c1": {
          "model_module": "@jupyter-widgets/base",
          "model_name": "LayoutModel",
          "model_module_version": "1.2.0",
          "state": {
            "_model_module": "@jupyter-widgets/base",
            "_model_module_version": "1.2.0",
            "_model_name": "LayoutModel",
            "_view_count": null,
            "_view_module": "@jupyter-widgets/base",
            "_view_module_version": "1.2.0",
            "_view_name": "LayoutView",
            "align_content": null,
            "align_items": null,
            "align_self": null,
            "border": null,
            "bottom": null,
            "display": null,
            "flex": null,
            "flex_flow": null,
            "grid_area": null,
            "grid_auto_columns": null,
            "grid_auto_flow": null,
            "grid_auto_rows": null,
            "grid_column": null,
            "grid_gap": null,
            "grid_row": null,
            "grid_template_areas": null,
            "grid_template_columns": null,
            "grid_template_rows": null,
            "height": null,
            "justify_content": null,
            "justify_items": null,
            "left": null,
            "margin": null,
            "max_height": null,
            "max_width": null,
            "min_height": null,
            "min_width": null,
            "object_fit": null,
            "object_position": null,
            "order": null,
            "overflow": null,
            "overflow_x": null,
            "overflow_y": null,
            "padding": null,
            "right": null,
            "top": null,
            "visibility": null,
            "width": null
          }
        },
        "a7c29e4e7cca4670a3cb1c151f067d11": {
          "model_module": "@jupyter-widgets/controls",
          "model_name": "DescriptionStyleModel",
          "model_module_version": "1.5.0",
          "state": {
            "_model_module": "@jupyter-widgets/controls",
            "_model_module_version": "1.5.0",
            "_model_name": "DescriptionStyleModel",
            "_view_count": null,
            "_view_module": "@jupyter-widgets/base",
            "_view_module_version": "1.2.0",
            "_view_name": "StyleView",
            "description_width": ""
          }
        },
        "d660564e23ba496ea37fff6a65139caf": {
          "model_module": "@jupyter-widgets/base",
          "model_name": "LayoutModel",
          "model_module_version": "1.2.0",
          "state": {
            "_model_module": "@jupyter-widgets/base",
            "_model_module_version": "1.2.0",
            "_model_name": "LayoutModel",
            "_view_count": null,
            "_view_module": "@jupyter-widgets/base",
            "_view_module_version": "1.2.0",
            "_view_name": "LayoutView",
            "align_content": null,
            "align_items": null,
            "align_self": null,
            "border": null,
            "bottom": null,
            "display": null,
            "flex": null,
            "flex_flow": null,
            "grid_area": null,
            "grid_auto_columns": null,
            "grid_auto_flow": null,
            "grid_auto_rows": null,
            "grid_column": null,
            "grid_gap": null,
            "grid_row": null,
            "grid_template_areas": null,
            "grid_template_columns": null,
            "grid_template_rows": null,
            "height": null,
            "justify_content": null,
            "justify_items": null,
            "left": null,
            "margin": null,
            "max_height": null,
            "max_width": null,
            "min_height": null,
            "min_width": null,
            "object_fit": null,
            "object_position": null,
            "order": null,
            "overflow": null,
            "overflow_x": null,
            "overflow_y": null,
            "padding": null,
            "right": null,
            "top": null,
            "visibility": null,
            "width": null
          }
        },
        "d1241c53b00a4b0faa62b6d32c717ccd": {
          "model_module": "@jupyter-widgets/controls",
          "model_name": "ProgressStyleModel",
          "model_module_version": "1.5.0",
          "state": {
            "_model_module": "@jupyter-widgets/controls",
            "_model_module_version": "1.5.0",
            "_model_name": "ProgressStyleModel",
            "_view_count": null,
            "_view_module": "@jupyter-widgets/base",
            "_view_module_version": "1.2.0",
            "_view_name": "StyleView",
            "bar_color": null,
            "description_width": ""
          }
        },
        "da44e535888c4d158b27b93c89d633bf": {
          "model_module": "@jupyter-widgets/base",
          "model_name": "LayoutModel",
          "model_module_version": "1.2.0",
          "state": {
            "_model_module": "@jupyter-widgets/base",
            "_model_module_version": "1.2.0",
            "_model_name": "LayoutModel",
            "_view_count": null,
            "_view_module": "@jupyter-widgets/base",
            "_view_module_version": "1.2.0",
            "_view_name": "LayoutView",
            "align_content": null,
            "align_items": null,
            "align_self": null,
            "border": null,
            "bottom": null,
            "display": null,
            "flex": null,
            "flex_flow": null,
            "grid_area": null,
            "grid_auto_columns": null,
            "grid_auto_flow": null,
            "grid_auto_rows": null,
            "grid_column": null,
            "grid_gap": null,
            "grid_row": null,
            "grid_template_areas": null,
            "grid_template_columns": null,
            "grid_template_rows": null,
            "height": null,
            "justify_content": null,
            "justify_items": null,
            "left": null,
            "margin": null,
            "max_height": null,
            "max_width": null,
            "min_height": null,
            "min_width": null,
            "object_fit": null,
            "object_position": null,
            "order": null,
            "overflow": null,
            "overflow_x": null,
            "overflow_y": null,
            "padding": null,
            "right": null,
            "top": null,
            "visibility": null,
            "width": null
          }
        },
        "d6c9a6be2aa14461936865567d744d21": {
          "model_module": "@jupyter-widgets/controls",
          "model_name": "DescriptionStyleModel",
          "model_module_version": "1.5.0",
          "state": {
            "_model_module": "@jupyter-widgets/controls",
            "_model_module_version": "1.5.0",
            "_model_name": "DescriptionStyleModel",
            "_view_count": null,
            "_view_module": "@jupyter-widgets/base",
            "_view_module_version": "1.2.0",
            "_view_name": "StyleView",
            "description_width": ""
          }
        },
        "535ae22c72be49c8a9af34df4def6954": {
          "model_module": "@jupyter-widgets/controls",
          "model_name": "HBoxModel",
          "model_module_version": "1.5.0",
          "state": {
            "_dom_classes": [],
            "_model_module": "@jupyter-widgets/controls",
            "_model_module_version": "1.5.0",
            "_model_name": "HBoxModel",
            "_view_count": null,
            "_view_module": "@jupyter-widgets/controls",
            "_view_module_version": "1.5.0",
            "_view_name": "HBoxView",
            "box_style": "",
            "children": [
              "IPY_MODEL_7d52787778d840d29b7dcff5455fe68d",
              "IPY_MODEL_bf3ed01e5a374ce88c8fa83ac523fb7d",
              "IPY_MODEL_9c76b22d0e234bd493b395021f255714"
            ],
            "layout": "IPY_MODEL_431c8765c88440a79049f67e5b429522"
          }
        },
        "7d52787778d840d29b7dcff5455fe68d": {
          "model_module": "@jupyter-widgets/controls",
          "model_name": "HTMLModel",
          "model_module_version": "1.5.0",
          "state": {
            "_dom_classes": [],
            "_model_module": "@jupyter-widgets/controls",
            "_model_module_version": "1.5.0",
            "_model_name": "HTMLModel",
            "_view_count": null,
            "_view_module": "@jupyter-widgets/controls",
            "_view_module_version": "1.5.0",
            "_view_name": "HTMLView",
            "description": "",
            "description_tooltip": null,
            "layout": "IPY_MODEL_070e769024fe46a0a5fc1219150cd301",
            "placeholder": "​",
            "style": "IPY_MODEL_41392667baed48ebaf92ea4ebd6e083c",
            "value": "sd-v2.1-base-4view.pt: 100%"
          }
        },
        "bf3ed01e5a374ce88c8fa83ac523fb7d": {
          "model_module": "@jupyter-widgets/controls",
          "model_name": "FloatProgressModel",
          "model_module_version": "1.5.0",
          "state": {
            "_dom_classes": [],
            "_model_module": "@jupyter-widgets/controls",
            "_model_module_version": "1.5.0",
            "_model_name": "FloatProgressModel",
            "_view_count": null,
            "_view_module": "@jupyter-widgets/controls",
            "_view_module_version": "1.5.0",
            "_view_name": "ProgressView",
            "bar_style": "success",
            "description": "",
            "description_tooltip": null,
            "layout": "IPY_MODEL_6dde394409c744bbbcefc521bda4a8fb",
            "max": 5221505321,
            "min": 0,
            "orientation": "horizontal",
            "style": "IPY_MODEL_04d12515c9be48bdbbe4584fcfbca08d",
            "value": 5221505321
          }
        },
        "9c76b22d0e234bd493b395021f255714": {
          "model_module": "@jupyter-widgets/controls",
          "model_name": "HTMLModel",
          "model_module_version": "1.5.0",
          "state": {
            "_dom_classes": [],
            "_model_module": "@jupyter-widgets/controls",
            "_model_module_version": "1.5.0",
            "_model_name": "HTMLModel",
            "_view_count": null,
            "_view_module": "@jupyter-widgets/controls",
            "_view_module_version": "1.5.0",
            "_view_name": "HTMLView",
            "description": "",
            "description_tooltip": null,
            "layout": "IPY_MODEL_eb438c833a394476aab93428911d9c9f",
            "placeholder": "​",
            "style": "IPY_MODEL_5c9d7cd847204df2916eea7a3b976ff1",
            "value": " 5.22G/5.22G [01:42&lt;00:00, 42.0MB/s]"
          }
        },
        "431c8765c88440a79049f67e5b429522": {
          "model_module": "@jupyter-widgets/base",
          "model_name": "LayoutModel",
          "model_module_version": "1.2.0",
          "state": {
            "_model_module": "@jupyter-widgets/base",
            "_model_module_version": "1.2.0",
            "_model_name": "LayoutModel",
            "_view_count": null,
            "_view_module": "@jupyter-widgets/base",
            "_view_module_version": "1.2.0",
            "_view_name": "LayoutView",
            "align_content": null,
            "align_items": null,
            "align_self": null,
            "border": null,
            "bottom": null,
            "display": null,
            "flex": null,
            "flex_flow": null,
            "grid_area": null,
            "grid_auto_columns": null,
            "grid_auto_flow": null,
            "grid_auto_rows": null,
            "grid_column": null,
            "grid_gap": null,
            "grid_row": null,
            "grid_template_areas": null,
            "grid_template_columns": null,
            "grid_template_rows": null,
            "height": null,
            "justify_content": null,
            "justify_items": null,
            "left": null,
            "margin": null,
            "max_height": null,
            "max_width": null,
            "min_height": null,
            "min_width": null,
            "object_fit": null,
            "object_position": null,
            "order": null,
            "overflow": null,
            "overflow_x": null,
            "overflow_y": null,
            "padding": null,
            "right": null,
            "top": null,
            "visibility": null,
            "width": null
          }
        },
        "070e769024fe46a0a5fc1219150cd301": {
          "model_module": "@jupyter-widgets/base",
          "model_name": "LayoutModel",
          "model_module_version": "1.2.0",
          "state": {
            "_model_module": "@jupyter-widgets/base",
            "_model_module_version": "1.2.0",
            "_model_name": "LayoutModel",
            "_view_count": null,
            "_view_module": "@jupyter-widgets/base",
            "_view_module_version": "1.2.0",
            "_view_name": "LayoutView",
            "align_content": null,
            "align_items": null,
            "align_self": null,
            "border": null,
            "bottom": null,
            "display": null,
            "flex": null,
            "flex_flow": null,
            "grid_area": null,
            "grid_auto_columns": null,
            "grid_auto_flow": null,
            "grid_auto_rows": null,
            "grid_column": null,
            "grid_gap": null,
            "grid_row": null,
            "grid_template_areas": null,
            "grid_template_columns": null,
            "grid_template_rows": null,
            "height": null,
            "justify_content": null,
            "justify_items": null,
            "left": null,
            "margin": null,
            "max_height": null,
            "max_width": null,
            "min_height": null,
            "min_width": null,
            "object_fit": null,
            "object_position": null,
            "order": null,
            "overflow": null,
            "overflow_x": null,
            "overflow_y": null,
            "padding": null,
            "right": null,
            "top": null,
            "visibility": null,
            "width": null
          }
        },
        "41392667baed48ebaf92ea4ebd6e083c": {
          "model_module": "@jupyter-widgets/controls",
          "model_name": "DescriptionStyleModel",
          "model_module_version": "1.5.0",
          "state": {
            "_model_module": "@jupyter-widgets/controls",
            "_model_module_version": "1.5.0",
            "_model_name": "DescriptionStyleModel",
            "_view_count": null,
            "_view_module": "@jupyter-widgets/base",
            "_view_module_version": "1.2.0",
            "_view_name": "StyleView",
            "description_width": ""
          }
        },
        "6dde394409c744bbbcefc521bda4a8fb": {
          "model_module": "@jupyter-widgets/base",
          "model_name": "LayoutModel",
          "model_module_version": "1.2.0",
          "state": {
            "_model_module": "@jupyter-widgets/base",
            "_model_module_version": "1.2.0",
            "_model_name": "LayoutModel",
            "_view_count": null,
            "_view_module": "@jupyter-widgets/base",
            "_view_module_version": "1.2.0",
            "_view_name": "LayoutView",
            "align_content": null,
            "align_items": null,
            "align_self": null,
            "border": null,
            "bottom": null,
            "display": null,
            "flex": null,
            "flex_flow": null,
            "grid_area": null,
            "grid_auto_columns": null,
            "grid_auto_flow": null,
            "grid_auto_rows": null,
            "grid_column": null,
            "grid_gap": null,
            "grid_row": null,
            "grid_template_areas": null,
            "grid_template_columns": null,
            "grid_template_rows": null,
            "height": null,
            "justify_content": null,
            "justify_items": null,
            "left": null,
            "margin": null,
            "max_height": null,
            "max_width": null,
            "min_height": null,
            "min_width": null,
            "object_fit": null,
            "object_position": null,
            "order": null,
            "overflow": null,
            "overflow_x": null,
            "overflow_y": null,
            "padding": null,
            "right": null,
            "top": null,
            "visibility": null,
            "width": null
          }
        },
        "04d12515c9be48bdbbe4584fcfbca08d": {
          "model_module": "@jupyter-widgets/controls",
          "model_name": "ProgressStyleModel",
          "model_module_version": "1.5.0",
          "state": {
            "_model_module": "@jupyter-widgets/controls",
            "_model_module_version": "1.5.0",
            "_model_name": "ProgressStyleModel",
            "_view_count": null,
            "_view_module": "@jupyter-widgets/base",
            "_view_module_version": "1.2.0",
            "_view_name": "StyleView",
            "bar_color": null,
            "description_width": ""
          }
        },
        "eb438c833a394476aab93428911d9c9f": {
          "model_module": "@jupyter-widgets/base",
          "model_name": "LayoutModel",
          "model_module_version": "1.2.0",
          "state": {
            "_model_module": "@jupyter-widgets/base",
            "_model_module_version": "1.2.0",
            "_model_name": "LayoutModel",
            "_view_count": null,
            "_view_module": "@jupyter-widgets/base",
            "_view_module_version": "1.2.0",
            "_view_name": "LayoutView",
            "align_content": null,
            "align_items": null,
            "align_self": null,
            "border": null,
            "bottom": null,
            "display": null,
            "flex": null,
            "flex_flow": null,
            "grid_area": null,
            "grid_auto_columns": null,
            "grid_auto_flow": null,
            "grid_auto_rows": null,
            "grid_column": null,
            "grid_gap": null,
            "grid_row": null,
            "grid_template_areas": null,
            "grid_template_columns": null,
            "grid_template_rows": null,
            "height": null,
            "justify_content": null,
            "justify_items": null,
            "left": null,
            "margin": null,
            "max_height": null,
            "max_width": null,
            "min_height": null,
            "min_width": null,
            "object_fit": null,
            "object_position": null,
            "order": null,
            "overflow": null,
            "overflow_x": null,
            "overflow_y": null,
            "padding": null,
            "right": null,
            "top": null,
            "visibility": null,
            "width": null
          }
        },
        "5c9d7cd847204df2916eea7a3b976ff1": {
          "model_module": "@jupyter-widgets/controls",
          "model_name": "DescriptionStyleModel",
          "model_module_version": "1.5.0",
          "state": {
            "_model_module": "@jupyter-widgets/controls",
            "_model_module_version": "1.5.0",
            "_model_name": "DescriptionStyleModel",
            "_view_count": null,
            "_view_module": "@jupyter-widgets/base",
            "_view_module_version": "1.2.0",
            "_view_name": "StyleView",
            "description_width": ""
          }
        }
      }
    }
  },
  "cells": [
    {
      "cell_type": "markdown",
      "metadata": {
        "id": "view-in-github",
        "colab_type": "text"
      },
      "source": [
        "<a href=\"https://colab.research.google.com/github/JTStephens18/MVDreamTest/blob/main/MVDream.ipynb\" target=\"_parent\"><img src=\"https://colab.research.google.com/assets/colab-badge.svg\" alt=\"Open In Colab\"/></a>"
      ]
    },
    {
      "cell_type": "code",
      "source": [
        "!pip install git+https://github.com/bytedance/MVDream"
      ],
      "metadata": {
        "colab": {
          "base_uri": "https://localhost:8080/",
          "height": 1000
        },
        "id": "NCZryh54xfAL",
        "outputId": "d1db92e0-558f-405a-f5cd-b9b909bfa224"
      },
      "execution_count": 1,
      "outputs": [
        {
          "output_type": "stream",
          "name": "stdout",
          "text": [
            "Collecting git+https://github.com/bytedance/MVDream\n",
            "  Cloning https://github.com/bytedance/MVDream to /tmp/pip-req-build-5fqaw3l9\n",
            "  Running command git clone --filter=blob:none --quiet https://github.com/bytedance/MVDream /tmp/pip-req-build-5fqaw3l9\n",
            "  Resolved https://github.com/bytedance/MVDream to commit 618f84476c88e04adaf588133be2830142b9956d\n",
            "  Preparing metadata (setup.py) ... \u001b[?25l\u001b[?25hdone\n",
            "Requirement already satisfied: torch in /usr/local/lib/python3.10/dist-packages (from mvdream==0.0.1) (2.2.1+cu121)\n",
            "Requirement already satisfied: numpy in /usr/local/lib/python3.10/dist-packages (from mvdream==0.0.1) (1.25.2)\n",
            "Requirement already satisfied: tqdm in /usr/local/lib/python3.10/dist-packages (from mvdream==0.0.1) (4.66.2)\n",
            "Collecting omegaconf (from mvdream==0.0.1)\n",
            "  Downloading omegaconf-2.3.0-py3-none-any.whl (79 kB)\n",
            "\u001b[2K     \u001b[90m━━━━━━━━━━━━━━━━━━━━━━━━━━━━━━━━━━━━━━━━\u001b[0m \u001b[32m79.5/79.5 kB\u001b[0m \u001b[31m1.8 MB/s\u001b[0m eta \u001b[36m0:00:00\u001b[0m\n",
            "\u001b[?25hCollecting einops (from mvdream==0.0.1)\n",
            "  Downloading einops-0.7.0-py3-none-any.whl (44 kB)\n",
            "\u001b[2K     \u001b[90m━━━━━━━━━━━━━━━━━━━━━━━━━━━━━━━━━━━━━━━━\u001b[0m \u001b[32m44.6/44.6 kB\u001b[0m \u001b[31m4.7 MB/s\u001b[0m eta \u001b[36m0:00:00\u001b[0m\n",
            "\u001b[?25hRequirement already satisfied: huggingface_hub in /usr/local/lib/python3.10/dist-packages (from mvdream==0.0.1) (0.20.3)\n",
            "Requirement already satisfied: transformers in /usr/local/lib/python3.10/dist-packages (from mvdream==0.0.1) (4.38.2)\n",
            "Collecting open-clip-torch (from mvdream==0.0.1)\n",
            "  Downloading open_clip_torch-2.24.0-py3-none-any.whl (1.5 MB)\n",
            "\u001b[2K     \u001b[90m━━━━━━━━━━━━━━━━━━━━━━━━━━━━━━━━━━━━━━━━\u001b[0m \u001b[32m1.5/1.5 MB\u001b[0m \u001b[31m10.0 MB/s\u001b[0m eta \u001b[36m0:00:00\u001b[0m\n",
            "\u001b[?25hRequirement already satisfied: filelock in /usr/local/lib/python3.10/dist-packages (from huggingface_hub->mvdream==0.0.1) (3.13.3)\n",
            "Requirement already satisfied: fsspec>=2023.5.0 in /usr/local/lib/python3.10/dist-packages (from huggingface_hub->mvdream==0.0.1) (2023.6.0)\n",
            "Requirement already satisfied: requests in /usr/local/lib/python3.10/dist-packages (from huggingface_hub->mvdream==0.0.1) (2.31.0)\n",
            "Requirement already satisfied: pyyaml>=5.1 in /usr/local/lib/python3.10/dist-packages (from huggingface_hub->mvdream==0.0.1) (6.0.1)\n",
            "Requirement already satisfied: typing-extensions>=3.7.4.3 in /usr/local/lib/python3.10/dist-packages (from huggingface_hub->mvdream==0.0.1) (4.10.0)\n",
            "Requirement already satisfied: packaging>=20.9 in /usr/local/lib/python3.10/dist-packages (from huggingface_hub->mvdream==0.0.1) (24.0)\n",
            "Collecting antlr4-python3-runtime==4.9.* (from omegaconf->mvdream==0.0.1)\n",
            "  Downloading antlr4-python3-runtime-4.9.3.tar.gz (117 kB)\n",
            "\u001b[2K     \u001b[90m━━━━━━━━━━━━━━━━━━━━━━━━━━━━━━━━━━━━━━━━\u001b[0m \u001b[32m117.0/117.0 kB\u001b[0m \u001b[31m7.6 MB/s\u001b[0m eta \u001b[36m0:00:00\u001b[0m\n",
            "\u001b[?25h  Preparing metadata (setup.py) ... \u001b[?25l\u001b[?25hdone\n",
            "Requirement already satisfied: torchvision in /usr/local/lib/python3.10/dist-packages (from open-clip-torch->mvdream==0.0.1) (0.17.1+cu121)\n",
            "Requirement already satisfied: regex in /usr/local/lib/python3.10/dist-packages (from open-clip-torch->mvdream==0.0.1) (2023.12.25)\n",
            "Collecting ftfy (from open-clip-torch->mvdream==0.0.1)\n",
            "  Downloading ftfy-6.2.0-py3-none-any.whl (54 kB)\n",
            "\u001b[2K     \u001b[90m━━━━━━━━━━━━━━━━━━━━━━━━━━━━━━━━━━━━━━━━\u001b[0m \u001b[32m54.4/54.4 kB\u001b[0m \u001b[31m2.9 MB/s\u001b[0m eta \u001b[36m0:00:00\u001b[0m\n",
            "\u001b[?25hRequirement already satisfied: sentencepiece in /usr/local/lib/python3.10/dist-packages (from open-clip-torch->mvdream==0.0.1) (0.1.99)\n",
            "Requirement already satisfied: protobuf in /usr/local/lib/python3.10/dist-packages (from open-clip-torch->mvdream==0.0.1) (3.20.3)\n",
            "Collecting timm (from open-clip-torch->mvdream==0.0.1)\n",
            "  Downloading timm-0.9.16-py3-none-any.whl (2.2 MB)\n",
            "\u001b[2K     \u001b[90m━━━━━━━━━━━━━━━━━━━━━━━━━━━━━━━━━━━━━━━━\u001b[0m \u001b[32m2.2/2.2 MB\u001b[0m \u001b[31m15.4 MB/s\u001b[0m eta \u001b[36m0:00:00\u001b[0m\n",
            "\u001b[?25hRequirement already satisfied: sympy in /usr/local/lib/python3.10/dist-packages (from torch->mvdream==0.0.1) (1.12)\n",
            "Requirement already satisfied: networkx in /usr/local/lib/python3.10/dist-packages (from torch->mvdream==0.0.1) (3.2.1)\n",
            "Requirement already satisfied: jinja2 in /usr/local/lib/python3.10/dist-packages (from torch->mvdream==0.0.1) (3.1.3)\n",
            "Collecting nvidia-cuda-nvrtc-cu12==12.1.105 (from torch->mvdream==0.0.1)\n",
            "  Downloading nvidia_cuda_nvrtc_cu12-12.1.105-py3-none-manylinux1_x86_64.whl (23.7 MB)\n",
            "\u001b[2K     \u001b[90m━━━━━━━━━━━━━━━━━━━━━━━━━━━━━━━━━━━━━━━━\u001b[0m \u001b[32m23.7/23.7 MB\u001b[0m \u001b[31m20.3 MB/s\u001b[0m eta \u001b[36m0:00:00\u001b[0m\n",
            "\u001b[?25hCollecting nvidia-cuda-runtime-cu12==12.1.105 (from torch->mvdream==0.0.1)\n",
            "  Downloading nvidia_cuda_runtime_cu12-12.1.105-py3-none-manylinux1_x86_64.whl (823 kB)\n",
            "\u001b[2K     \u001b[90m━━━━━━━━━━━━━━━━━━━━━━━━━━━━━━━━━━━━━━━━\u001b[0m \u001b[32m823.6/823.6 kB\u001b[0m \u001b[31m41.8 MB/s\u001b[0m eta \u001b[36m0:00:00\u001b[0m\n",
            "\u001b[?25hCollecting nvidia-cuda-cupti-cu12==12.1.105 (from torch->mvdream==0.0.1)\n",
            "  Downloading nvidia_cuda_cupti_cu12-12.1.105-py3-none-manylinux1_x86_64.whl (14.1 MB)\n",
            "\u001b[2K     \u001b[90m━━━━━━━━━━━━━━━━━━━━━━━━━━━━━━━━━━━━━━━━\u001b[0m \u001b[32m14.1/14.1 MB\u001b[0m \u001b[31m38.6 MB/s\u001b[0m eta \u001b[36m0:00:00\u001b[0m\n",
            "\u001b[?25hCollecting nvidia-cudnn-cu12==8.9.2.26 (from torch->mvdream==0.0.1)\n",
            "  Downloading nvidia_cudnn_cu12-8.9.2.26-py3-none-manylinux1_x86_64.whl (731.7 MB)\n",
            "\u001b[2K     \u001b[90m━━━━━━━━━━━━━━━━━━━━━━━━━━━━━━━━━━━━━━━━\u001b[0m \u001b[32m731.7/731.7 MB\u001b[0m \u001b[31m2.1 MB/s\u001b[0m eta \u001b[36m0:00:00\u001b[0m\n",
            "\u001b[?25hCollecting nvidia-cublas-cu12==12.1.3.1 (from torch->mvdream==0.0.1)\n",
            "  Downloading nvidia_cublas_cu12-12.1.3.1-py3-none-manylinux1_x86_64.whl (410.6 MB)\n",
            "\u001b[2K     \u001b[90m━━━━━━━━━━━━━━━━━━━━━━━━━━━━━━━━━━━━━━━━\u001b[0m \u001b[32m410.6/410.6 MB\u001b[0m \u001b[31m2.7 MB/s\u001b[0m eta \u001b[36m0:00:00\u001b[0m\n",
            "\u001b[?25hCollecting nvidia-cufft-cu12==11.0.2.54 (from torch->mvdream==0.0.1)\n",
            "  Downloading nvidia_cufft_cu12-11.0.2.54-py3-none-manylinux1_x86_64.whl (121.6 MB)\n",
            "\u001b[2K     \u001b[90m━━━━━━━━━━━━━━━━━━━━━━━━━━━━━━━━━━━━━━━━\u001b[0m \u001b[32m121.6/121.6 MB\u001b[0m \u001b[31m8.8 MB/s\u001b[0m eta \u001b[36m0:00:00\u001b[0m\n",
            "\u001b[?25hCollecting nvidia-curand-cu12==10.3.2.106 (from torch->mvdream==0.0.1)\n",
            "  Downloading nvidia_curand_cu12-10.3.2.106-py3-none-manylinux1_x86_64.whl (56.5 MB)\n",
            "\u001b[2K     \u001b[90m━━━━━━━━━━━━━━━━━━━━━━━━━━━━━━━━━━━━━━━━\u001b[0m \u001b[32m56.5/56.5 MB\u001b[0m \u001b[31m11.6 MB/s\u001b[0m eta \u001b[36m0:00:00\u001b[0m\n",
            "\u001b[?25hCollecting nvidia-cusolver-cu12==11.4.5.107 (from torch->mvdream==0.0.1)\n",
            "  Downloading nvidia_cusolver_cu12-11.4.5.107-py3-none-manylinux1_x86_64.whl (124.2 MB)\n",
            "\u001b[2K     \u001b[90m━━━━━━━━━━━━━━━━━━━━━━━━━━━━━━━━━━━━━━━━\u001b[0m \u001b[32m124.2/124.2 MB\u001b[0m \u001b[31m8.4 MB/s\u001b[0m eta \u001b[36m0:00:00\u001b[0m\n",
            "\u001b[?25hCollecting nvidia-cusparse-cu12==12.1.0.106 (from torch->mvdream==0.0.1)\n",
            "  Downloading nvidia_cusparse_cu12-12.1.0.106-py3-none-manylinux1_x86_64.whl (196.0 MB)\n",
            "\u001b[2K     \u001b[90m━━━━━━━━━━━━━━━━━━━━━━━━━━━━━━━━━━━━━━━━\u001b[0m \u001b[32m196.0/196.0 MB\u001b[0m \u001b[31m4.0 MB/s\u001b[0m eta \u001b[36m0:00:00\u001b[0m\n",
            "\u001b[?25hCollecting nvidia-nccl-cu12==2.19.3 (from torch->mvdream==0.0.1)\n",
            "  Downloading nvidia_nccl_cu12-2.19.3-py3-none-manylinux1_x86_64.whl (166.0 MB)\n",
            "\u001b[2K     \u001b[90m━━━━━━━━━━━━━━━━━━━━━━━━━━━━━━━━━━━━━━━━\u001b[0m \u001b[32m166.0/166.0 MB\u001b[0m \u001b[31m5.8 MB/s\u001b[0m eta \u001b[36m0:00:00\u001b[0m\n",
            "\u001b[?25hCollecting nvidia-nvtx-cu12==12.1.105 (from torch->mvdream==0.0.1)\n",
            "  Downloading nvidia_nvtx_cu12-12.1.105-py3-none-manylinux1_x86_64.whl (99 kB)\n",
            "\u001b[2K     \u001b[90m━━━━━━━━━━━━━━━━━━━━━━━━━━━━━━━━━━━━━━━━\u001b[0m \u001b[32m99.1/99.1 kB\u001b[0m \u001b[31m15.6 MB/s\u001b[0m eta \u001b[36m0:00:00\u001b[0m\n",
            "\u001b[?25hRequirement already satisfied: triton==2.2.0 in /usr/local/lib/python3.10/dist-packages (from torch->mvdream==0.0.1) (2.2.0)\n",
            "Collecting nvidia-nvjitlink-cu12 (from nvidia-cusolver-cu12==11.4.5.107->torch->mvdream==0.0.1)\n",
            "  Downloading nvidia_nvjitlink_cu12-12.4.99-py3-none-manylinux2014_x86_64.whl (21.1 MB)\n",
            "\u001b[2K     \u001b[90m━━━━━━━━━━━━━━━━━━━━━━━━━━━━━━━━━━━━━━━━\u001b[0m \u001b[32m21.1/21.1 MB\u001b[0m \u001b[31m75.7 MB/s\u001b[0m eta \u001b[36m0:00:00\u001b[0m\n",
            "\u001b[?25hRequirement already satisfied: tokenizers<0.19,>=0.14 in /usr/local/lib/python3.10/dist-packages (from transformers->mvdream==0.0.1) (0.15.2)\n",
            "Requirement already satisfied: safetensors>=0.4.1 in /usr/local/lib/python3.10/dist-packages (from transformers->mvdream==0.0.1) (0.4.2)\n",
            "Requirement already satisfied: wcwidth<0.3.0,>=0.2.12 in /usr/local/lib/python3.10/dist-packages (from ftfy->open-clip-torch->mvdream==0.0.1) (0.2.13)\n",
            "Requirement already satisfied: MarkupSafe>=2.0 in /usr/local/lib/python3.10/dist-packages (from jinja2->torch->mvdream==0.0.1) (2.1.5)\n",
            "Requirement already satisfied: charset-normalizer<4,>=2 in /usr/local/lib/python3.10/dist-packages (from requests->huggingface_hub->mvdream==0.0.1) (3.3.2)\n",
            "Requirement already satisfied: idna<4,>=2.5 in /usr/local/lib/python3.10/dist-packages (from requests->huggingface_hub->mvdream==0.0.1) (3.6)\n",
            "Requirement already satisfied: urllib3<3,>=1.21.1 in /usr/local/lib/python3.10/dist-packages (from requests->huggingface_hub->mvdream==0.0.1) (2.0.7)\n",
            "Requirement already satisfied: certifi>=2017.4.17 in /usr/local/lib/python3.10/dist-packages (from requests->huggingface_hub->mvdream==0.0.1) (2024.2.2)\n",
            "Requirement already satisfied: mpmath>=0.19 in /usr/local/lib/python3.10/dist-packages (from sympy->torch->mvdream==0.0.1) (1.3.0)\n",
            "Requirement already satisfied: pillow!=8.3.*,>=5.3.0 in /usr/local/lib/python3.10/dist-packages (from torchvision->open-clip-torch->mvdream==0.0.1) (9.4.0)\n",
            "Building wheels for collected packages: mvdream, antlr4-python3-runtime\n",
            "  Building wheel for mvdream (setup.py) ... \u001b[?25l\u001b[?25hdone\n",
            "  Created wheel for mvdream: filename=mvdream-0.0.1-py3-none-any.whl size=40718 sha256=3487160fcd51a68e844aeb851f3a522abb3a0d23b82322e765c20bc01b73bbda\n",
            "  Stored in directory: /tmp/pip-ephem-wheel-cache-04ql8knd/wheels/b2/a0/4b/86d2e1e7cdd2d7132bc9f08bc280d7bca1c8b02b6010927686\n",
            "  Building wheel for antlr4-python3-runtime (setup.py) ... \u001b[?25l\u001b[?25hdone\n",
            "  Created wheel for antlr4-python3-runtime: filename=antlr4_python3_runtime-4.9.3-py3-none-any.whl size=144554 sha256=8f718c5e8d4c21a5152cec9dffd2d333f0999decef53601bd7ed8c1c75361f29\n",
            "  Stored in directory: /root/.cache/pip/wheels/12/93/dd/1f6a127edc45659556564c5730f6d4e300888f4bca2d4c5a88\n",
            "Successfully built mvdream antlr4-python3-runtime\n",
            "Installing collected packages: antlr4-python3-runtime, omegaconf, nvidia-nvtx-cu12, nvidia-nvjitlink-cu12, nvidia-nccl-cu12, nvidia-curand-cu12, nvidia-cufft-cu12, nvidia-cuda-runtime-cu12, nvidia-cuda-nvrtc-cu12, nvidia-cuda-cupti-cu12, nvidia-cublas-cu12, ftfy, einops, nvidia-cusparse-cu12, nvidia-cudnn-cu12, nvidia-cusolver-cu12, timm, open-clip-torch, mvdream\n",
            "Successfully installed antlr4-python3-runtime-4.9.3 einops-0.7.0 ftfy-6.2.0 mvdream-0.0.1 nvidia-cublas-cu12-12.1.3.1 nvidia-cuda-cupti-cu12-12.1.105 nvidia-cuda-nvrtc-cu12-12.1.105 nvidia-cuda-runtime-cu12-12.1.105 nvidia-cudnn-cu12-8.9.2.26 nvidia-cufft-cu12-11.0.2.54 nvidia-curand-cu12-10.3.2.106 nvidia-cusolver-cu12-11.4.5.107 nvidia-cusparse-cu12-12.1.0.106 nvidia-nccl-cu12-2.19.3 nvidia-nvjitlink-cu12-12.4.99 nvidia-nvtx-cu12-12.1.105 omegaconf-2.3.0 open-clip-torch-2.24.0 timm-0.9.16\n"
          ]
        },
        {
          "output_type": "display_data",
          "data": {
            "application/vnd.colab-display-data+json": {
              "pip_warning": {
                "packages": [
                  "pydevd_plugins"
                ]
              },
              "id": "1cdf8b2a07614356aa161faccdd2d147"
            }
          },
          "metadata": {}
        }
      ]
    },
    {
      "cell_type": "code",
      "execution_count": 2,
      "metadata": {
        "id": "JNsKObyCxPlF"
      },
      "outputs": [],
      "source": [
        "import torch\n",
        "import matplotlib.pyplot as plt\n",
        "import numpy as np\n",
        "from mvdream.model_zoo import build_model\n",
        "from mvdream.camera_utils import get_camera\n",
        "from mvdream.ldm.models.diffusion.ddim import DDIMSampler"
      ]
    },
    {
      "cell_type": "code",
      "source": [
        "model = build_model(\"sd-v2.1-base-4view\")"
      ],
      "metadata": {
        "colab": {
          "base_uri": "https://localhost:8080/",
          "height": 289,
          "referenced_widgets": [
            "215fe8592d40439b8296ad2f557aaaf7",
            "5bc95a5e0d3f4895b04a570499923e2b",
            "e5382ca55c4147588ca3ee0312dd598e",
            "4abdd85d08bf4c08a607a66538446e0d",
            "d39220d481604a1faa3706502d0d7aea",
            "7d04be42dcec40c9a347b7a2153ba2c1",
            "a7c29e4e7cca4670a3cb1c151f067d11",
            "d660564e23ba496ea37fff6a65139caf",
            "d1241c53b00a4b0faa62b6d32c717ccd",
            "da44e535888c4d158b27b93c89d633bf",
            "d6c9a6be2aa14461936865567d744d21",
            "535ae22c72be49c8a9af34df4def6954",
            "7d52787778d840d29b7dcff5455fe68d",
            "bf3ed01e5a374ce88c8fa83ac523fb7d",
            "9c76b22d0e234bd493b395021f255714",
            "431c8765c88440a79049f67e5b429522",
            "070e769024fe46a0a5fc1219150cd301",
            "41392667baed48ebaf92ea4ebd6e083c",
            "6dde394409c744bbbcefc521bda4a8fb",
            "04d12515c9be48bdbbe4584fcfbca08d",
            "eb438c833a394476aab93428911d9c9f",
            "5c9d7cd847204df2916eea7a3b976ff1"
          ]
        },
        "id": "MMkBO4D7yMma",
        "outputId": "346d4de0-9ad2-45fd-8bd4-94a986d305c0"
      },
      "execution_count": 3,
      "outputs": [
        {
          "output_type": "stream",
          "name": "stdout",
          "text": [
            "Loading model from config: sd-v2-base.yaml\n"
          ]
        },
        {
          "output_type": "stream",
          "name": "stderr",
          "text": [
            "/usr/local/lib/python3.10/dist-packages/huggingface_hub/utils/_token.py:88: UserWarning: \n",
            "The secret `HF_TOKEN` does not exist in your Colab secrets.\n",
            "To authenticate with the Hugging Face Hub, create a token in your settings tab (https://huggingface.co/settings/tokens), set it as secret in your Google Colab and restart your session.\n",
            "You will be able to reuse this secret in all of your notebooks.\n",
            "Please note that authentication is recommended but still optional to access public models or datasets.\n",
            "  warnings.warn(\n"
          ]
        },
        {
          "output_type": "display_data",
          "data": {
            "text/plain": [
              "open_clip_pytorch_model.bin:   0%|          | 0.00/3.94G [00:00<?, ?B/s]"
            ],
            "application/vnd.jupyter.widget-view+json": {
              "version_major": 2,
              "version_minor": 0,
              "model_id": "215fe8592d40439b8296ad2f557aaaf7"
            }
          },
          "metadata": {}
        },
        {
          "output_type": "stream",
          "name": "stdout",
          "text": [
            "No module 'xformers'. Proceeding without it.\n",
            "making attention of type 'vanilla' with 512 in_channels\n",
            "Working with z of shape (1, 4, 32, 32) = 4096 dimensions.\n",
            "making attention of type 'vanilla' with 512 in_channels\n"
          ]
        },
        {
          "output_type": "display_data",
          "data": {
            "text/plain": [
              "sd-v2.1-base-4view.pt:   0%|          | 0.00/5.22G [00:00<?, ?B/s]"
            ],
            "application/vnd.jupyter.widget-view+json": {
              "version_major": 2,
              "version_minor": 0,
              "model_id": "535ae22c72be49c8a9af34df4def6954"
            }
          },
          "metadata": {}
        },
        {
          "output_type": "stream",
          "name": "stdout",
          "text": [
            "Loading model from cache file: /root/.cache/huggingface/hub/models--MVDream--MVDream/snapshots/d14ac9d78c48c266005729f2d5633f6c265da467/sd-v2.1-base-4view.pt\n"
          ]
        }
      ]
    },
    {
      "cell_type": "code",
      "source": [
        "device = torch.device(\"cuda\" if torch.cuda.is_available() else \"cpu\")"
      ],
      "metadata": {
        "id": "_EFsBvZo-aap"
      },
      "execution_count": 4,
      "outputs": []
    },
    {
      "cell_type": "code",
      "source": [
        "# import argparse\n",
        "# parser = argparse.ArgumentParser()\n",
        "# parser.add_argument(\"--model_name\", type=str, default=\"sd-v2.1-base-4view\", help=\"load pre-trained model from hugginface\")\n",
        "# parser.add_argument(\"--config_path\", type=str, default=None, help=\"load model from local config (override model_name)\")\n",
        "# parser.add_argument(\"--ckpt_path\", type=str, default=None, help=\"path to local checkpoint\")\n",
        "# parser.add_argument(\"--text\", type=str, default=\"an astronaut riding a horse\")\n",
        "# parser.add_argument(\"--suffix\", type=str, default=\", 3d asset\")\n",
        "# parser.add_argument(\"--size\", type=int, default=256)\n",
        "# parser.add_argument(\"--num_frames\", type=int, default=4, help=\"num of frames (views) to generate\")\n",
        "# parser.add_argument(\"--use_camera\", type=int, default=1)\n",
        "# parser.add_argument(\"--camera_elev\", type=int, default=15)\n",
        "# parser.add_argument(\"--camera_azim\", type=int, default=90)\n",
        "# parser.add_argument(\"--camera_azim_span\", type=int, default=360)\n",
        "# parser.add_argument(\"--seed\", type=int, default=23)\n",
        "# parser.add_argument(\"--fp16\", action=\"store_true\")\n",
        "# parser.add_argument(\"--device\", type=str, default='cuda')\n",
        "# args = parser.parse_args()"
      ],
      "metadata": {
        "colab": {
          "base_uri": "https://localhost:8080/",
          "height": 245
        },
        "id": "JxBI4Kmi_ZhD",
        "outputId": "0c6200d3-e151-4c48-a8d0-22ded8d969ba"
      },
      "execution_count": 30,
      "outputs": [
        {
          "output_type": "stream",
          "name": "stderr",
          "text": [
            "usage: colab_kernel_launcher.py [-h] [--model_name MODEL_NAME] [--config_path CONFIG_PATH]\n",
            "                                [--ckpt_path CKPT_PATH] [--text TEXT] [--suffix SUFFIX]\n",
            "                                [--size SIZE] [--num_frames NUM_FRAMES] [--use_camera USE_CAMERA]\n",
            "                                [--camera_elev CAMERA_ELEV] [--camera_azim CAMERA_AZIM]\n",
            "                                [--camera_azim_span CAMERA_AZIM_SPAN] [--seed SEED] [--fp16]\n",
            "                                [--device DEVICE]\n",
            "colab_kernel_launcher.py: error: unrecognized arguments: -f /root/.local/share/jupyter/runtime/kernel-f92e3f45-1980-40c1-8b98-acb33facf941.json\n"
          ]
        },
        {
          "output_type": "error",
          "ename": "SystemExit",
          "evalue": "2",
          "traceback": [
            "An exception has occurred, use %tb to see the full traceback.\n",
            "\u001b[0;31mSystemExit\u001b[0m\u001b[0;31m:\u001b[0m 2\n"
          ]
        },
        {
          "output_type": "stream",
          "name": "stderr",
          "text": [
            "/usr/local/lib/python3.10/dist-packages/IPython/core/interactiveshell.py:3561: UserWarning: To exit: use 'exit', 'quit', or Ctrl-D.\n",
            "  warn(\"To exit: use 'exit', 'quit', or Ctrl-D.\", stacklevel=1)\n"
          ]
        }
      ]
    },
    {
      "cell_type": "code",
      "source": [
        "def t2i(model, img_size, prompt, uc, sampler, step=20, scale=7.5, batch_size=4,\n",
        "        ddim_eta=0., dtype=torch.float32, device=\"cuda\", camera=None, num_frames=1):\n",
        "  if type(prompt) != list:\n",
        "    prompt = [prompt]\n",
        "  with torch.no_grad():\n",
        "    c = model.get_learned_conditioning(prompt).to(device)\n",
        "    c_ = {\"context\": c.repeat(batch_size, 1, 1)}\n",
        "    uc_ = {\"context\": uc.repeat(batch_size, 1, 1)}\n",
        "    if camera is not None:\n",
        "      c_[\"camera\"] = uc_[\"camera\"] = camera\n",
        "      c_[\"num_frames\"] = uc_[\"num_frames\"] = num_frames\n",
        "\n",
        "    shape = [4, img_size // 8, img_size // 8]\n",
        "    samples_ddim, _ = sampler.sample(S=step, conditioning=c_,\n",
        "                                        batch_size=batch_size, shape=shape,\n",
        "                                        verbose=False,\n",
        "                                        unconditional_guidance_scale=scale,\n",
        "                                        unconditional_conditioning=uc_,\n",
        "                                        eta=ddim_eta, x_T=None)\n",
        "    x_sample = model.decode_first_stage(samples_ddim)\n",
        "    x_sample = torch.clamp((x_sample + 1.0) / 2.0, min=0.0, max=1.0)\n",
        "    x_sample = 255. * x_sample.permute(0,2,3,1).cpu().numpy()\n",
        "\n",
        "  return list(x_sample.astype(np.uint8))"
      ],
      "metadata": {
        "id": "r5AO5LnYxYA4"
      },
      "execution_count": 5,
      "outputs": []
    },
    {
      "cell_type": "code",
      "source": [
        "def create_camera_to_world_matrix(elevation, azimuth):\n",
        "    elevation = np.radians(elevation)\n",
        "    azimuth = np.radians(azimuth)\n",
        "    # Convert elevation and azimuth angles to Cartesian coordinates on a unit sphere\n",
        "    x = np.cos(elevation) * np.sin(azimuth)\n",
        "    y = np.sin(elevation)\n",
        "    z = np.cos(elevation) * np.cos(azimuth)\n",
        "\n",
        "    # Calculate camera position, target, and up vectors\n",
        "    camera_pos = np.array([x, y, z])\n",
        "    target = np.array([0, 0, 0])\n",
        "    up = np.array([0, 1, 0])\n",
        "\n",
        "    # Construct view matrix\n",
        "    forward = target - camera_pos\n",
        "    forward /= np.linalg.norm(forward)\n",
        "    right = np.cross(forward, up)\n",
        "    right /= np.linalg.norm(right)\n",
        "    new_up = np.cross(right, forward)\n",
        "    new_up /= np.linalg.norm(new_up)\n",
        "    cam2world = np.eye(4)\n",
        "    cam2world[:3, :3] = np.array([right, new_up, -forward]).T\n",
        "    cam2world[:3, 3] = camera_pos\n",
        "    return cam2world\n",
        "\n",
        "\n",
        "def convert_opengl_to_blender(camera_matrix):\n",
        "    if isinstance(camera_matrix, np.ndarray):\n",
        "        # Construct transformation matrix to convert from OpenGL space to Blender space\n",
        "        flip_yz = np.array([[1, 0, 0, 0], [0, 0, -1, 0], [0, 1, 0, 0], [0, 0, 0, 1]])\n",
        "        camera_matrix_blender = np.dot(flip_yz, camera_matrix)\n",
        "    else:\n",
        "        # Construct transformation matrix to convert from OpenGL space to Blender space\n",
        "        flip_yz = torch.tensor([[1, 0, 0, 0], [0, 0, -1, 0], [0, 1, 0, 0], [0, 0, 0, 1]])\n",
        "        if camera_matrix.ndim == 3:\n",
        "            flip_yz = flip_yz.unsqueeze(0)\n",
        "        camera_matrix_blender = torch.matmul(flip_yz.to(camera_matrix), camera_matrix)\n",
        "    return camera_matrix_blender\n",
        "\n",
        "\n",
        "def normalize_camera(camera_matrix):\n",
        "    ''' normalize the camera location onto a unit-sphere'''\n",
        "    if isinstance(camera_matrix, np.ndarray):\n",
        "        camera_matrix = camera_matrix.reshape(-1,4,4)\n",
        "        translation = camera_matrix[:,:3,3]\n",
        "        translation = translation / (np.linalg.norm(translation, axis=1, keepdims=True) + 1e-8)\n",
        "        camera_matrix[:,:3,3] = translation\n",
        "    else:\n",
        "        camera_matrix = camera_matrix.reshape(-1,4,4)\n",
        "        translation = camera_matrix[:,:3,3]\n",
        "        translation = translation / (torch.norm(translation, dim=1, keepdim=True) + 1e-8)\n",
        "        camera_matrix[:,:3,3] = translation\n",
        "    return camera_matrix.reshape(-1,16)\n",
        "\n",
        "\n",
        "def get_camera(num_frames, elevation=15, azimuth_start=0, azimuth_span=360, blender_coord=True):\n",
        "    angle_gap = azimuth_span / num_frames\n",
        "    cameras = []\n",
        "    for azimuth in np.arange(azimuth_start, azimuth_span+azimuth_start, angle_gap):\n",
        "        camera_matrix = create_camera_to_world_matrix(elevation, azimuth)\n",
        "        if blender_coord:\n",
        "            camera_matrix = convert_opengl_to_blender(camera_matrix)\n",
        "        cameras.append(camera_matrix.flatten())\n",
        "    return torch.tensor(np.stack(cameras, 0)).float()"
      ],
      "metadata": {
        "id": "u8s9JDL_SfQW"
      },
      "execution_count": 6,
      "outputs": []
    },
    {
      "cell_type": "code",
      "source": [
        "camera = get_camera(4).to(device)\n",
        "print(\"camera\", camera[0])"
      ],
      "metadata": {
        "colab": {
          "base_uri": "https://localhost:8080/"
        },
        "id": "wVV4xr5CH8aZ",
        "outputId": "e5699104-df05-4bfa-ba6a-99b55b459283"
      },
      "execution_count": 47,
      "outputs": [
        {
          "output_type": "stream",
          "name": "stdout",
          "text": [
            "camera tensor([[ 1.0000,  0.0000, -0.0000,  0.0000],\n",
            "        [-0.0000,  0.9659,  0.2588,  0.2588],\n",
            "        [ 0.0000, -0.2588,  0.9659,  0.9659],\n",
            "        [ 0.0000,  0.0000,  0.0000,  1.0000]], device='cuda:0')\n"
          ]
        }
      ]
    },
    {
      "cell_type": "code",
      "source": [
        "normal = normalize_camera(camera)\n",
        "print(\"normal\", normal[2])"
      ],
      "metadata": {
        "colab": {
          "base_uri": "https://localhost:8080/"
        },
        "id": "Njf0zFhaTIRw",
        "outputId": "7b29daee-76a7-44a0-ead3-1a223c387f5e"
      },
      "execution_count": 30,
      "outputs": [
        {
          "output_type": "stream",
          "name": "stdout",
          "text": [
            "normal tensor([-1.0000e+00, -3.1696e-17,  1.1829e-16,  1.1829e-16,  1.2246e-16,\n",
            "        -2.5882e-01,  9.6593e-01,  9.6593e-01,  0.0000e+00,  9.6593e-01,\n",
            "         2.5882e-01,  2.5882e-01,  0.0000e+00,  0.0000e+00,  0.0000e+00,\n",
            "         1.0000e+00], device='cuda:0')\n"
          ]
        }
      ]
    },
    {
      "cell_type": "code",
      "source": [
        "batch_size = 4\n",
        "num_frames = 4\n",
        "\n",
        "camera = get_camera(4).to(device)\n",
        "print(\"camera\", camera[0])\n",
        "model.device = device\n",
        "model.to(device)\n",
        "model.eval()\n",
        "sampler = DDIMSampler(model)\n",
        "uc = model.get_learned_conditioning( [\"\"] ).to(device)\n",
        "\n",
        "prompt = \"an astronaut riding a horse\"\n",
        "\n",
        "images = []\n",
        "\n",
        "for j in range(3):\n",
        "  img = t2i(model, 256, prompt, uc, sampler, step=50, scale=10, batch_size=batch_size, ddim_eta=0.0,\n",
        "            dtype=torch.float32, device=device, camera=camera, num_frames=num_frames)\n",
        "  img = np.concatenate(img, 1)\n",
        "  images.append(img)"
      ],
      "metadata": {
        "colab": {
          "base_uri": "https://localhost:8080/"
        },
        "id": "cgGZFHrP9SRY",
        "outputId": "a08d8bb7-6f90-4b85-ede9-1bd7a2e9ea95"
      },
      "execution_count": 7,
      "outputs": [
        {
          "output_type": "stream",
          "name": "stdout",
          "text": [
            "camera tensor([ 1.0000,  0.0000,  0.0000,  0.0000,  0.0000,  0.2588, -0.9659, -0.9659,\n",
            "         0.0000,  0.9659,  0.2588,  0.2588,  0.0000,  0.0000,  0.0000,  1.0000],\n",
            "       device='cuda:0')\n"
          ]
        },
        {
          "output_type": "stream",
          "name": "stderr",
          "text": [
            "DDIM Sampler: 100%|██████████| 50/50 [00:24<00:00,  2.05it/s]\n",
            "DDIM Sampler: 100%|██████████| 50/50 [00:23<00:00,  2.09it/s]\n",
            "DDIM Sampler: 100%|██████████| 50/50 [00:24<00:00,  2.06it/s]\n"
          ]
        }
      ]
    },
    {
      "cell_type": "code",
      "source": [
        "print(camera)"
      ],
      "metadata": {
        "colab": {
          "base_uri": "https://localhost:8080/"
        },
        "id": "BfJ5YFrpWnKf",
        "outputId": "3fb8fef9-f6cc-4dec-8acf-f5bb87b04071"
      },
      "execution_count": 8,
      "outputs": [
        {
          "output_type": "stream",
          "name": "stdout",
          "text": [
            "tensor([[ 1.0000e+00,  0.0000e+00,  0.0000e+00,  0.0000e+00,  0.0000e+00,\n",
            "          2.5882e-01, -9.6593e-01, -9.6593e-01,  0.0000e+00,  9.6593e-01,\n",
            "          2.5882e-01,  2.5882e-01,  0.0000e+00,  0.0000e+00,  0.0000e+00,\n",
            "          1.0000e+00],\n",
            "        [ 6.1232e-17, -2.5882e-01,  9.6593e-01,  9.6593e-01,  1.0000e+00,\n",
            "          1.5848e-17, -5.9146e-17, -5.9146e-17,  0.0000e+00,  9.6593e-01,\n",
            "          2.5882e-01,  2.5882e-01,  0.0000e+00,  0.0000e+00,  0.0000e+00,\n",
            "          1.0000e+00],\n",
            "        [-1.0000e+00, -3.1696e-17,  1.1829e-16,  1.1829e-16,  1.2246e-16,\n",
            "         -2.5882e-01,  9.6593e-01,  9.6593e-01,  0.0000e+00,  9.6593e-01,\n",
            "          2.5882e-01,  2.5882e-01,  0.0000e+00,  0.0000e+00,  0.0000e+00,\n",
            "          1.0000e+00],\n",
            "        [-1.8370e-16,  2.5882e-01, -9.6593e-01, -9.6593e-01, -1.0000e+00,\n",
            "         -4.7544e-17,  1.7744e-16,  1.7744e-16,  0.0000e+00,  9.6593e-01,\n",
            "          2.5882e-01,  2.5882e-01,  0.0000e+00,  0.0000e+00,  0.0000e+00,\n",
            "          1.0000e+00]])\n"
          ]
        }
      ]
    },
    {
      "cell_type": "code",
      "source": [
        "reshape = camera.reshape(4, 4, 4)\n",
        "print(reshape)\n",
        "r32 = reshape[:, 2, 1]\n",
        "r33 = reshape[:, 2, 2]\n",
        "print(r32)\n",
        "print(r33)\n",
        "# Phi\n",
        "x_angle = torch.atan2(r32, r33)\n",
        "print(\"x_angle\", x_angle)\n",
        "\n",
        "r31 = reshape[:, 2, 0]\n",
        "print(r31)\n",
        "sqrt = torch.sqrt(r32**2 + r33**2)\n",
        "y_angle = torch.atan2(-r31, sqrt)\n",
        "print(\"y_angle\", y_angle)\n",
        "r21 = reshape[:, 1, 0]\n",
        "r11 = reshape[:, 0, 0]\n",
        "# Theta\n",
        "z_angle = torch.atan2(r21, r11)\n",
        "print(\"z_angle\", z_angle)"
      ],
      "metadata": {
        "colab": {
          "base_uri": "https://localhost:8080/"
        },
        "id": "Azg6ngZyZxPV",
        "outputId": "ea2d4bf7-99e8-4e53-d131-2f251b50fe6d"
      },
      "execution_count": 8,
      "outputs": [
        {
          "output_type": "stream",
          "name": "stdout",
          "text": [
            "tensor([[[ 1.0000e+00,  0.0000e+00,  0.0000e+00,  0.0000e+00],\n",
            "         [ 0.0000e+00,  2.5882e-01, -9.6593e-01, -9.6593e-01],\n",
            "         [ 0.0000e+00,  9.6593e-01,  2.5882e-01,  2.5882e-01],\n",
            "         [ 0.0000e+00,  0.0000e+00,  0.0000e+00,  1.0000e+00]],\n",
            "\n",
            "        [[ 6.1232e-17, -2.5882e-01,  9.6593e-01,  9.6593e-01],\n",
            "         [ 1.0000e+00,  1.5848e-17, -5.9146e-17, -5.9146e-17],\n",
            "         [ 0.0000e+00,  9.6593e-01,  2.5882e-01,  2.5882e-01],\n",
            "         [ 0.0000e+00,  0.0000e+00,  0.0000e+00,  1.0000e+00]],\n",
            "\n",
            "        [[-1.0000e+00, -3.1696e-17,  1.1829e-16,  1.1829e-16],\n",
            "         [ 1.2246e-16, -2.5882e-01,  9.6593e-01,  9.6593e-01],\n",
            "         [ 0.0000e+00,  9.6593e-01,  2.5882e-01,  2.5882e-01],\n",
            "         [ 0.0000e+00,  0.0000e+00,  0.0000e+00,  1.0000e+00]],\n",
            "\n",
            "        [[-1.8370e-16,  2.5882e-01, -9.6593e-01, -9.6593e-01],\n",
            "         [-1.0000e+00, -4.7544e-17,  1.7744e-16,  1.7744e-16],\n",
            "         [ 0.0000e+00,  9.6593e-01,  2.5882e-01,  2.5882e-01],\n",
            "         [ 0.0000e+00,  0.0000e+00,  0.0000e+00,  1.0000e+00]]],\n",
            "       device='cuda:0')\n",
            "tensor([0.9659, 0.9659, 0.9659, 0.9659], device='cuda:0')\n",
            "tensor([0.2588, 0.2588, 0.2588, 0.2588], device='cuda:0')\n",
            "x_angle tensor([1.3090, 1.3090, 1.3090, 1.3090], device='cuda:0')\n",
            "tensor([0., 0., 0., 0.], device='cuda:0')\n",
            "y_angle tensor([-0., -0., -0., -0.], device='cuda:0')\n",
            "tensor([ 0.0000e+00,  1.0000e+00,  1.2246e-16, -1.0000e+00], device='cuda:0')\n",
            "z_angle tensor([ 0.0000,  1.5708,  3.1416, -1.5708], device='cuda:0')\n"
          ]
        }
      ]
    },
    {
      "cell_type": "code",
      "source": [
        "plt.imshow(images[0])\n",
        "plt.colorbar() # This adds a color bar to the plot, showing the mapping of values to colors\n",
        "plt.title('Normalized Tensor as an Image')\n",
        "plt.show()"
      ],
      "metadata": {
        "colab": {
          "base_uri": "https://localhost:8080/",
          "height": 415
        },
        "id": "sKhbH-WnAPp5",
        "outputId": "99c5f7bd-38d6-47fb-8741-00b4a89be4f4"
      },
      "execution_count": 9,
      "outputs": [
        {
          "output_type": "display_data",
          "data": {
            "text/plain": [
              "<Figure size 640x480 with 2 Axes>"
            ],
            "image/png": "[encoded data removed]"
          },
          "metadata": {}
        }
      ]
    },
    {
      "cell_type": "markdown",
      "source": [
        "** Old **"
      ],
      "metadata": {
        "id": "JCQgSzlJH9y5"
      }
    },
    {
      "cell_type": "code",
      "source": [
        "def generate_sample(noise, t, cond):\n",
        "  with torch.no_grad():\n",
        "   return model.apply_model(noise, t, cond=cond)"
      ],
      "metadata": {
        "id": "j4KaXdh-2TxA"
      },
      "execution_count": 3,
      "outputs": []
    },
    {
      "cell_type": "code",
      "source": [
        "model.eval()\n",
        "model.cuda()\n",
        "eps = torch.randn(4,4,32,32, device=\"cuda\") # batch of 4x for 4 views, latent size 32=256/8\n",
        "cond = {\n",
        "    \"context\": model.get_learned_conditioning([\"an astronaut riding a horse\"]*4).cuda(), # text embeddings\n",
        "    \"camera\": get_camera(4).cuda(),\n",
        "    \"num_frames\": 4,\n",
        "}\n",
        "\n",
        "print(cond[\"camera\"])\n",
        "\n",
        "# for i in range(999):\n",
        "#   t = torch.tensor([999-i]*4, dtype=torch.long, device=\"cuda\") # same timestep for 4 views\n",
        "#   print(i)\n",
        "#   eps = generate_sample(eps, t, cond)"
      ],
      "metadata": {
        "id": "SaYEsscF2bIy"
      },
      "execution_count": 5,
      "outputs": []
    },
    {
      "cell_type": "code",
      "source": [
        "print(eps.shape)\n",
        "print(eps[0,0])"
      ],
      "metadata": {
        "colab": {
          "base_uri": "https://localhost:8080/"
        },
        "id": "oNrC5wCazVIP",
        "outputId": "42de3f1b-f71f-4ed7-ffaa-f8a409a0d4b1"
      },
      "execution_count": 12,
      "outputs": [
        {
          "output_type": "stream",
          "name": "stdout",
          "text": [
            "torch.Size([4, 4, 32, 32])\n",
            "tensor([[-2.8179e-01, -1.1754e-02,  3.1732e-01,  ...,  1.0585e-02,\n",
            "         -1.1158e-01,  5.9369e-02],\n",
            "        [ 2.1617e-01, -9.9394e-02,  5.8963e-02,  ...,  1.6961e-01,\n",
            "          8.7498e-04,  7.9160e-02],\n",
            "        [ 2.1318e-01,  2.1569e-01, -5.5724e-01,  ...,  5.0389e-01,\n",
            "         -6.0349e-02,  1.1243e-01],\n",
            "        ...,\n",
            "        [ 5.4231e-02, -3.3778e-01, -1.0393e-01,  ...,  1.0524e-01,\n",
            "         -1.8855e-01,  5.2397e-02],\n",
            "        [ 3.1680e-01, -1.3713e-01, -2.2507e-01,  ...,  7.1323e-01,\n",
            "         -2.0804e+00, -1.4328e-01],\n",
            "        [-3.5898e-01,  4.5031e-01,  3.4966e-01,  ...,  8.3054e-01,\n",
            "         -4.0353e-01,  1.5557e-01]], device='cuda:0')\n"
          ]
        }
      ]
    },
    {
      "cell_type": "code",
      "source": [
        "tensor_data = eps[1]\n",
        "# Normalize the tensor data between 0 and 1 for better visualization\n",
        "min_v = torch.min(eps)\n",
        "max_v = torch.max(eps)\n",
        "normalized_tensor = (tensor_data - min_v) / (max_v - min_v)\n",
        "input = normalized_tensor.cpu()\n",
        "print(input.shape)\n",
        "# Plot the normalized tensor as an image\n",
        "plt.imshow(input[3], cmap='gray')\n",
        "plt.colorbar() # This adds a color bar to the plot, showing the mapping of values to colors\n",
        "plt.title('Normalized Tensor as an Image')\n",
        "plt.show()"
      ],
      "metadata": {
        "colab": {
          "base_uri": "https://localhost:8080/",
          "height": 469
        },
        "id": "xFCjEhTz0L2C",
        "outputId": "05b3a2cf-70d5-4049-f6b7-5ccb74f951fa"
      },
      "execution_count": 15,
      "outputs": [
        {
          "output_type": "stream",
          "name": "stdout",
          "text": [
            "torch.Size([4, 32, 32])\n"
          ]
        },
        {
          "output_type": "display_data",
          "data": {
            "text/plain": [
              "<Figure size 640x480 with 2 Axes>"
            ],
            "image/png": "[encoded data removed]"
          },
          "metadata": {}
        }
      ]
    }
  ]
}